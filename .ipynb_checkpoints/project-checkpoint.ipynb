{
 "cells": [
  {
   "cell_type": "markdown",
   "id": "587164ea",
   "metadata": {},
   "source": [
    "# What do we have to do?\n",
    "\n",
    "- Data acquisition\n",
    "- Preparation\n",
    "- Cleaning and aggregation\n",
    "- Exploratory data analyis\n",
    "\n",
    "\n",
    "# Description\n",
    "\n",
    "xx\n",
    "xx\n",
    "xx\n",
    "\n",
    "***\n",
    "\n",
    "# Data\n",
    "Main datasets:\n",
    "- **movies_metadata.csv** - Movies dataset\n",
    "- **credits_cleaned01.csv** - List of people per movie (directors, actors, etc)\n",
    "\n",
    "***\n"
   ]
  },
  {
   "cell_type": "code",
   "execution_count": 64,
   "id": "9e42bc57",
   "metadata": {},
   "outputs": [],
   "source": [
    "import pandas as pd"
   ]
  },
  {
   "cell_type": "markdown",
   "id": "50d8a1b3",
   "metadata": {},
   "source": [
    "## Movies"
   ]
  },
  {
   "cell_type": "code",
   "execution_count": 65,
   "id": "e8e72abf",
   "metadata": {},
   "outputs": [
    {
     "name": "stdout",
     "output_type": "stream",
     "text": [
      "Columns:\n",
      "adult,  belongs_to_collection,  budget,  genres,  homepage,  id,  imdb_id,  original_language,  original_title,  overview,  popularity,  poster_path,  production_companies,  production_countries,  release_date,  revenue,  runtime,  spoken_languages,  status,  tagline,  title,  video,  vote_average,  vote_count\n"
     ]
    }
   ],
   "source": [
    "import pandas as pd\n",
    "movies = pd.read_csv('data/movies_metadata.csv',dtype={'popularity': 'float'})\n",
    "print('Columns:')\n",
    "print(',  '.join(movies))"
   ]
  },
  {
   "cell_type": "code",
   "execution_count": 66,
   "id": "c78722a8",
   "metadata": {},
   "outputs": [
    {
     "data": {
      "text/html": [
       "<div>\n",
       "<style scoped>\n",
       "    .dataframe tbody tr th:only-of-type {\n",
       "        vertical-align: middle;\n",
       "    }\n",
       "\n",
       "    .dataframe tbody tr th {\n",
       "        vertical-align: top;\n",
       "    }\n",
       "\n",
       "    .dataframe thead th {\n",
       "        text-align: right;\n",
       "    }\n",
       "</style>\n",
       "<table border=\"1\" class=\"dataframe\">\n",
       "  <thead>\n",
       "    <tr style=\"text-align: right;\">\n",
       "      <th></th>\n",
       "      <th>adult</th>\n",
       "      <th>belongs_to_collection</th>\n",
       "      <th>budget</th>\n",
       "      <th>genres</th>\n",
       "      <th>homepage</th>\n",
       "      <th>id</th>\n",
       "      <th>imdb_id</th>\n",
       "      <th>original_language</th>\n",
       "      <th>original_title</th>\n",
       "      <th>overview</th>\n",
       "      <th>...</th>\n",
       "      <th>release_date</th>\n",
       "      <th>revenue</th>\n",
       "      <th>runtime</th>\n",
       "      <th>spoken_languages</th>\n",
       "      <th>status</th>\n",
       "      <th>tagline</th>\n",
       "      <th>title</th>\n",
       "      <th>video</th>\n",
       "      <th>vote_average</th>\n",
       "      <th>vote_count</th>\n",
       "    </tr>\n",
       "  </thead>\n",
       "  <tbody>\n",
       "    <tr>\n",
       "      <th>0</th>\n",
       "      <td>False</td>\n",
       "      <td>{'id': 10194, 'name': 'Toy Story Collection', ...</td>\n",
       "      <td>30000000</td>\n",
       "      <td>[{'id': 16, 'name': 'Animation'}, {'id': 35, '...</td>\n",
       "      <td>http://toystory.disney.com/toy-story</td>\n",
       "      <td>862</td>\n",
       "      <td>tt0114709</td>\n",
       "      <td>en</td>\n",
       "      <td>Toy Story</td>\n",
       "      <td>Led by Woody, Andy's toys live happily in his ...</td>\n",
       "      <td>...</td>\n",
       "      <td>1995-10-30</td>\n",
       "      <td>373554033</td>\n",
       "      <td>81.0</td>\n",
       "      <td>[{'iso_639_1': 'en', 'name': 'English'}]</td>\n",
       "      <td>Released</td>\n",
       "      <td>NaN</td>\n",
       "      <td>Toy Story</td>\n",
       "      <td>False</td>\n",
       "      <td>7.7</td>\n",
       "      <td>5415</td>\n",
       "    </tr>\n",
       "  </tbody>\n",
       "</table>\n",
       "<p>1 rows × 24 columns</p>\n",
       "</div>"
      ],
      "text/plain": [
       "   adult                              belongs_to_collection    budget  \\\n",
       "0  False  {'id': 10194, 'name': 'Toy Story Collection', ...  30000000   \n",
       "\n",
       "                                              genres  \\\n",
       "0  [{'id': 16, 'name': 'Animation'}, {'id': 35, '...   \n",
       "\n",
       "                               homepage   id    imdb_id original_language  \\\n",
       "0  http://toystory.disney.com/toy-story  862  tt0114709                en   \n",
       "\n",
       "  original_title                                           overview  ...  \\\n",
       "0      Toy Story  Led by Woody, Andy's toys live happily in his ...  ...   \n",
       "\n",
       "   release_date    revenue runtime                          spoken_languages  \\\n",
       "0    1995-10-30  373554033    81.0  [{'iso_639_1': 'en', 'name': 'English'}]   \n",
       "\n",
       "     status  tagline      title  video vote_average vote_count  \n",
       "0  Released      NaN  Toy Story  False          7.7       5415  \n",
       "\n",
       "[1 rows x 24 columns]"
      ]
     },
     "execution_count": 66,
     "metadata": {},
     "output_type": "execute_result"
    }
   ],
   "source": [
    "movies.head(1)"
   ]
  },
  {
   "cell_type": "markdown",
   "id": "933e65b4",
   "metadata": {},
   "source": [
    "***\n",
    "## CREDITS\n",
    "This dataframe contains 3 columns:\n",
    "- **cast**: Json string with the information about the actor/acrtrees\n",
    "- **crew**: Json string with the information about Directors and other members of the team\n",
    "- **id**: Movie identifier\n",
    "\n",
    "***\n",
    "\n",
    "First we import json to to be able to deal with json strings:"
   ]
  },
  {
   "cell_type": "code",
   "execution_count": 46,
   "id": "a2d58176",
   "metadata": {},
   "outputs": [],
   "source": [
    "import json\n",
    "from os.path import exists"
   ]
  },
  {
   "cell_type": "markdown",
   "id": "724a7cac",
   "metadata": {},
   "source": [
    "**credits_cleaned01** is big in size, the first action we are doing here is removing the column **crew** since we are not going to use it and then we save the dataset as a new file (which size is almost a half of the original dataset)"
   ]
  },
  {
   "cell_type": "markdown",
   "id": "b54df22f",
   "metadata": {},
   "source": [
    "## REDUCING CREDITS FILE SIZE"
   ]
  },
  {
   "cell_type": "markdown",
   "id": "fdd77caa",
   "metadata": {},
   "source": [
    "**RUN ALL THIS IF YOU HAVE THE credits_cleaned01.csv FILE,**\n",
    "\n",
    "This file is greater than 100mb, we can not upload it into github, skip this part and run the section where we import the file **credits_cleaned03.csv** down below."
   ]
  },
  {
   "cell_type": "code",
   "execution_count": 477,
   "id": "ad61f306",
   "metadata": {},
   "outputs": [
    {
     "data": {
      "text/plain": [
       "['Unnamed: 0', 'cast', 'id']"
      ]
     },
     "metadata": {},
     "output_type": "display_data"
    }
   ],
   "source": [
    "file_exists = exists(\"data/credits_cleaned01.csv\")\n",
    "if(file_exists):\n",
    "    credits = pd.read_csv('data/credits_cleaned01.csv')\n",
    "    credits.drop(columns=['crew'], inplace=True, axis=1)\n",
    "    credits.to_csv('data/credits_cleaned02.csv', index=False)\n",
    "    display(list(credits.columns))"
   ]
  },
  {
   "cell_type": "markdown",
   "id": "76c342af",
   "metadata": {},
   "source": [
    "Now we read again the new file  and displays its size and columns where we can see there are only two "
   ]
  },
  {
   "cell_type": "code",
   "execution_count": 493,
   "id": "b16423ec",
   "metadata": {},
   "outputs": [
    {
     "data": {
      "text/plain": [
       "45399"
      ]
     },
     "metadata": {},
     "output_type": "display_data"
    },
    {
     "data": {
      "text/plain": [
       "['cast', 'id']"
      ]
     },
     "metadata": {},
     "output_type": "display_data"
    }
   ],
   "source": [
    "file_exists = exists(\"data/credits_cleaned02.csv\")\n",
    "if(file_exists):\n",
    "    credits = pd.read_csv('data/credits_cleaned02.csv',index_col=0)\n",
    "    display(len(credits))\n",
    "    display(list(credits.columns))"
   ]
  },
  {
   "cell_type": "markdown",
   "id": "26af3e5c",
   "metadata": {},
   "source": [
    "Each row contains a large json with information we don't wan't want to use, this is how each **cast** looks like"
   ]
  },
  {
   "cell_type": "code",
   "execution_count": 494,
   "id": "7f80ce31",
   "metadata": {},
   "outputs": [
    {
     "data": {
      "text/plain": [
       "\"[{'cast_id': 14, 'character': 'Woody (voice)', 'credit_id': '52fe4284c3a36847f8024f95', 'gender': 2, 'id': 31, 'name': 'Tom Hanks', 'order': 0, 'profile_path': '/pQFoyx7rp09CJTAb932F2g8Nlho.jpg'}, {'cast_id': 15, 'character': 'Buzz Lightyear (voice)', 'credit_id': '52fe4284c3a36847f8024f99', 'gender': 2, 'id': 12898, 'name': 'Tim Allen', 'order': 1, 'profile_path': '/uX2xVf6pMmPepxnvFWyBtjexzgY.jpg'}, {'cast_id': 16, 'character': 'Mr. Potato Head (voice)', 'credit_id': '52fe4284c3a36847f8024f9d', 'gender': 2, 'id': 7167, 'name': 'Don Rickles', 'order': 2, 'profile_path': '/h5BcaDMPRVLHLDzbQavec4xfSdt.jpg'}, {'cast_id': 17, 'character': 'Slinky Dog (voice)', 'credit_id': '52fe4284c3a36847f8024fa1', 'gender': 2, 'id': 12899, 'name': 'Jim Varney', 'order': 3, 'profile_path': '/eIo2jVVXYgjDtaHoF19Ll9vtW7h.jpg'}, {'cast_id': 18, 'character': 'Rex (voice)', 'credit_id': '52fe4284c3a36847f8024fa5', 'gender': 2, 'id': 12900, 'name': 'Wallace Shawn', 'order': 4, 'profile_path': '/oGE6JqPP2xH4tNORKNqxbNPYi7u.jpg'}, {'cast_id': 19, 'character': 'Hamm (voice)', 'credit_id': '52fe4284c3a36847f8024fa9', 'gender': 2, 'id': 7907, 'name': 'John Ratzenberger', 'order': 5, 'profile_path': '/yGechiKWL6TJDfVE2KPSJYqdMsY.jpg'}, {'cast_id': 20, 'character': 'Bo Peep (voice)', 'credit_id': '52fe4284c3a36847f8024fad', 'gender': 1, 'id': 8873, 'name': 'Annie Potts', 'order': 6, 'profile_path': '/eryXT84RL41jHSJcMy4kS3u9y6w.jpg'}, {'cast_id': 26, 'character': 'Andy (voice)', 'credit_id': '52fe4284c3a36847f8024fc1', 'gender': 0, 'id': 1116442, 'name': 'John Morris', 'order': 7, 'profile_path': '/vYGyvK4LzeaUCoNSHtsuqJUY15M.jpg'}, {'cast_id': 22, 'character': 'Sid (voice)', 'credit_id': '52fe4284c3a36847f8024fb1', 'gender': 2, 'id': 12901, 'name': 'Erik von Detten', 'order': 8, 'profile_path': '/twnF1ZaJ1FUNUuo6xLXwcxjayBE.jpg'}, {'cast_id': 23, 'character': 'Mrs. Davis (voice)', 'credit_id': '52fe4284c3a36847f8024fb5', 'gender': 1, 'id': 12133, 'name': 'Laurie Metcalf', 'order': 9, 'profile_path': '/unMMIT60eoBM2sN2nyR7EZ2BvvD.jpg'}, {'cast_id': 24, 'character': 'Sergeant (voice)', 'credit_id': '52fe4284c3a36847f8024fb9', 'gender': 2, 'id': 8655, 'name': 'R. Lee Ermey', 'order': 10, 'profile_path': '/r8GBqFBjypLUP9VVqDqfZ7wYbSs.jpg'}, {'cast_id': 25, 'character': 'Hannah (voice)', 'credit_id': '52fe4284c3a36847f8024fbd', 'gender': 1, 'id': 12903, 'name': 'Sarah Freeman', 'order': 11, 'profile_path': None}, {'cast_id': 27, 'character': 'TV Announcer (voice)', 'credit_id': '52fe4284c3a36847f8024fc5', 'gender': 2, 'id': 37221, 'name': 'Penn Jillette', 'order': 12, 'profile_path': '/zmAaXUdx12NRsssgHbk1T31j2x9.jpg'}]\""
      ]
     },
     "metadata": {},
     "output_type": "display_data"
    }
   ],
   "source": [
    "if(file_exists):\n",
    "    display(credits.iloc[0]['cast'])"
   ]
  },
  {
   "cell_type": "markdown",
   "id": "0faf3c9c",
   "metadata": {},
   "source": [
    "Since the format of the json is not compatible with **json.loads()** we need to change the structure in order to have a dict of people for each movie:\n",
    "- Loop through each row on the dataset\n",
    "- Change quotes to dummy values\n",
    "- Remove unnecesary quotes or backslash (if any)\n",
    "- Remove unnecesary indexes from the dict of people\n",
    "- Update the dataset with the reduced json file"
   ]
  },
  {
   "cell_type": "code",
   "execution_count": 9,
   "id": "dac13d88",
   "metadata": {},
   "outputs": [
    {
     "ename": "NameError",
     "evalue": "name 'exists' is not defined",
     "output_type": "error",
     "traceback": [
      "\u001b[1;31m---------------------------------------------------------------------------\u001b[0m",
      "\u001b[1;31mNameError\u001b[0m                                 Traceback (most recent call last)",
      "\u001b[1;32m~\\AppData\\Local\\Temp/ipykernel_108488/1811243094.py\u001b[0m in \u001b[0;36m<module>\u001b[1;34m\u001b[0m\n\u001b[1;32m----> 1\u001b[1;33m \u001b[0mfile_exists\u001b[0m \u001b[1;33m=\u001b[0m \u001b[0mexists\u001b[0m\u001b[1;33m(\u001b[0m\u001b[1;34m\"data/credits_cleaned02.csv\"\u001b[0m\u001b[1;33m)\u001b[0m\u001b[1;33m\u001b[0m\u001b[1;33m\u001b[0m\u001b[0m\n\u001b[0m\u001b[0;32m      2\u001b[0m \u001b[1;32mif\u001b[0m\u001b[1;33m(\u001b[0m\u001b[0mfile_exists\u001b[0m\u001b[1;33m)\u001b[0m\u001b[1;33m:\u001b[0m\u001b[1;33m\u001b[0m\u001b[1;33m\u001b[0m\u001b[0m\n\u001b[0;32m      3\u001b[0m     \u001b[0mcredits\u001b[0m \u001b[1;33m=\u001b[0m \u001b[0mpd\u001b[0m\u001b[1;33m.\u001b[0m\u001b[0mread_csv\u001b[0m\u001b[1;33m(\u001b[0m\u001b[1;34m'data/credits_cleaned02.csv'\u001b[0m\u001b[1;33m,\u001b[0m\u001b[0mindex_col\u001b[0m\u001b[1;33m=\u001b[0m\u001b[1;36m0\u001b[0m\u001b[1;33m)\u001b[0m\u001b[1;33m\u001b[0m\u001b[1;33m\u001b[0m\u001b[0m\n\u001b[0;32m      4\u001b[0m     \u001b[0mcredits\u001b[0m\u001b[1;33m.\u001b[0m\u001b[0mreset_index\u001b[0m\u001b[1;33m(\u001b[0m\u001b[0mdrop\u001b[0m\u001b[1;33m=\u001b[0m\u001b[1;32mTrue\u001b[0m\u001b[1;33m,\u001b[0m \u001b[0minplace\u001b[0m\u001b[1;33m=\u001b[0m\u001b[1;32mTrue\u001b[0m\u001b[1;33m)\u001b[0m\u001b[1;33m\u001b[0m\u001b[1;33m\u001b[0m\u001b[0m\n\u001b[0;32m      5\u001b[0m \u001b[1;33m\u001b[0m\u001b[0m\n",
      "\u001b[1;31mNameError\u001b[0m: name 'exists' is not defined"
     ]
    }
   ],
   "source": [
    "file_exists = exists(\"data/credits_cleaned02.csv\")\n",
    "if(file_exists):\n",
    "    credits = pd.read_csv('data/credits_cleaned02.csv',index_col=0)\n",
    "    credits.reset_index(drop=True, inplace=True)\n",
    "\n",
    "errors = []\n",
    "if(file_exists):\n",
    "    for i, credit in credits.iterrows():\n",
    "        if(i >= 0):\n",
    "            try:\n",
    "                cast = credit.cast\n",
    "                cast = cast.replace(\"{'\", \"{##\")\n",
    "                cast = cast.replace('{\"', \"{##\")\n",
    "\n",
    "                cast = cast.replace(\"': \", \"##: \")\n",
    "                cast = cast.replace('\": ', \"##: \")\n",
    "\n",
    "                cast = cast.replace(\", '\", \", ##\")\n",
    "                cast = cast.replace(', \"', \", ##\")\n",
    "\n",
    "                cast = cast.replace(\"'}\", \"##}\")\n",
    "                cast = cast.replace('\"}', \"##}\")\n",
    "\n",
    "                cast = cast.replace(\": '\", \": ##\")\n",
    "                cast = cast.replace(\"', \", \"##, \")\n",
    "                cast = cast.replace(': \"', ': ##')\n",
    "                cast = cast.replace('\", ', '##, ')\n",
    "                cast = cast.replace('\"}', '##}')\n",
    "                cast = cast.replace(\"\\\\\", '')\n",
    "\n",
    "                cast = cast.replace('\"', \"\")\n",
    "                cast = cast.replace(\"'\", \"\")\n",
    "\n",
    "                cast = cast.replace('##', '\"')\n",
    "                cast = cast.replace(\": None\", \": null\")\n",
    "                if(credit.cast == \"[]\" or credit.cast == \"\"):\n",
    "                    errors.append(i)\n",
    "                else:\n",
    "                    arrayOfPeople = json.loads(cast)\n",
    "                    for dictOfPeople in arrayOfPeople:\n",
    "                        dictOfPeople.pop(\"cast_id\")\n",
    "                        dictOfPeople.pop(\"credit_id\")\n",
    "                        dictOfPeople.pop(\"gender\")\n",
    "                        dictOfPeople.pop(\"order\")\n",
    "                        dictOfPeople.pop(\"profile_path\")\n",
    "                        dictOfPeople.pop(\"id\")\n",
    "                        dictOfPeople['character'].replace('\"',\"´\")\n",
    "                    credits.iloc[i,0] = json.dumps(arrayOfPeople)\n",
    "            except Exception as e:\n",
    "                print(i)\n",
    "                errors.append(i)"
   ]
  },
  {
   "cell_type": "code",
   "execution_count": 556,
   "id": "8858bffe",
   "metadata": {},
   "outputs": [],
   "source": [
    "#These are out of range elements:\n",
    "#print(errors)"
   ]
  },
  {
   "cell_type": "code",
   "execution_count": 557,
   "id": "c63e32d3",
   "metadata": {},
   "outputs": [
    {
     "data": {
      "text/plain": [
       "45399"
      ]
     },
     "execution_count": 557,
     "metadata": {},
     "output_type": "execute_result"
    }
   ],
   "source": [
    "len(credits)"
   ]
  },
  {
   "cell_type": "code",
   "execution_count": 558,
   "id": "e1f4c5c3",
   "metadata": {},
   "outputs": [],
   "source": [
    "#If we want to eliminate errors:\n",
    "for i in errors:\n",
    "    try:\n",
    "        credits.drop(credits.index[i],inplace=True)\n",
    "    except Exception as e:\n",
    "        #print(e)\n",
    "        pass\n",
    "credits.reset_index(drop=True, inplace=True)"
   ]
  },
  {
   "cell_type": "code",
   "execution_count": 559,
   "id": "1be9c600",
   "metadata": {},
   "outputs": [
    {
     "data": {
      "text/plain": [
       "43182"
      ]
     },
     "execution_count": 559,
     "metadata": {},
     "output_type": "execute_result"
    }
   ],
   "source": [
    "len(credits)"
   ]
  },
  {
   "cell_type": "code",
   "execution_count": 560,
   "id": "9680c5e4",
   "metadata": {},
   "outputs": [
    {
     "data": {
      "text/html": [
       "<div>\n",
       "<style scoped>\n",
       "    .dataframe tbody tr th:only-of-type {\n",
       "        vertical-align: middle;\n",
       "    }\n",
       "\n",
       "    .dataframe tbody tr th {\n",
       "        vertical-align: top;\n",
       "    }\n",
       "\n",
       "    .dataframe thead th {\n",
       "        text-align: right;\n",
       "    }\n",
       "</style>\n",
       "<table border=\"1\" class=\"dataframe\">\n",
       "  <thead>\n",
       "    <tr style=\"text-align: right;\">\n",
       "      <th></th>\n",
       "      <th>cast</th>\n",
       "      <th>id</th>\n",
       "    </tr>\n",
       "  </thead>\n",
       "  <tbody>\n",
       "    <tr>\n",
       "      <th>0</th>\n",
       "      <td>[{\"character\": \"Woody (voice)\", \"name\": \"Tom H...</td>\n",
       "      <td>862</td>\n",
       "    </tr>\n",
       "    <tr>\n",
       "      <th>1</th>\n",
       "      <td>[{\"character\": \"Alan Parrish\", \"name\": \"Robin ...</td>\n",
       "      <td>8844</td>\n",
       "    </tr>\n",
       "    <tr>\n",
       "      <th>2</th>\n",
       "      <td>[{\"character\": \"Max Goldman\", \"name\": \"Walter ...</td>\n",
       "      <td>15602</td>\n",
       "    </tr>\n",
       "  </tbody>\n",
       "</table>\n",
       "</div>"
      ],
      "text/plain": [
       "                                                cast     id\n",
       "0  [{\"character\": \"Woody (voice)\", \"name\": \"Tom H...    862\n",
       "1  [{\"character\": \"Alan Parrish\", \"name\": \"Robin ...   8844\n",
       "2  [{\"character\": \"Max Goldman\", \"name\": \"Walter ...  15602"
      ]
     },
     "execution_count": 560,
     "metadata": {},
     "output_type": "execute_result"
    }
   ],
   "source": [
    "credits.head(3)"
   ]
  },
  {
   "cell_type": "markdown",
   "id": "e0e92178",
   "metadata": {},
   "source": [
    "Now we store this dataframe as a new file, with these steps we have reduced the original file from 190mb to 37mb which is better because we will deal with a smaller file"
   ]
  },
  {
   "cell_type": "code",
   "execution_count": 561,
   "id": "8b5cf92f",
   "metadata": {},
   "outputs": [],
   "source": [
    "credits.to_csv('data/credits_cleaned03.csv')"
   ]
  },
  {
   "cell_type": "markdown",
   "id": "bdafca30",
   "metadata": {},
   "source": [
    "## USING REDUCED CREDITS FILE "
   ]
  },
  {
   "cell_type": "code",
   "execution_count": 20,
   "id": "c3cf721c",
   "metadata": {},
   "outputs": [
    {
     "data": {
      "text/html": [
       "<div>\n",
       "<style scoped>\n",
       "    .dataframe tbody tr th:only-of-type {\n",
       "        vertical-align: middle;\n",
       "    }\n",
       "\n",
       "    .dataframe tbody tr th {\n",
       "        vertical-align: top;\n",
       "    }\n",
       "\n",
       "    .dataframe thead th {\n",
       "        text-align: right;\n",
       "    }\n",
       "</style>\n",
       "<table border=\"1\" class=\"dataframe\">\n",
       "  <thead>\n",
       "    <tr style=\"text-align: right;\">\n",
       "      <th></th>\n",
       "      <th>cast</th>\n",
       "      <th>id</th>\n",
       "    </tr>\n",
       "  </thead>\n",
       "  <tbody>\n",
       "    <tr>\n",
       "      <th>0</th>\n",
       "      <td>[{\"character\": \"Woody (voice)\", \"name\": \"Tom H...</td>\n",
       "      <td>862</td>\n",
       "    </tr>\n",
       "    <tr>\n",
       "      <th>1</th>\n",
       "      <td>[{\"character\": \"Alan Parrish\", \"name\": \"Robin ...</td>\n",
       "      <td>8844</td>\n",
       "    </tr>\n",
       "  </tbody>\n",
       "</table>\n",
       "</div>"
      ],
      "text/plain": [
       "                                                cast    id\n",
       "0  [{\"character\": \"Woody (voice)\", \"name\": \"Tom H...   862\n",
       "1  [{\"character\": \"Alan Parrish\", \"name\": \"Robin ...  8844"
      ]
     },
     "execution_count": 20,
     "metadata": {},
     "output_type": "execute_result"
    }
   ],
   "source": [
    "credits = pd.read_csv('data/credits_cleaned03.csv', index_col=0)\n",
    "credits.head(2)"
   ]
  },
  {
   "cell_type": "markdown",
   "id": "2544a232",
   "metadata": {},
   "source": [
    "Let's get a dataset of performers counting their participation on movies:"
   ]
  },
  {
   "cell_type": "code",
   "execution_count": 64,
   "id": "9622c629",
   "metadata": {},
   "outputs": [
    {
     "data": {
      "text/html": [
       "<div>\n",
       "<style scoped>\n",
       "    .dataframe tbody tr th:only-of-type {\n",
       "        vertical-align: middle;\n",
       "    }\n",
       "\n",
       "    .dataframe tbody tr th {\n",
       "        vertical-align: top;\n",
       "    }\n",
       "\n",
       "    .dataframe thead th {\n",
       "        text-align: right;\n",
       "    }\n",
       "</style>\n",
       "<table border=\"1\" class=\"dataframe\">\n",
       "  <thead>\n",
       "    <tr style=\"text-align: right;\">\n",
       "      <th></th>\n",
       "      <th>number_of_movies</th>\n",
       "      <th>number_of_movies</th>\n",
       "    </tr>\n",
       "  </thead>\n",
       "  <tbody>\n",
       "    <tr>\n",
       "      <th>0</th>\n",
       "      <td>Bess Flowers</td>\n",
       "      <td>230</td>\n",
       "    </tr>\n",
       "    <tr>\n",
       "      <th>1</th>\n",
       "      <td>Christopher Lee</td>\n",
       "      <td>141</td>\n",
       "    </tr>\n",
       "    <tr>\n",
       "      <th>2</th>\n",
       "      <td>Samuel L. Jackson</td>\n",
       "      <td>120</td>\n",
       "    </tr>\n",
       "    <tr>\n",
       "      <th>3</th>\n",
       "      <td>John Wayne</td>\n",
       "      <td>120</td>\n",
       "    </tr>\n",
       "    <tr>\n",
       "      <th>4</th>\n",
       "      <td>Donald Sutherland</td>\n",
       "      <td>107</td>\n",
       "    </tr>\n",
       "    <tr>\n",
       "      <th>...</th>\n",
       "      <td>...</td>\n",
       "      <td>...</td>\n",
       "    </tr>\n",
       "    <tr>\n",
       "      <th>196189</th>\n",
       "      <td>Joanne</td>\n",
       "      <td>1</td>\n",
       "    </tr>\n",
       "    <tr>\n",
       "      <th>196190</th>\n",
       "      <td>Johnny Chung-Jen Lin</td>\n",
       "      <td>1</td>\n",
       "    </tr>\n",
       "    <tr>\n",
       "      <th>196191</th>\n",
       "      <td>Ma Nien-Hsien</td>\n",
       "      <td>1</td>\n",
       "    </tr>\n",
       "    <tr>\n",
       "      <th>196192</th>\n",
       "      <td>Wei-min Ying</td>\n",
       "      <td>1</td>\n",
       "    </tr>\n",
       "    <tr>\n",
       "      <th>196193</th>\n",
       "      <td>Aleksandr Chabrov</td>\n",
       "      <td>1</td>\n",
       "    </tr>\n",
       "  </tbody>\n",
       "</table>\n",
       "<p>196194 rows × 2 columns</p>\n",
       "</div>"
      ],
      "text/plain": [
       "            number_of_movies  number_of_movies\n",
       "0               Bess Flowers               230\n",
       "1            Christopher Lee               141\n",
       "2          Samuel L. Jackson               120\n",
       "3                 John Wayne               120\n",
       "4          Donald Sutherland               107\n",
       "...                      ...               ...\n",
       "196189                Joanne                 1\n",
       "196190  Johnny Chung-Jen Lin                 1\n",
       "196191         Ma Nien-Hsien                 1\n",
       "196192          Wei-min Ying                 1\n",
       "196193     Aleksandr Chabrov                 1\n",
       "\n",
       "[196194 rows x 2 columns]"
      ]
     },
     "metadata": {},
     "output_type": "display_data"
    }
   ],
   "source": [
    "actArray = []\n",
    "movArray = []\n",
    "for i, credit in credits.iterrows():\n",
    "    try:\n",
    "        arrayOfPeople = json.loads(credit.cast)\n",
    "        for dictOfPeople in arrayOfPeople:\n",
    "            actArray.append(dictOfPeople[\"name\"])\n",
    "            movArray.append(credit.id)\n",
    "    except Exception as e:  \n",
    "        print(i,credit.cast)\n",
    "        break\n",
    "\n",
    "    \n",
    "myDict = {'performer': actArray, 'movie_id': movArray}\n",
    "acts = pd.DataFrame(data=myDict)\n",
    "\n",
    "counts = acts['performer'].value_counts().to_frame()\n",
    "counts.reset_index(inplace=True)\n",
    "counts.columns = counts.columns.str.replace('index', 'performer')\n",
    "counts.columns = counts.columns.str.replace('performer', 'number_of_movies')\n",
    "\n",
    "#for i in range(0,len(counts)):\n",
    "    #print(counts.iloc[i].performer, counts.iloc[i].number_of_movies)\n",
    "    #break\n",
    "    \n",
    "display(counts)"
   ]
  },
  {
   "cell_type": "code",
   "execution_count": 65,
   "id": "4c9cb125",
   "metadata": {},
   "outputs": [
    {
     "data": {
      "text/html": [
       "<div>\n",
       "<style scoped>\n",
       "    .dataframe tbody tr th:only-of-type {\n",
       "        vertical-align: middle;\n",
       "    }\n",
       "\n",
       "    .dataframe tbody tr th {\n",
       "        vertical-align: top;\n",
       "    }\n",
       "\n",
       "    .dataframe thead th {\n",
       "        text-align: right;\n",
       "    }\n",
       "</style>\n",
       "<table border=\"1\" class=\"dataframe\">\n",
       "  <thead>\n",
       "    <tr style=\"text-align: right;\">\n",
       "      <th></th>\n",
       "      <th>performer</th>\n",
       "      <th>movie_id</th>\n",
       "    </tr>\n",
       "  </thead>\n",
       "  <tbody>\n",
       "    <tr>\n",
       "      <th>0</th>\n",
       "      <td>Tom Hanks</td>\n",
       "      <td>862</td>\n",
       "    </tr>\n",
       "    <tr>\n",
       "      <th>1</th>\n",
       "      <td>Tim Allen</td>\n",
       "      <td>862</td>\n",
       "    </tr>\n",
       "  </tbody>\n",
       "</table>\n",
       "</div>"
      ],
      "text/plain": [
       "   performer  movie_id\n",
       "0  Tom Hanks       862\n",
       "1  Tim Allen       862"
      ]
     },
     "execution_count": 65,
     "metadata": {},
     "output_type": "execute_result"
    }
   ],
   "source": [
    "acts.head(2)"
   ]
  },
  {
   "cell_type": "markdown",
   "id": "aa722b7b",
   "metadata": {},
   "source": [
    "Now we will get the list of academy award winning films from wikipedia scraping data to compare the best movies with what we have in our dataset"
   ]
  },
  {
   "cell_type": "code",
   "execution_count": 112,
   "id": "e5c29dd7",
   "metadata": {},
   "outputs": [
    {
     "data": {
      "text/html": [
       "<div>\n",
       "<style scoped>\n",
       "    .dataframe tbody tr th:only-of-type {\n",
       "        vertical-align: middle;\n",
       "    }\n",
       "\n",
       "    .dataframe tbody tr th {\n",
       "        vertical-align: top;\n",
       "    }\n",
       "\n",
       "    .dataframe thead th {\n",
       "        text-align: right;\n",
       "    }\n",
       "</style>\n",
       "<table border=\"1\" class=\"dataframe\">\n",
       "  <thead>\n",
       "    <tr style=\"text-align: right;\">\n",
       "      <th></th>\n",
       "      <th>Film</th>\n",
       "      <th>Year</th>\n",
       "      <th>Awards</th>\n",
       "      <th>Nominations</th>\n",
       "    </tr>\n",
       "  </thead>\n",
       "  <tbody>\n",
       "    <tr>\n",
       "      <th>0</th>\n",
       "      <td>La La Land</td>\n",
       "      <td>2016</td>\n",
       "      <td>6</td>\n",
       "      <td>14</td>\n",
       "    </tr>\n",
       "    <tr>\n",
       "      <th>1</th>\n",
       "      <td>Titanic</td>\n",
       "      <td>1997</td>\n",
       "      <td>11</td>\n",
       "      <td>14</td>\n",
       "    </tr>\n",
       "    <tr>\n",
       "      <th>2</th>\n",
       "      <td>All About Eve</td>\n",
       "      <td>1950</td>\n",
       "      <td>6</td>\n",
       "      <td>14</td>\n",
       "    </tr>\n",
       "    <tr>\n",
       "      <th>3</th>\n",
       "      <td>The Shape of Water</td>\n",
       "      <td>2017</td>\n",
       "      <td>4</td>\n",
       "      <td>13</td>\n",
       "    </tr>\n",
       "    <tr>\n",
       "      <th>4</th>\n",
       "      <td>The Curious Case of Benjamin Button</td>\n",
       "      <td>2008</td>\n",
       "      <td>3</td>\n",
       "      <td>13</td>\n",
       "    </tr>\n",
       "    <tr>\n",
       "      <th>...</th>\n",
       "      <td>...</td>\n",
       "      <td>...</td>\n",
       "      <td>...</td>\n",
       "      <td>...</td>\n",
       "    </tr>\n",
       "    <tr>\n",
       "      <th>1342</th>\n",
       "      <td>Pollyanna</td>\n",
       "      <td>1960</td>\n",
       "      <td>0</td>\n",
       "      <td>0</td>\n",
       "    </tr>\n",
       "    <tr>\n",
       "      <th>1343</th>\n",
       "      <td>Samurai I: Musashi Miyamoto (Miyamoto Musashi)</td>\n",
       "      <td>1955</td>\n",
       "      <td>0</td>\n",
       "      <td>0</td>\n",
       "    </tr>\n",
       "    <tr>\n",
       "      <th>1344</th>\n",
       "      <td>Spawn of the North</td>\n",
       "      <td>1938</td>\n",
       "      <td>0</td>\n",
       "      <td>0</td>\n",
       "    </tr>\n",
       "    <tr>\n",
       "      <th>1345</th>\n",
       "      <td>Target for Tonight</td>\n",
       "      <td>1941</td>\n",
       "      <td>0</td>\n",
       "      <td>0</td>\n",
       "    </tr>\n",
       "    <tr>\n",
       "      <th>1346</th>\n",
       "      <td>The Walls of Malapaga</td>\n",
       "      <td>1950</td>\n",
       "      <td>0</td>\n",
       "      <td>0</td>\n",
       "    </tr>\n",
       "  </tbody>\n",
       "</table>\n",
       "<p>1347 rows × 4 columns</p>\n",
       "</div>"
      ],
      "text/plain": [
       "                                                Film  Year  Awards  \\\n",
       "0                                         La La Land  2016       6   \n",
       "1                                            Titanic  1997      11   \n",
       "2                                      All About Eve  1950       6   \n",
       "3                                 The Shape of Water  2017       4   \n",
       "4                The Curious Case of Benjamin Button  2008       3   \n",
       "...                                              ...   ...     ...   \n",
       "1342                                       Pollyanna  1960       0   \n",
       "1343  Samurai I: Musashi Miyamoto (Miyamoto Musashi)  1955       0   \n",
       "1344                              Spawn of the North  1938       0   \n",
       "1345                              Target for Tonight  1941       0   \n",
       "1346                           The Walls of Malapaga  1950       0   \n",
       "\n",
       "      Nominations  \n",
       "0              14  \n",
       "1              14  \n",
       "2              14  \n",
       "3              13  \n",
       "4              13  \n",
       "...           ...  \n",
       "1342            0  \n",
       "1343            0  \n",
       "1344            0  \n",
       "1345            0  \n",
       "1346            0  \n",
       "\n",
       "[1347 rows x 4 columns]"
      ]
     },
     "execution_count": 112,
     "metadata": {},
     "output_type": "execute_result"
    }
   ],
   "source": [
    "import requests\n",
    "from bs4 import BeautifulSoup\n",
    "url = \"https://en.wikipedia.org/wiki/List_of_Academy_Award-winning_films\"\n",
    "req = requests.get(url)\n",
    "soup = BeautifulSoup(req.content, 'html.parser')\n",
    "body = soup.find('body')\n",
    "table = body.find('table')\n",
    "tbody = table.find('tbody')\n",
    "\n",
    "\n",
    "c_names = []\n",
    "awardsData = []\n",
    "\n",
    "trs = tbody.findAll('tr')\n",
    "for i in range(len(trs)):\n",
    "    \n",
    "    if(i ==0):\n",
    "        #Getting column names:\n",
    "        ths = trs[i].findAll('th')\n",
    "        for j in range(len(ths)):\n",
    "            c_names.append(ths[j].getText().replace(u'\\n', ''))\n",
    "    else:\n",
    "        #Data:\n",
    "        tds = trs[i].findAll('td')\n",
    "        awardsData.append({\n",
    "            c_names[0]:tds[0].getText(),\n",
    "            c_names[1]:tds[1].getText().replace(u'\\xa0', ''),\n",
    "            c_names[2]:int(tds[2].getText().split(' ')[0].replace(u'\\n', '')),\n",
    "            c_names[3]:int(tds[3].getText().split('[')[0].replace(u'\\n', '')),\n",
    "        });\n",
    "        \n",
    "academyAwards = pd.DataFrame.from_dict(sorted(awardsData, key=lambda d: d['Nominations'], reverse=True) )\n",
    "    \n",
    "display(academyAwards)"
   ]
  },
  {
   "cell_type": "markdown",
   "id": "295b5464",
   "metadata": {},
   "source": [
    "## USING MOVIES FILE"
   ]
  },
  {
   "cell_type": "markdown",
   "id": "626ca6e7",
   "metadata": {},
   "source": [
    "Let's analyze the column belongs_to_collection:"
   ]
  },
  {
   "cell_type": "code",
   "execution_count": 47,
   "id": "75c2a390",
   "metadata": {},
   "outputs": [
    {
     "name": "stdout",
     "output_type": "stream",
     "text": [
      "{'id': 10194, 'name': 'Toy Story Collection', 'poster_path': '/7G9915LfUQ2lVfwMEEhDsn3kT4B.jpg', 'backdrop_path': '/9FBwqcd9IRruEDUrTdcaafOMKUq.jpg'}\n",
      "{'id': 645, 'name': 'James Bond Collection', 'poster_path': '/HORpg5CSkmeQlAolx3bKMrKgfi.jpg', 'backdrop_path': '/6VcVl48kNKvdXOZfJPdarlUGOsk.jpg'}\n"
     ]
    }
   ],
   "source": [
    "print(movies.loc[:,'belongs_to_collection'][0])\n",
    "print(movies.loc[:,'belongs_to_collection'][9])"
   ]
  },
  {
   "cell_type": "markdown",
   "id": "8f2c3bef",
   "metadata": {},
   "source": [
    "The column has some values that we are not going to use: poster_path, backdrop_path and id."
   ]
  },
  {
   "cell_type": "code",
   "execution_count": 48,
   "id": "4398b6df",
   "metadata": {},
   "outputs": [],
   "source": [
    "errors = []\n",
    "for i, movie in movies.iterrows():\n",
    "    if(i >= 0):\n",
    "        try:\n",
    "            collection = movie.belongs_to_collection\n",
    "\n",
    "            collection = collection.replace(\"{'\", \"{##\")\n",
    "            collection = collection.replace('{\"', \"{##\")\n",
    "\n",
    "            collection = collection.replace(\"': \", \"##: \")\n",
    "            collection = collection.replace('\": ', \"##: \")\n",
    "\n",
    "            collection = collection.replace(\", '\", \", ##\")\n",
    "            collection = collection.replace(', \"', \", ##\")\n",
    "\n",
    "            collection = collection.replace(\"'}\", \"##}\")\n",
    "            collection = collection.replace('\"}', \"##}\")\n",
    "\n",
    "            collection = collection.replace(\": '\", \": ##\")\n",
    "            collection = collection.replace(\"', \", \"##, \")\n",
    "            collection = collection.replace(': \"', ': ##')\n",
    "            collection = collection.replace('\", ', '##, ')\n",
    "            collection = collection.replace('\"}', '##}')\n",
    "            collection = collection.replace(\"\\\\\", '')\n",
    "\n",
    "            collection = collection.replace('\"', \"\")\n",
    "            collection = collection.replace(\"'\", \"\")\n",
    "\n",
    "            collection = collection.replace('##', '\"')\n",
    "            collection = collection.replace(\": None\", \": null\")\n",
    "\n",
    "            if(movie.belongs_to_collection == \"[]\" or movie.belongs_to_collection == \"\"):\n",
    "                errors.append(i)\n",
    "            else:\n",
    "                collectionDict = json.loads(collection)\n",
    "                #Removing the columns poster_path, backdrop_path, and id\n",
    "                collectionDict.pop(\"poster_path\")\n",
    "                collectionDict.pop(\"backdrop_path\")\n",
    "                collectionDict.pop(\"id\")\n",
    "                movies.loc[i,'belongs_to_collection'] = json.dumps(collectionDict)\n",
    "                #movies.loc[i,'belongs_to_collection'] = str(collectionDict['name'])\n",
    "        except Exception as e:\n",
    "            #print(e)\n",
    "            errors.append(i)"
   ]
  },
  {
   "cell_type": "code",
   "execution_count": 49,
   "id": "5b3a9fd9",
   "metadata": {},
   "outputs": [
    {
     "data": {
      "text/plain": [
       "'{\"name\": \"Toy Story Collection\"}'"
      ]
     },
     "execution_count": 49,
     "metadata": {},
     "output_type": "execute_result"
    }
   ],
   "source": [
    "movies.loc[:,'belongs_to_collection'][0]"
   ]
  },
  {
   "cell_type": "markdown",
   "id": "016f5387",
   "metadata": {},
   "source": [
    "Let's analyze the column genres:"
   ]
  },
  {
   "cell_type": "code",
   "execution_count": 50,
   "id": "0ccd0682",
   "metadata": {},
   "outputs": [
    {
     "name": "stdout",
     "output_type": "stream",
     "text": [
      "[{'id': 16, 'name': 'Animation'}, {'id': 35, 'name': 'Comedy'}, {'id': 10751, 'name': 'Family'}]\n",
      "[{'id': 12, 'name': 'Adventure'}, {'id': 28, 'name': 'Action'}, {'id': 53, 'name': 'Thriller'}]\n"
     ]
    }
   ],
   "source": [
    "print(movies.loc[:,'genres'][0])\n",
    "print(movies.loc[:,'genres'][9])"
   ]
  },
  {
   "cell_type": "markdown",
   "id": "2aa45061",
   "metadata": {},
   "source": [
    "The column has some values that we are not going to use: id"
   ]
  },
  {
   "cell_type": "code",
   "execution_count": 51,
   "id": "f1427cb9",
   "metadata": {},
   "outputs": [],
   "source": [
    "errors = []\n",
    "for i, movie in movies.iterrows():\n",
    "    if(i >= 0):\n",
    "        try:\n",
    "            genres = movie.genres\n",
    "\n",
    "            genres = genres.replace(\"{'\", \"{##\")\n",
    "            genres = genres.replace('{\"', \"{##\")\n",
    "\n",
    "            genres = genres.replace(\"': \", \"##: \")\n",
    "            genres = genres.replace('\": ', \"##: \")\n",
    "\n",
    "            genres = genres.replace(\", '\", \", ##\")\n",
    "            genres = genres.replace(', \"', \", ##\")\n",
    "\n",
    "            genres = genres.replace(\"'}\", \"##}\")\n",
    "            genres = genres.replace('\"}', \"##}\")\n",
    "\n",
    "            genres = genres.replace(\": '\", \": ##\")\n",
    "            genres = genres.replace(\"', \", \"##, \")\n",
    "            genres = genres.replace(': \"', ': ##')\n",
    "            genres = genres.replace('\", ', '##, ')\n",
    "            genres = genres.replace('\"}', '##}')\n",
    "            genres = genres.replace(\"\\\\\", '')\n",
    "\n",
    "            genres = genres.replace('\"', \"\")\n",
    "            genres = genres.replace(\"'\", \"\")\n",
    "\n",
    "            genres = genres.replace('##', '\"')\n",
    "            genres = genres.replace(\": None\", \": null\")\n",
    "\n",
    "            if(movie.genres == \"[]\" or movie.genres == \"\"):\n",
    "                errors.append(i)\n",
    "            else:\n",
    "                genresDict = json.loads(genres)\n",
    "                for genre in genresDict:\n",
    "                    #Removing the column id\n",
    "                    genre.pop(\"id\")\n",
    "                    #genresList.append(genre['name'])\n",
    "                movies.loc[i,'genres'] = json.dumps(genresDict)\n",
    "                #movies.loc[i,'genres'] = str(genresList)\n",
    "        except Exception as e:\n",
    "            #print(e)\n",
    "            errors.append(i)"
   ]
  },
  {
   "cell_type": "code",
   "execution_count": 52,
   "id": "8c66b52b",
   "metadata": {},
   "outputs": [
    {
     "name": "stdout",
     "output_type": "stream",
     "text": [
      "[{\"name\": \"Animation\"}, {\"name\": \"Comedy\"}, {\"name\": \"Family\"}]\n"
     ]
    }
   ],
   "source": [
    "print(movies.loc[:,'genres'][0])"
   ]
  },
  {
   "cell_type": "markdown",
   "id": "65f88142",
   "metadata": {},
   "source": [
    "Let's analyze the column production_companies:"
   ]
  },
  {
   "cell_type": "code",
   "execution_count": 53,
   "id": "006bb7c1",
   "metadata": {},
   "outputs": [
    {
     "data": {
      "text/plain": [
       "\"[{'name': 'TriStar Pictures', 'id': 559}, {'name': 'Teitler Film', 'id': 2550}, {'name': 'Interscope Communications', 'id': 10201}]\""
      ]
     },
     "execution_count": 53,
     "metadata": {},
     "output_type": "execute_result"
    }
   ],
   "source": [
    "movies.loc[:,'production_companies'][1]"
   ]
  },
  {
   "cell_type": "markdown",
   "id": "6ceb490e",
   "metadata": {},
   "source": [
    "The column has some values that we are not going to use: id"
   ]
  },
  {
   "cell_type": "code",
   "execution_count": 54,
   "id": "0f32f693",
   "metadata": {},
   "outputs": [],
   "source": [
    "errors = []\n",
    "for i, movie in movies.iterrows():\n",
    "    if(i >= 0):\n",
    "        try:\n",
    "            prod_companies = movie.production_companies\n",
    "\n",
    "            prod_companies = prod_companies.replace(\"{'\", \"{##\")\n",
    "            prod_companies = prod_companies.replace('{\"', \"{##\")\n",
    "\n",
    "            prod_companies = prod_companies.replace(\"': \", \"##: \")\n",
    "            prod_companies = prod_companies.replace('\": ', \"##: \")\n",
    "\n",
    "            prod_companies = prod_companies.replace(\", '\", \", ##\")\n",
    "            prod_companies = prod_companies.replace(', \"', \", ##\")\n",
    "\n",
    "            prod_companies = prod_companies.replace(\"'}\", \"##}\")\n",
    "            prod_companies = prod_companies.replace('\"}', \"##}\")\n",
    "\n",
    "            prod_companies = prod_companies.replace(\": '\", \": ##\")\n",
    "            prod_companies = prod_companies.replace(\"', \", \"##, \")\n",
    "            prod_companies = prod_companies.replace(': \"', ': ##')\n",
    "            prod_companies = prod_companies.replace('\", ', '##, ')\n",
    "            prod_companies = prod_companies.replace('\"}', '##}')\n",
    "            prod_companies = prod_companies.replace(\"\\\\\", '')\n",
    "\n",
    "            prod_companies = prod_companies.replace('\"', \"\")\n",
    "            prod_companies = prod_companies.replace(\"'\", \"\")\n",
    "\n",
    "            prod_companies = prod_companies.replace('##', '\"')\n",
    "            prod_companies = prod_companies.replace(\": None\", \": null\")\n",
    "\n",
    "            if(movie.production_companies == \"[]\" or movie.production_companies == \"\"):\n",
    "                errors.append(i)\n",
    "            else:\n",
    "                prodcompDict = json.loads(prod_companies)\n",
    "                for prodcomp in prodcompDict:\n",
    "                    #Removing the column id\n",
    "                    prodcomp.pop(\"id\")\n",
    "                movies.loc[i,'production_companies'] = json.dumps(prodcompDict)\n",
    "        except Exception as e:\n",
    "            #print(e)\n",
    "            errors.append(i)"
   ]
  },
  {
   "cell_type": "code",
   "execution_count": 55,
   "id": "76324774",
   "metadata": {
    "scrolled": true
   },
   "outputs": [
    {
     "data": {
      "text/plain": [
       "'[{\"name\": \"TriStar Pictures\"}, {\"name\": \"Teitler Film\"}, {\"name\": \"Interscope Communications\"}]'"
      ]
     },
     "execution_count": 55,
     "metadata": {},
     "output_type": "execute_result"
    }
   ],
   "source": [
    "movies.loc[:,'production_companies'][1]"
   ]
  },
  {
   "cell_type": "markdown",
   "id": "8f89b12a",
   "metadata": {},
   "source": [
    "Exporting the changes to a new file:"
   ]
  },
  {
   "cell_type": "code",
   "execution_count": 56,
   "id": "7c9c3d39",
   "metadata": {},
   "outputs": [],
   "source": [
    "movies.to_csv('data/movies_cleaned01.csv', index=False)"
   ]
  },
  {
   "cell_type": "markdown",
   "id": "483678f9",
   "metadata": {},
   "source": [
    "Reading the cleaned file:"
   ]
  },
  {
   "cell_type": "code",
   "execution_count": 67,
   "id": "24165ac6",
   "metadata": {},
   "outputs": [
    {
     "name": "stdout",
     "output_type": "stream",
     "text": [
      "Columns:\n",
      "adult,  belongs_to_collection,  budget,  genres,  homepage,  id,  imdb_id,  original_language,  original_title,  overview,  popularity,  poster_path,  production_companies,  production_countries,  release_date,  revenue,  runtime,  spoken_languages,  status,  tagline,  title,  video,  vote_average,  vote_count\n"
     ]
    }
   ],
   "source": [
    "movies = pd.read_csv('data/movies_cleaned01.csv', dtype={'popularity': 'float'})\n",
    "print('Columns:')\n",
    "print(',  '.join(movies2))"
   ]
  },
  {
   "cell_type": "code",
   "execution_count": 88,
   "id": "2ece6db8",
   "metadata": {},
   "outputs": [
    {
     "data": {
      "text/plain": [
       "'[{\"name\": \"TriStar Pictures\"}, {\"name\": \"Teitler Film\"}, {\"name\": \"Interscope Communications\"}]'"
      ]
     },
     "execution_count": 88,
     "metadata": {},
     "output_type": "execute_result"
    }
   ],
   "source": [
    "movies.loc[:,'production_companies'][1]"
   ]
  },
  {
   "cell_type": "code",
   "execution_count": 91,
   "id": "010b25b6",
   "metadata": {},
   "outputs": [
    {
     "data": {
      "text/plain": [
       "0        21.946943\n",
       "1        17.015539\n",
       "2        11.712900\n",
       "3         3.859495\n",
       "4         8.387519\n",
       "           ...    \n",
       "45458     0.072051\n",
       "45459     0.178241\n",
       "45460     0.903007\n",
       "45461     0.003503\n",
       "45462     0.163015\n",
       "Name: popularity, Length: 45463, dtype: float64"
      ]
     },
     "execution_count": 91,
     "metadata": {},
     "output_type": "execute_result"
    }
   ],
   "source": [
    "movies.popularity"
   ]
  },
  {
   "cell_type": "code",
   "execution_count": 97,
   "id": "305518d0",
   "metadata": {},
   "outputs": [
    {
     "data": {
      "text/plain": [
       "4342          2\n",
       "12947         3\n",
       "17            5\n",
       "474           6\n",
       "256          11\n",
       "          ...  \n",
       "45075    465044\n",
       "45270    467731\n",
       "21890    468343\n",
       "45395    468707\n",
       "20188    469172\n",
       "Name: id, Length: 45463, dtype: int64"
      ]
     },
     "execution_count": 97,
     "metadata": {},
     "output_type": "execute_result"
    }
   ],
   "source": [
    "movies.id.sort_values()"
   ]
  },
  {
   "cell_type": "code",
   "execution_count": 95,
   "id": "371dc7d6",
   "metadata": {},
   "outputs": [
    {
     "data": {
      "text/html": [
       "<div>\n",
       "<style scoped>\n",
       "    .dataframe tbody tr th:only-of-type {\n",
       "        vertical-align: middle;\n",
       "    }\n",
       "\n",
       "    .dataframe tbody tr th {\n",
       "        vertical-align: top;\n",
       "    }\n",
       "\n",
       "    .dataframe thead th {\n",
       "        text-align: right;\n",
       "    }\n",
       "</style>\n",
       "<table border=\"1\" class=\"dataframe\">\n",
       "  <thead>\n",
       "    <tr style=\"text-align: right;\">\n",
       "      <th></th>\n",
       "      <th>adult</th>\n",
       "      <th>belongs_to_collection</th>\n",
       "      <th>budget</th>\n",
       "      <th>genres</th>\n",
       "      <th>homepage</th>\n",
       "      <th>id</th>\n",
       "      <th>imdb_id</th>\n",
       "      <th>original_language</th>\n",
       "      <th>original_title</th>\n",
       "      <th>overview</th>\n",
       "      <th>...</th>\n",
       "      <th>release_date</th>\n",
       "      <th>revenue</th>\n",
       "      <th>runtime</th>\n",
       "      <th>spoken_languages</th>\n",
       "      <th>status</th>\n",
       "      <th>tagline</th>\n",
       "      <th>title</th>\n",
       "      <th>video</th>\n",
       "      <th>vote_average</th>\n",
       "      <th>vote_count</th>\n",
       "    </tr>\n",
       "  </thead>\n",
       "  <tbody>\n",
       "  </tbody>\n",
       "</table>\n",
       "<p>0 rows × 24 columns</p>\n",
       "</div>"
      ],
      "text/plain": [
       "Empty DataFrame\n",
       "Columns: [adult, belongs_to_collection, budget, genres, homepage, id, imdb_id, original_language, original_title, overview, popularity, poster_path, production_companies, production_countries, release_date, revenue, runtime, spoken_languages, status, tagline, title, video, vote_average, vote_count]\n",
       "Index: []\n",
       "\n",
       "[0 rows x 24 columns]"
      ]
     },
     "execution_count": 95,
     "metadata": {},
     "output_type": "execute_result"
    }
   ],
   "source": [
    "movies[movies.id=='6269']"
   ]
  },
  {
   "cell_type": "markdown",
   "id": "6984e63b",
   "metadata": {},
   "source": [
    "## USING RATINGS FILE"
   ]
  },
  {
   "cell_type": "code",
   "execution_count": 98,
   "id": "3299a631",
   "metadata": {},
   "outputs": [
    {
     "data": {
      "text/html": [
       "<div>\n",
       "<style scoped>\n",
       "    .dataframe tbody tr th:only-of-type {\n",
       "        vertical-align: middle;\n",
       "    }\n",
       "\n",
       "    .dataframe tbody tr th {\n",
       "        vertical-align: top;\n",
       "    }\n",
       "\n",
       "    .dataframe thead th {\n",
       "        text-align: right;\n",
       "    }\n",
       "</style>\n",
       "<table border=\"1\" class=\"dataframe\">\n",
       "  <thead>\n",
       "    <tr style=\"text-align: right;\">\n",
       "      <th></th>\n",
       "      <th>movieId</th>\n",
       "      <th>rating</th>\n",
       "      <th>timestamp</th>\n",
       "    </tr>\n",
       "    <tr>\n",
       "      <th>userId</th>\n",
       "      <th></th>\n",
       "      <th></th>\n",
       "      <th></th>\n",
       "    </tr>\n",
       "  </thead>\n",
       "  <tbody>\n",
       "    <tr>\n",
       "      <th>1</th>\n",
       "      <td>31</td>\n",
       "      <td>2.5</td>\n",
       "      <td>1260759144</td>\n",
       "    </tr>\n",
       "    <tr>\n",
       "      <th>1</th>\n",
       "      <td>1029</td>\n",
       "      <td>3.0</td>\n",
       "      <td>1260759179</td>\n",
       "    </tr>\n",
       "    <tr>\n",
       "      <th>1</th>\n",
       "      <td>1061</td>\n",
       "      <td>3.0</td>\n",
       "      <td>1260759182</td>\n",
       "    </tr>\n",
       "    <tr>\n",
       "      <th>1</th>\n",
       "      <td>1129</td>\n",
       "      <td>2.0</td>\n",
       "      <td>1260759185</td>\n",
       "    </tr>\n",
       "    <tr>\n",
       "      <th>1</th>\n",
       "      <td>1172</td>\n",
       "      <td>4.0</td>\n",
       "      <td>1260759205</td>\n",
       "    </tr>\n",
       "  </tbody>\n",
       "</table>\n",
       "</div>"
      ],
      "text/plain": [
       "        movieId  rating   timestamp\n",
       "userId                             \n",
       "1            31     2.5  1260759144\n",
       "1          1029     3.0  1260759179\n",
       "1          1061     3.0  1260759182\n",
       "1          1129     2.0  1260759185\n",
       "1          1172     4.0  1260759205"
      ]
     },
     "execution_count": 98,
     "metadata": {},
     "output_type": "execute_result"
    }
   ],
   "source": [
    "ratings = pd.read_csv('data/ratings_small.csv', index_col=0)\n",
    "ratings.head()"
   ]
  },
  {
   "cell_type": "code",
   "execution_count": 103,
   "id": "7a0e6b0b",
   "metadata": {},
   "outputs": [
    {
     "data": {
      "text/plain": [
       "pandas.core.series.Series"
      ]
     },
     "execution_count": 103,
     "metadata": {},
     "output_type": "execute_result"
    }
   ],
   "source": [
    "type(ratings.movieId)"
   ]
  }
 ],
 "metadata": {
  "kernelspec": {
   "display_name": "Python 3 (ipykernel)",
   "language": "python",
   "name": "python3"
  },
  "language_info": {
   "codemirror_mode": {
    "name": "ipython",
    "version": 3
   },
   "file_extension": ".py",
   "mimetype": "text/x-python",
   "name": "python",
   "nbconvert_exporter": "python",
   "pygments_lexer": "ipython3",
   "version": "3.9.15"
  }
 },
 "nbformat": 4,
 "nbformat_minor": 5
}
