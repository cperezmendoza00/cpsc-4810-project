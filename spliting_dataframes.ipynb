{
 "cells": [
  {
   "cell_type": "code",
   "execution_count": 42,
   "id": "6b6779d0",
   "metadata": {},
   "outputs": [],
   "source": [
    "import pandas as pd\n",
    "df = pd.read_csv('credits.csv')"
   ]
  },
  {
   "cell_type": "code",
   "execution_count": 40,
   "id": "c1950b41",
   "metadata": {},
   "outputs": [
    {
     "name": "stdout",
     "output_type": "stream",
     "text": [
      "Total:26024289\n",
      "First chunk: 0 - 6506072.25\n",
      "Second chunk: 6506073.25 - 13012144.5\n",
      "Third chunk: 13012145.5 - 19518216.75\n",
      "Four chunk: 19518217.75 - 26024289.0\n"
     ]
    }
   ],
   "source": [
    "print(f\"Total:{len(df)}\")\n",
    "print(f\"First chunk: {0} - {len(df)/4}\")\n",
    "print(f\"Second chunk: {(len(df)/4) +1} - {((len(df)/4)*2)}\")\n",
    "print(f\"Third chunk: {((len(df)/4)*2) +1} - {((len(df)/4)*3)}\")\n",
    "print(f\"Four chunk: {((len(df)/4)*3) +1} - {((len(df)/4)*4)}\")"
   ]
  },
  {
   "cell_type": "code",
   "execution_count": 35,
   "id": "30a5d934",
   "metadata": {},
   "outputs": [],
   "source": [
    "#df[0:int(len(df)/4)].to_csv('credits01.csv')"
   ]
  },
  {
   "cell_type": "code",
   "execution_count": 36,
   "id": "4f747b6c",
   "metadata": {},
   "outputs": [],
   "source": [
    "#df[int((len(df)/4) +1):int(((len(df)/4)*2))].to_csv('credits02.csv')"
   ]
  },
  {
   "cell_type": "code",
   "execution_count": 37,
   "id": "ab0e9df6",
   "metadata": {},
   "outputs": [],
   "source": [
    "#df[int(((len(df)/4)*2) +1):int(((len(df)/4)*3))].to_csv('credits03.csv')"
   ]
  },
  {
   "cell_type": "code",
   "execution_count": 38,
   "id": "f9587f17",
   "metadata": {},
   "outputs": [],
   "source": [
    "#df[int(((len(df)/4)*3) +1):int(((len(df)/4)*4))].to_csv('credits04.csv')"
   ]
  },
  {
   "cell_type": "code",
   "execution_count": 43,
   "id": "1f3de49c",
   "metadata": {},
   "outputs": [],
   "source": [
    "#df = pd.read_csv('ratings.csv')"
   ]
  },
  {
   "cell_type": "code",
   "execution_count": 46,
   "id": "9c72b3ca",
   "metadata": {},
   "outputs": [
    {
     "name": "stdout",
     "output_type": "stream",
     "text": [
      "Total:26024289\n",
      "First chunk: 0 - 8674763.0\n",
      "Second chunk: 8674764.0 - 17349526.0\n",
      "Third chunk: 17349527.0 - 26024289.0\n"
     ]
    }
   ],
   "source": [
    "print(f\"Total:{len(df)}\")\n",
    "print(f\"First chunk: {0} - {len(df)/3}\")\n",
    "print(f\"Second chunk: {(len(df)/3) +1} - {((len(df)/3)*2)}\")\n",
    "print(f\"Third chunk: {((len(df)/3)*2) +1} - {((len(df)/3)*3)}\")"
   ]
  },
  {
   "cell_type": "code",
   "execution_count": 47,
   "id": "2413f37a",
   "metadata": {},
   "outputs": [],
   "source": [
    "#df[0:int(len(df)/3)].to_csv('ratings01.csv')"
   ]
  },
  {
   "cell_type": "code",
   "execution_count": null,
   "id": "d5a20717",
   "metadata": {},
   "outputs": [],
   "source": [
    "#df[(len(df)/3) +1:int(((len(df)/3)*2)].to_csv('ratings02.csv')"
   ]
  },
  {
   "cell_type": "code",
   "execution_count": null,
   "id": "f6efc3df",
   "metadata": {},
   "outputs": [],
   "source": [
    "#df[((len(df)/3)*2) +1:int(((len(df)/3)*3))].to_csv('ratings03.csv')"
   ]
  }
 ],
 "metadata": {
  "kernelspec": {
   "display_name": "Python 3 (ipykernel)",
   "language": "python",
   "name": "python3"
  },
  "language_info": {
   "codemirror_mode": {
    "name": "ipython",
    "version": 3
   },
   "file_extension": ".py",
   "mimetype": "text/x-python",
   "name": "python",
   "nbconvert_exporter": "python",
   "pygments_lexer": "ipython3",
   "version": "3.9.15"
  }
 },
 "nbformat": 4,
 "nbformat_minor": 5
}
