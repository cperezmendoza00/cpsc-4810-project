{
 "cells": [
  {
   "cell_type": "markdown",
   "id": "587164ea",
   "metadata": {},
   "source": [
    "# TABLE OF CONTENT\n",
    "\n",
    "xx\n",
    "xx\n",
    "xx\n",
    "\n",
    "\n",
    "# PROBLEM DESCRIPTION\n",
    "\n",
    "xx\n",
    "xx\n",
    "xx\n",
    "\n",
    "***\n",
    "\n",
    "# THE DATA\n"
   ]
  },
  {
   "cell_type": "code",
   "execution_count": 6,
   "id": "6b6779d0",
   "metadata": {},
   "outputs": [],
   "source": [
    "import pandas as pd\n",
    "df = pd.read_csv('credits.csv')"
   ]
  },
  {
   "cell_type": "code",
   "execution_count": 33,
   "id": "eb0a3b8f",
   "metadata": {},
   "outputs": [
    {
     "name": "stdout",
     "output_type": "stream",
     "text": [
      "Total:45476\n",
      "First chunk: 0 - 11369.0\n",
      "Second chunk: 11370.0 - 22738.0\n",
      "Third chunk: 22739.0 - 34107.0\n",
      "Third chunk: 34108.0 - 45476.0\n"
     ]
    }
   ],
   "source": [
    "df.iloc[1:10]\n",
    "\n",
    "print(f\"Total:{len(df)}\")\n",
    "print(f\"First chunk: {0} - {len(df)/4}\")\n",
    "print(f\"Second chunk: {(len(df)/4) +1} - {((len(df)/4)*2)}\")\n",
    "print(f\"Third chunk: {((len(df)/4)*2) +1} - {((len(df)/4)*3)}\")\n",
    "print(f\"Four chunk: {((len(df)/4)*3) +1} - {((len(df)/4)*4)}\")"
   ]
  },
  {
   "cell_type": "code",
   "execution_count": 35,
   "id": "bc387ce5",
   "metadata": {},
   "outputs": [],
   "source": [
    "df[0:int(len(df)/4)].to_csv('credits01.csv')"
   ]
  },
  {
   "cell_type": "code",
   "execution_count": null,
   "id": "8e5b5e1c",
   "metadata": {},
   "outputs": [],
   "source": [
    "df[int((len(df)/4) +1):int(((len(df)/4)*2))].to_csv('credits02.csv')"
   ]
  },
  {
   "cell_type": "code",
   "execution_count": null,
   "id": "80bdc0c2",
   "metadata": {},
   "outputs": [],
   "source": [
    "df[int(((len(df)/4)*2) +1):int(((len(df)/4)*3))].to_csv('credits03.csv')"
   ]
  },
  {
   "cell_type": "code",
   "execution_count": null,
   "id": "a3682bf7",
   "metadata": {},
   "outputs": [],
   "source": [
    "df[int(((len(df)/4)*3) +1):int(((len(df)/4)*4))].to_csv('credits04.csv')"
   ]
  }
 ],
 "metadata": {
  "kernelspec": {
   "display_name": "Python 3 (ipykernel)",
   "language": "python",
   "name": "python3"
  },
  "language_info": {
   "codemirror_mode": {
    "name": "ipython",
    "version": 3
   },
   "file_extension": ".py",
   "mimetype": "text/x-python",
   "name": "python",
   "nbconvert_exporter": "python",
   "pygments_lexer": "ipython3",
   "version": "3.9.15"
  }
 },
 "nbformat": 4,
 "nbformat_minor": 5
}
