{
 "cells": [
  {
   "cell_type": "markdown",
   "id": "587164ea",
   "metadata": {},
   "source": [
    "# What do we have to do?\n",
    "\n",
    "- Data acquisition\n",
    "- Preparation\n",
    "- Cleaning and aggregation\n",
    "- Exploratory data analyis\n",
    "\n",
    "\n",
    "# Description\n",
    "\n",
    "xx\n",
    "xx\n",
    "xx\n",
    "\n",
    "***\n",
    "\n",
    "# Data\n",
    "Main datasets:\n",
    "- **movies_metadata.csv** - Movies dataset\n",
    "- **credits_cleaned01.csv** - List of people per movie (directors, actors, etc)\n",
    "\n",
    "***\n"
   ]
  },
  {
   "cell_type": "markdown",
   "id": "e84e9ad8",
   "metadata": {},
   "source": [
    "## Movies"
   ]
  },
  {
   "cell_type": "code",
   "execution_count": 38,
   "id": "bae6afc0",
   "metadata": {},
   "outputs": [
    {
     "name": "stdout",
     "output_type": "stream",
     "text": [
      "Columns:\n",
      "adult,  belongs_to_collection,  budget,  genres,  homepage,  id,  imdb_id,  original_language,  original_title,  overview,  popularity,  poster_path,  production_companies,  production_countries,  release_date,  revenue,  runtime,  spoken_languages,  status,  tagline,  title,  video,  vote_average,  vote_count\n"
     ]
    }
   ],
   "source": [
    "import pandas as pd\n",
    "movies = pd.read_csv('data/movies_metadata.csv',dtype={'popularity': 'float'}, na_values=['Beware Of Frost Bites'])\n",
    "print('Columns:')\n",
    "print(',  '.join(movies))"
   ]
  },
  {
   "cell_type": "code",
   "execution_count": 39,
   "id": "7489b1c4",
   "metadata": {},
   "outputs": [
    {
     "data": {
      "text/html": [
       "<div>\n",
       "<style scoped>\n",
       "    .dataframe tbody tr th:only-of-type {\n",
       "        vertical-align: middle;\n",
       "    }\n",
       "\n",
       "    .dataframe tbody tr th {\n",
       "        vertical-align: top;\n",
       "    }\n",
       "\n",
       "    .dataframe thead th {\n",
       "        text-align: right;\n",
       "    }\n",
       "</style>\n",
       "<table border=\"1\" class=\"dataframe\">\n",
       "  <thead>\n",
       "    <tr style=\"text-align: right;\">\n",
       "      <th></th>\n",
       "      <th>adult</th>\n",
       "      <th>belongs_to_collection</th>\n",
       "      <th>budget</th>\n",
       "      <th>genres</th>\n",
       "      <th>homepage</th>\n",
       "      <th>id</th>\n",
       "      <th>imdb_id</th>\n",
       "      <th>original_language</th>\n",
       "      <th>original_title</th>\n",
       "      <th>overview</th>\n",
       "      <th>...</th>\n",
       "      <th>release_date</th>\n",
       "      <th>revenue</th>\n",
       "      <th>runtime</th>\n",
       "      <th>spoken_languages</th>\n",
       "      <th>status</th>\n",
       "      <th>tagline</th>\n",
       "      <th>title</th>\n",
       "      <th>video</th>\n",
       "      <th>vote_average</th>\n",
       "      <th>vote_count</th>\n",
       "    </tr>\n",
       "  </thead>\n",
       "  <tbody>\n",
       "    <tr>\n",
       "      <th>0</th>\n",
       "      <td>False</td>\n",
       "      <td>{'id': 10194, 'name': 'Toy Story Collection', ...</td>\n",
       "      <td>30000000</td>\n",
       "      <td>[{'id': 16, 'name': 'Animation'}, {'id': 35, '...</td>\n",
       "      <td>http://toystory.disney.com/toy-story</td>\n",
       "      <td>862</td>\n",
       "      <td>tt0114709</td>\n",
       "      <td>en</td>\n",
       "      <td>Toy Story</td>\n",
       "      <td>Led by Woody, Andy's toys live happily in his ...</td>\n",
       "      <td>...</td>\n",
       "      <td>1995-10-30</td>\n",
       "      <td>373554033.0</td>\n",
       "      <td>81.0</td>\n",
       "      <td>[{'iso_639_1': 'en', 'name': 'English'}]</td>\n",
       "      <td>Released</td>\n",
       "      <td>NaN</td>\n",
       "      <td>Toy Story</td>\n",
       "      <td>False</td>\n",
       "      <td>7.7</td>\n",
       "      <td>5415.0</td>\n",
       "    </tr>\n",
       "  </tbody>\n",
       "</table>\n",
       "<p>1 rows × 24 columns</p>\n",
       "</div>"
      ],
      "text/plain": [
       "   adult                              belongs_to_collection    budget  \\\n",
       "0  False  {'id': 10194, 'name': 'Toy Story Collection', ...  30000000   \n",
       "\n",
       "                                              genres  \\\n",
       "0  [{'id': 16, 'name': 'Animation'}, {'id': 35, '...   \n",
       "\n",
       "                               homepage   id    imdb_id original_language  \\\n",
       "0  http://toystory.disney.com/toy-story  862  tt0114709                en   \n",
       "\n",
       "  original_title                                           overview  ...  \\\n",
       "0      Toy Story  Led by Woody, Andy's toys live happily in his ...  ...   \n",
       "\n",
       "   release_date      revenue runtime  \\\n",
       "0    1995-10-30  373554033.0    81.0   \n",
       "\n",
       "                           spoken_languages    status  tagline      title  \\\n",
       "0  [{'iso_639_1': 'en', 'name': 'English'}]  Released      NaN  Toy Story   \n",
       "\n",
       "   video vote_average vote_count  \n",
       "0  False          7.7     5415.0  \n",
       "\n",
       "[1 rows x 24 columns]"
      ]
     },
     "execution_count": 39,
     "metadata": {},
     "output_type": "execute_result"
    }
   ],
   "source": [
    "movies.head(1)"
   ]
  },
  {
   "cell_type": "markdown",
   "id": "5429df5f",
   "metadata": {},
   "source": [
    "***\n",
    "## CREDITS\n",
    "This dataframe contains 3 columns:\n",
    "- **cast**: Json string with the information about the actor/acrtrees\n",
    "- **crew**: Json string with the information about Directors and other members of the team\n",
    "- **id**: Movie identifier\n",
    "\n",
    "***\n",
    "\n",
    "First we import json to to be able to deal with json strings:"
   ]
  },
  {
   "cell_type": "code",
   "execution_count": 434,
   "id": "e4a35d39",
   "metadata": {},
   "outputs": [],
   "source": [
    "import json\n",
    "from os.path import exists"
   ]
  },
  {
   "cell_type": "markdown",
   "id": "535e857b",
   "metadata": {},
   "source": [
    "**credits_cleaned01** is big in size, the first action we are doing here is removing the column **crew** since we are not going to use it and then we save the dataset as a new file (which size is almost a half of the original dataset)"
   ]
  },
  {
   "cell_type": "markdown",
   "id": "b54e8ecc",
   "metadata": {},
   "source": [
    "## REDUCING CREDITS FILE SIZE"
   ]
  },
  {
   "cell_type": "markdown",
   "id": "039e3cc5",
   "metadata": {},
   "source": [
    "**RUN ALL THIS IF YOU HAVE THE credits_cleaned01.csv FILE,**\n",
    "\n",
    "This file is greater than 100mb, we can not upload it into github, skip this part and run the section where we import the file **credits_cleaned03.csv** down below."
   ]
  },
  {
   "cell_type": "code",
   "execution_count": 477,
   "id": "30e1b4eb",
   "metadata": {},
   "outputs": [
    {
     "data": {
      "text/plain": [
       "['Unnamed: 0', 'cast', 'id']"
      ]
     },
     "metadata": {},
     "output_type": "display_data"
    }
   ],
   "source": [
    "file_exists = exists(\"data/credits_cleaned01.csv\")\n",
    "if(file_exists):\n",
    "    credits = pd.read_csv('data/credits_cleaned01.csv')\n",
    "    credits.drop(columns=['crew'], inplace=True, axis=1)\n",
    "    credits.to_csv('data/credits_cleaned02.csv', index=False)\n",
    "    display(list(credits.columns))"
   ]
  },
  {
   "cell_type": "markdown",
   "id": "be8ed08e",
   "metadata": {},
   "source": [
    "Now we read again the new file  and displays its size and columns where we can see there are only two "
   ]
  },
  {
   "cell_type": "code",
   "execution_count": 493,
   "id": "48068f73",
   "metadata": {},
   "outputs": [
    {
     "data": {
      "text/plain": [
       "45399"
      ]
     },
     "metadata": {},
     "output_type": "display_data"
    },
    {
     "data": {
      "text/plain": [
       "['cast', 'id']"
      ]
     },
     "metadata": {},
     "output_type": "display_data"
    }
   ],
   "source": [
    "file_exists = exists(\"data/credits_cleaned02.csv\")\n",
    "if(file_exists):\n",
    "    credits = pd.read_csv('data/credits_cleaned02.csv',index_col=0)\n",
    "    display(len(credits))\n",
    "    display(list(credits.columns))"
   ]
  },
  {
   "cell_type": "markdown",
   "id": "4bd6bb7b",
   "metadata": {},
   "source": [
    "Each row contains a large json with information we don't wan't want to use, this is how each **cast** looks like"
   ]
  },
  {
   "cell_type": "code",
   "execution_count": 494,
   "id": "17f428a0",
   "metadata": {},
   "outputs": [
    {
     "data": {
      "text/plain": [
       "\"[{'cast_id': 14, 'character': 'Woody (voice)', 'credit_id': '52fe4284c3a36847f8024f95', 'gender': 2, 'id': 31, 'name': 'Tom Hanks', 'order': 0, 'profile_path': '/pQFoyx7rp09CJTAb932F2g8Nlho.jpg'}, {'cast_id': 15, 'character': 'Buzz Lightyear (voice)', 'credit_id': '52fe4284c3a36847f8024f99', 'gender': 2, 'id': 12898, 'name': 'Tim Allen', 'order': 1, 'profile_path': '/uX2xVf6pMmPepxnvFWyBtjexzgY.jpg'}, {'cast_id': 16, 'character': 'Mr. Potato Head (voice)', 'credit_id': '52fe4284c3a36847f8024f9d', 'gender': 2, 'id': 7167, 'name': 'Don Rickles', 'order': 2, 'profile_path': '/h5BcaDMPRVLHLDzbQavec4xfSdt.jpg'}, {'cast_id': 17, 'character': 'Slinky Dog (voice)', 'credit_id': '52fe4284c3a36847f8024fa1', 'gender': 2, 'id': 12899, 'name': 'Jim Varney', 'order': 3, 'profile_path': '/eIo2jVVXYgjDtaHoF19Ll9vtW7h.jpg'}, {'cast_id': 18, 'character': 'Rex (voice)', 'credit_id': '52fe4284c3a36847f8024fa5', 'gender': 2, 'id': 12900, 'name': 'Wallace Shawn', 'order': 4, 'profile_path': '/oGE6JqPP2xH4tNORKNqxbNPYi7u.jpg'}, {'cast_id': 19, 'character': 'Hamm (voice)', 'credit_id': '52fe4284c3a36847f8024fa9', 'gender': 2, 'id': 7907, 'name': 'John Ratzenberger', 'order': 5, 'profile_path': '/yGechiKWL6TJDfVE2KPSJYqdMsY.jpg'}, {'cast_id': 20, 'character': 'Bo Peep (voice)', 'credit_id': '52fe4284c3a36847f8024fad', 'gender': 1, 'id': 8873, 'name': 'Annie Potts', 'order': 6, 'profile_path': '/eryXT84RL41jHSJcMy4kS3u9y6w.jpg'}, {'cast_id': 26, 'character': 'Andy (voice)', 'credit_id': '52fe4284c3a36847f8024fc1', 'gender': 0, 'id': 1116442, 'name': 'John Morris', 'order': 7, 'profile_path': '/vYGyvK4LzeaUCoNSHtsuqJUY15M.jpg'}, {'cast_id': 22, 'character': 'Sid (voice)', 'credit_id': '52fe4284c3a36847f8024fb1', 'gender': 2, 'id': 12901, 'name': 'Erik von Detten', 'order': 8, 'profile_path': '/twnF1ZaJ1FUNUuo6xLXwcxjayBE.jpg'}, {'cast_id': 23, 'character': 'Mrs. Davis (voice)', 'credit_id': '52fe4284c3a36847f8024fb5', 'gender': 1, 'id': 12133, 'name': 'Laurie Metcalf', 'order': 9, 'profile_path': '/unMMIT60eoBM2sN2nyR7EZ2BvvD.jpg'}, {'cast_id': 24, 'character': 'Sergeant (voice)', 'credit_id': '52fe4284c3a36847f8024fb9', 'gender': 2, 'id': 8655, 'name': 'R. Lee Ermey', 'order': 10, 'profile_path': '/r8GBqFBjypLUP9VVqDqfZ7wYbSs.jpg'}, {'cast_id': 25, 'character': 'Hannah (voice)', 'credit_id': '52fe4284c3a36847f8024fbd', 'gender': 1, 'id': 12903, 'name': 'Sarah Freeman', 'order': 11, 'profile_path': None}, {'cast_id': 27, 'character': 'TV Announcer (voice)', 'credit_id': '52fe4284c3a36847f8024fc5', 'gender': 2, 'id': 37221, 'name': 'Penn Jillette', 'order': 12, 'profile_path': '/zmAaXUdx12NRsssgHbk1T31j2x9.jpg'}]\""
      ]
     },
     "metadata": {},
     "output_type": "display_data"
    }
   ],
   "source": [
    "if(file_exists):\n",
    "    display(credits.iloc[0]['cast'])"
   ]
  },
  {
   "cell_type": "markdown",
   "id": "e8650732",
   "metadata": {},
   "source": [
    "Since the format of the json is not compatible with **json.loads()** we need to change the structure in order to have a dict of people for each movie:\n",
    "- Loop through each row on de dataset\n",
    "- Change quotes to dummy values\n",
    "- Remove unnecesary quotes or backslash (if any)\n",
    "- Remove unnecesary indexes from the dict of people\n",
    "- Update the dataset with the reduced json file"
   ]
  },
  {
   "cell_type": "code",
   "execution_count": 545,
   "id": "40ced754",
   "metadata": {},
   "outputs": [],
   "source": [
    "file_exists = exists(\"data/credits_cleaned02.csv\")\n",
    "if(file_exists):\n",
    "    credits = pd.read_csv('data/credits_cleaned02.csv',index_col=0)\n",
    "    credits.reset_index(drop=True, inplace=True)\n",
    "\n",
    "errors = []\n",
    "if(file_exists):\n",
    "    for i, credit in credits.iterrows():\n",
    "        if(i >= 0):\n",
    "            try:\n",
    "                cast = credit.cast\n",
    "                cast = cast.replace(\"{'\", \"{##\")\n",
    "                cast = cast.replace('{\"', \"{##\")\n",
    "\n",
    "                cast = cast.replace(\"': \", \"##: \")\n",
    "                cast = cast.replace('\": ', \"##: \")\n",
    "\n",
    "                cast = cast.replace(\", '\", \", ##\")\n",
    "                cast = cast.replace(', \"', \", ##\")\n",
    "\n",
    "                cast = cast.replace(\"'}\", \"##}\")\n",
    "                cast = cast.replace('\"}', \"##}\")\n",
    "\n",
    "                cast = cast.replace(\": '\", \": ##\")\n",
    "                cast = cast.replace(\"', \", \"##, \")\n",
    "                cast = cast.replace(': \"', ': ##')\n",
    "                cast = cast.replace('\", ', '##, ')\n",
    "                cast = cast.replace('\"}', '##}')\n",
    "                cast = cast.replace(\"\\\\\", '')\n",
    "\n",
    "                cast = cast.replace('\"', \"\")\n",
    "                cast = cast.replace(\"'\", \"\")\n",
    "\n",
    "                cast = cast.replace('##', '\"')\n",
    "                cast = cast.replace(\": None\", \": null\")\n",
    "                if(credit.cast == \"[]\" or credit.cast == \"\"):\n",
    "                    errors.append(i)\n",
    "                else:\n",
    "                    arrayOfPeople = json.loads(cast)\n",
    "                    for dictOfPeople in arrayOfPeople:\n",
    "                        dictOfPeople.pop(\"cast_id\")\n",
    "                        dictOfPeople.pop(\"credit_id\")\n",
    "                        dictOfPeople.pop(\"gender\")\n",
    "                        dictOfPeople.pop(\"order\")\n",
    "                        dictOfPeople.pop(\"profile_path\")\n",
    "                        dictOfPeople.pop(\"id\")\n",
    "                        dictOfPeople['character'].replace('\"',\"´\")\n",
    "                    credits.iloc[i,0] = json.dumps(arrayOfPeople)\n",
    "            except Exception as e:\n",
    "                #print(i)\n",
    "                errors.append(i)\n"
   ]
  },
  {
   "cell_type": "code",
   "execution_count": 546,
   "id": "f537a61c",
   "metadata": {},
   "outputs": [
    {
     "name": "stdout",
     "output_type": "stream",
     "text": [
      "[137, 240, 393, 438, 595, 620, 661, 671, 679, 711, 741, 752, 756, 767, 771, 819, 833, 957, 1010, 1102, 1106, 1126, 1272, 1388, 1393, 1405, 1489, 1626, 1628, 1632, 1657, 1685, 1691, 1721, 1768, 1792, 2216, 2369, 2423, 2449, 2626, 2706, 2790, 2875, 2964, 3068, 3105, 3113, 3116, 3157, 3160, 3182, 3306, 3457, 3484, 3500, 3552, 3624, 3731, 3759, 3941, 3945, 4041, 4077, 4099, 4171, 4182, 4321, 4322, 4324, 4577, 4592, 4625, 4644, 4749, 4933, 5000, 5148, 5210, 5396, 5430, 5476, 5500, 5538, 5541, 5596, 5613, 5660, 5666, 5759, 5871, 5999, 6048, 6101, 6106, 6122, 6183, 6188, 6294, 6430, 6508, 6521, 6534, 6599, 6602, 6607, 6616, 6769, 6780, 6784, 6800, 6967, 6982, 7132, 7187, 7262, 7263, 7316, 7354, 7365, 7445, 7582, 7887, 7889, 7892, 7899, 7970, 8015, 8059, 8073, 8222, 8237, 8249, 8280, 8609, 8780, 8795, 8947, 9003, 9054, 9202, 9203, 9215, 9231, 9275, 9281, 9322, 9346, 9397, 9424, 9460, 9475, 9503, 9504, 9711, 9751, 9816, 9872, 9974, 9986, 10078, 10123, 10226, 10436, 10470, 10527, 10568, 10576, 10578, 10594, 10644, 10671, 10818, 10850, 10869, 10871, 11417, 11453, 11512, 11534, 11535, 11622, 11759, 11768, 11803, 11808, 11820, 11852, 11879, 11893, 11957, 12053, 12158, 12191, 12237, 12246, 12333, 12346, 12413, 12442, 12476, 12523, 12548, 12596, 12634, 12635, 12700, 12737, 12804, 12861, 12915, 12953, 12972, 13058, 13069, 13109, 13140, 13153, 13193, 13207, 13214, 13219, 13240, 13253, 13276, 13288, 13293, 13307, 13337, 13357, 13448, 13472, 13489, 13498, 13548, 13576, 13593, 13606, 13625, 13653, 13660, 13677, 13680, 13739, 13782, 13851, 13877, 13893, 13900, 13925, 13935, 13979, 14014, 14047, 14075, 14198, 14203, 14233, 14239, 14254, 14256, 14277, 14321, 14322, 14333, 14375, 14381, 14388, 14433, 14435, 14442, 14446, 14449, 14455, 14464, 14482, 14506, 14512, 14517, 14523, 14580, 14593, 14606, 14634, 14668, 14672, 14702, 14705, 14710, 14728, 14778, 14845, 14863, 14866, 14945, 15012, 15020, 15196, 15224, 15233, 15238, 15243, 15291, 15301, 15314, 15351, 15379, 15387, 15392, 15408, 15411, 15511, 15594, 15620, 15625, 15684, 15701, 15702, 15713, 15765, 15774, 15792, 15799, 15824, 15828, 15831, 15865, 15916, 15926, 15930, 15944, 15980, 15985, 16004, 16013, 16069, 16114, 16126, 16143, 16146, 16169, 16207, 16243, 16261, 16274, 16322, 16359, 16372, 16387, 16389, 16391, 16397, 16403, 16462, 16471, 16581, 16621, 16634, 16635, 16694, 16721, 16727, 16751, 16765, 16809, 16810, 16841, 16856, 16874, 16896, 16898, 16900, 16926, 16932, 16933, 16986, 16991, 16998, 16999, 17032, 17043, 17044, 17069, 17083, 17107, 17135, 17216, 17220, 17225, 17226, 17229, 17230, 17234, 17243, 17254, 17292, 17297, 17304, 17306, 17311, 17322, 17347, 17354, 17380, 17395, 17430, 17434, 17440, 17471, 17474, 17515, 17530, 17546, 17549, 17572, 17615, 17629, 17630, 17636, 17656, 17665, 17666, 17682, 17738, 17768, 17769, 17777, 17808, 17817, 17834, 17850, 17853, 17863, 17865, 17877, 17878, 17896, 17897, 17922, 17923, 17929, 17938, 17945, 17985, 18007, 18009, 18045, 18058, 18069, 18070, 18085, 18090, 18133, 18142, 18147, 18153, 18157, 18233, 18261, 18271, 18287, 18289, 18315, 18317, 18332, 18338, 18357, 18389, 18391, 18399, 18401, 18410, 18430, 18465, 18466, 18473, 18485, 18513, 18516, 18517, 18533, 18541, 18548, 18573, 18581, 18585, 18587, 18612, 18641, 18655, 18669, 18675, 18717, 18719, 18736, 18738, 18761, 18774, 18812, 18823, 18836, 18847, 18867, 18872, 18890, 18894, 18928, 18929, 18942, 18944, 18965, 19061, 19074, 19075, 19079, 19081, 19086, 19091, 19133, 19161, 19183, 19195, 19270, 19290, 19319, 19334, 19336, 19359, 19383, 19408, 19426, 19463, 19485, 19508, 19509, 19510, 19512, 19513, 19530, 19531, 19544, 19568, 19579, 19592, 19593, 19611, 19612, 19637, 19639, 19650, 19659, 19669, 19670, 19678, 19679, 19680, 19704, 19707, 19774, 19781, 19805, 19815, 19832, 19833, 19841, 19843, 19855, 19906, 19907, 19917, 19920, 19937, 19938, 19939, 19963, 19975, 19988, 19990, 20068, 20095, 20102, 20103, 20119, 20125, 20126, 20131, 20141, 20153, 20191, 20194, 20195, 20204, 20239, 20266, 20274, 20284, 20285, 20294, 20295, 20302, 20307, 20309, 20315, 20318, 20332, 20335, 20384, 20388, 20398, 20418, 20421, 20424, 20437, 20441, 20449, 20452, 20455, 20458, 20464, 20469, 20474, 20479, 20483, 20485, 20488, 20520, 20521, 20527, 20532, 20552, 20566, 20576, 20577, 20580, 20592, 20596, 20607, 20616, 20708, 20709, 20737, 20739, 20743, 20745, 20787, 20791, 20793, 20828, 20844, 20848, 20879, 20880, 20938, 20939, 20963, 20968, 20977, 20978, 20995, 21016, 21022, 21050, 21051, 21058, 21059, 21067, 21071, 21108, 21112, 21124, 21130, 21135, 21142, 21149, 21171, 21187, 21192, 21195, 21205, 21218, 21236, 21256, 21257, 21265, 21267, 21289, 21292, 21300, 21303, 21319, 21331, 21340, 21356, 21369, 21388, 21413, 21417, 21426, 21428, 21435, 21438, 21465, 21483, 21494, 21544, 21551, 21564, 21601, 21607, 21645, 21655, 21667, 21673, 21702, 21758, 21766, 21818, 21821, 21829, 21853, 21856, 21860, 21885, 21892, 21899, 21917, 21922, 21953, 22035, 22140, 22147, 22189, 22198, 22250, 22303, 22305, 22340, 22350, 22359, 22365, 22372, 22377, 22399, 22454, 22467, 22480, 22493, 22530, 22553, 22591, 22599, 22629, 22653, 22655, 22662, 22701, 22712, 22723, 22733, 22735, 22761, 22769, 22770, 22771, 22789, 22823, 22852, 22859, 22871, 22873, 22874, 22921, 22950, 22964, 22968, 22978, 22995, 23087, 23108, 23110, 23142, 23148, 23159, 23160, 23162, 23205, 23213, 23215, 23251, 23284, 23285, 23289, 23346, 23366, 23367, 23376, 23382, 23427, 23444, 23446, 23464, 23572, 23574, 23575, 23597, 23626, 23644, 23676, 23699, 23709, 23737, 23738, 23832, 23850, 23877, 23884, 23890, 23934, 23943, 23958, 23959, 23961, 23962, 23980, 23981, 23988, 23993, 24002, 24013, 24028, 24037, 24039, 24040, 24062, 24113, 24114, 24117, 24118, 24120, 24150, 24151, 24158, 24182, 24186, 24195, 24196, 24201, 24242, 24275, 24280, 24284, 24285, 24286, 24290, 24297, 24304, 24310, 24322, 24325, 24327, 24346, 24361, 24362, 24363, 24372, 24377, 24398, 24412, 24413, 24414, 24452, 24460, 24467, 24470, 24484, 24486, 24504, 24509, 24574, 24585, 24663, 24684, 24696, 24700, 24701, 24800, 24874, 24888, 24892, 24894, 24895, 24896, 24946, 24961, 24992, 25046, 25143, 25148, 25154, 25156, 25175, 25177, 25182, 25210, 25214, 25237, 25270, 25271, 25284, 25290, 25333, 25342, 25343, 25344, 25376, 25397, 25411, 25435, 25439, 25440, 25441, 25442, 25443, 25444, 25447, 25448, 25451, 25452, 25453, 25454, 25461, 25486, 25490, 25503, 25504, 25505, 25517, 25522, 25534, 25589, 25611, 25649, 25661, 25676, 25682, 25707, 25711, 25712, 25728, 25763, 25788, 25790, 25791, 25822, 25835, 25851, 25852, 25857, 25859, 25861, 25888, 25924, 25925, 25934, 25966, 26134, 26174, 26218, 26267, 26578, 26601, 26848, 26920, 26998, 27033, 27044, 27065, 27070, 27115, 27190, 27191, 27217, 27264, 27276, 27380, 27391, 27398, 27453, 27457, 27458, 27460, 27461, 27469, 27470, 27478, 27496, 27500, 27502, 27503, 27504, 27506, 27514, 27515, 27518, 27519, 27521, 27523, 27524, 27525, 27528, 27534, 27535, 27537, 27559, 27588, 27605, 27606, 27614, 27622, 27625, 27649, 27688, 27697, 27708, 27711, 27716, 27717, 27722, 27724, 27725, 27728, 27740, 27753, 27756, 27761, 27766, 27767, 27768, 27780, 27812, 27815, 27819, 27820, 27822, 27823, 27830, 27869, 27872, 27907, 27910, 27920, 27921, 27922, 27923, 27924, 27927, 27975, 27983, 27986, 28102, 28142, 28166, 28225, 28232, 28248, 28250, 28268, 28287, 28288, 28300, 28319, 28323, 28332, 28337, 28348, 28349, 28386, 28411, 28435, 28437, 28484, 28485, 28493, 28498, 28499, 28509, 28510, 28529, 28549, 28557, 28560, 28585, 28586, 28600, 28625, 28635, 28636, 28639, 28680, 28687, 28690, 28713, 28718, 28731, 28735, 28809, 28832, 28859, 28867, 28894, 28901, 28933, 28935, 28949, 28954, 28976, 28977, 29047, 29078, 29080, 29100, 29160, 29169, 29171, 29180, 29182, 29268, 29274, 29299, 29315, 29324, 29351, 29362, 29363, 29384, 29388, 29401, 29404, 29414, 29436, 29460, 29461, 29474, 29482, 29488, 29506, 29536, 29539, 29566, 29591, 29600, 29672, 29691, 29693, 29705, 29707, 29709, 29712, 29715, 29718, 29719, 29720, 29721, 29722, 29770, 29771, 29782, 29787, 29834, 29910, 29920, 29976, 30000, 30016, 30025, 30029, 30039, 30090, 30186, 30193, 30236, 30264, 30306, 30307, 30315, 30316, 30317, 30328, 30336, 30342, 30346, 30349, 30353, 30359, 30381, 30384, 30389, 30390, 30409, 30431, 30435, 30454, 30455, 30457, 30458, 30467, 30474, 30475, 30515, 30519, 30520, 30523, 30525, 30542, 30574, 30591, 30647, 30660, 30801, 30864, 30906, 30934, 30975, 31021, 31056, 31187, 31191, 31192, 31201, 31208, 31260, 31279, 31280, 31281, 31282, 31283, 31310, 31326, 31334, 31345, 31392, 31406, 31407, 31427, 31440, 31455, 31457, 31458, 31508, 31619, 31639, 31641, 31651, 31678, 31691, 31695, 31711, 31714, 31731, 31733, 31734, 31735, 31736, 31738, 31741, 31745, 31748, 31751, 31774, 31778, 31786, 31824, 31894, 31899, 31905, 31911, 31944, 31947, 31962, 31964, 32003, 32006, 32068, 32099, 32101, 32104, 32117, 32129, 32130, 32131, 32161, 32164, 32190, 32225, 32246, 32252, 32270, 32276, 32278, 32279, 32280, 32281, 32284, 32292, 32309, 32324, 32358, 32431, 32445, 32454, 32462, 32479, 32548, 32570, 32583, 32599, 32606, 32608, 32616, 32619, 32630, 32634, 32640, 32648, 32700, 32751, 32767, 32773, 32776, 32793, 32809, 32836, 32838, 32872, 32909, 32910, 32922, 32953, 32991, 33014, 33015, 33036, 33047, 33061, 33063, 33064, 33137, 33140, 33141, 33142, 33186, 33197, 33220, 33250, 33289, 33295, 33314, 33318, 33345, 33354, 33367, 33391, 33392, 33393, 33405, 33450, 33462, 33492, 33541, 33573, 33574, 33585, 33601, 33610, 33617, 33792, 33797, 33816, 33849, 33878, 33914, 33916, 33917, 33923, 33950, 34081, 34083, 34085, 34143, 34167, 34194, 34205, 34233, 34235, 34237, 34240, 34245, 34246, 34248, 34249, 34250, 34308, 34321, 34334, 34336, 34341, 34354, 34367, 34379, 34384, 34386, 34389, 34397, 34401, 34403, 34407, 34432, 34439, 34448, 34469, 34535, 34579, 34580, 34588, 34613, 34614, 34617, 34618, 34632, 34694, 34696, 34731, 34817, 34825, 34827, 34838, 34843, 34888, 34890, 34895, 34896, 34897, 34902, 34960, 34985, 35002, 35031, 35032, 35096, 35102, 35110, 35114, 35133, 35134, 35135, 35142, 35143, 35146, 35153, 35156, 35171, 35192, 35218, 35269, 35278, 35282, 35294, 35298, 35311, 35312, 35315, 35320, 35349, 35364, 35370, 35406, 35409, 35443, 35462, 35470, 35532, 35544, 35585, 35609, 35625, 35636, 35655, 35683, 35687, 35697, 35708, 35732, 35738, 35763, 35765, 35770, 35778, 35783, 35788, 35804, 35807, 35814, 35817, 35821, 35829, 35831, 35834, 35837, 35852, 35856, 35910, 35939, 35947, 35948, 35962, 35963, 35966, 35985, 35988, 35994, 36023, 36028, 36034, 36046, 36054, 36064, 36073, 36078, 36103, 36104, 36108, 36129, 36146, 36160, 36161, 36179, 36214, 36249, 36274, 36306, 36320, 36328, 36341, 36343, 36355, 36374, 36388, 36417, 36418, 36422, 36423, 36425, 36432, 36437, 36442, 36458, 36460, 36477, 36482, 36483, 36485, 36494, 36505, 36515, 36520, 36526, 36527, 36528, 36529, 36530, 36531, 36532, 36533, 36534, 36535, 36536, 36537, 36538, 36539, 36546, 36565, 36566, 36569, 36572, 36574, 36578, 36580, 36586, 36594, 36596, 36597, 36598, 36600, 36601, 36607, 36610, 36612, 36614, 36615, 36631, 36633, 36638, 36640, 36642, 36658, 36680, 36682, 36690, 36691, 36695, 36703, 36706, 36718, 36720, 36729, 36733, 36736, 36738, 36746, 36748, 36764, 36765, 36768, 36781, 36786, 36787, 36791, 36792, 36793, 36795, 36817, 36832, 36842, 36851, 36858, 36860, 36862, 36864, 36873, 36875, 36877, 36890, 36892, 36894, 36897, 36901, 36903, 36905, 36908, 36915, 36917, 36924, 36944, 36945, 36961, 36964, 36966, 36978, 36979, 37013, 37028, 37032, 37043, 37071, 37082, 37091, 37099, 37105, 37110, 37117, 37118, 37120, 37124, 37128, 37132, 37145, 37151, 37153, 37158, 37167, 37184, 37242, 37254, 37271, 37278, 37288, 37292, 37294, 37295, 37296, 37297, 37300, 37302, 37303, 37305, 37338, 37341, 37347, 37348, 37350, 37351, 37352, 37355, 37360, 37365, 37366, 37371, 37372, 37378, 37379, 37380, 37381, 37382, 37384, 37385, 37386, 37387, 37388, 37389, 37390, 37391, 37392, 37393, 37394, 37396, 37397, 37409, 37411, 37414, 37443, 37445, 37447, 37474, 37496, 37502, 37505, 37507, 37523, 37536, 37541, 37544, 37554, 37579, 37587, 37596, 37598, 37601, 37610, 37617, 37618, 37664, 37692, 37693, 37696, 37697, 37707, 37736, 37747, 37750, 37751, 37754, 37763, 37764, 37771, 37815, 37824, 37857, 37859, 37860, 37861, 37862, 37867, 37868, 37871, 37872, 37897, 37900, 37917, 37923, 37949, 37964, 37973, 37974, 37985, 37997, 37998, 38008, 38019, 38026, 38029, 38036, 38067, 38069, 38105, 38135, 38139, 38153, 38155, 38156, 38177, 38202, 38217, 38228, 38229, 38263, 38266, 38276, 38280, 38281, 38282, 38286, 38288, 38289, 38290, 38291, 38292, 38298, 38300, 38304, 38318, 38319, 38321, 38323, 38324, 38328, 38342, 38343, 38347, 38349, 38355, 38364, 38377, 38378, 38387, 38388, 38389, 38390, 38392, 38399, 38400, 38405, 38418, 38419, 38421, 38426, 38427, 38439, 38464, 38465, 38469, 38495, 38520, 38525, 38538, 38571, 38611, 38614, 38647, 38648, 38652, 38653, 38658, 38659, 38661, 38663, 38664, 38676, 38687, 38802, 38803, 38811, 38816, 38817, 38821, 38823, 38827, 38828, 38834, 38837, 38855, 38857, 38873, 38878, 38936, 38937, 38939, 38940, 38967, 38981, 39028, 39045, 39054, 39104, 39171, 39209, 39212, 39215, 39226, 39255, 39270, 39273, 39293, 39294, 39320, 39326, 39336, 39338, 39381, 39392, 39393, 39405, 39452, 39464, 39470, 39475, 39476, 39490, 39491, 39505, 39516, 39522, 39553, 39555, 39571, 39578, 39579, 39626, 39650, 39665, 39676, 39680, 39681, 39682, 39685, 39686, 39687, 39689, 39690, 39694, 39696, 39697, 39698, 39725, 39726, 39750, 39758, 39814, 39815, 39850, 39853, 39891, 39928, 39960, 39962, 39966, 39980, 40015, 40022, 40029, 40031, 40044, 40046, 40073, 40079, 40081, 40129, 40130, 40137, 40146, 40152, 40153, 40164, 40196, 40201, 40268, 40302, 40309, 40312, 40318, 40343, 40344, 40361, 40373, 40374, 40379, 40380, 40383, 40403, 40405, 40410, 40416, 40454, 40459, 40465, 40471, 40475, 40476, 40484, 40495, 40496, 40498, 40512, 40526, 40553, 40565, 40567, 40638, 40655, 40689, 40690, 40691, 40696, 40716, 40718, 40722, 40726, 40837, 40870, 40887, 40897, 40919, 40920, 40928, 40930, 40960, 40995, 41000, 41017, 41052, 41062, 41074, 41098, 41118, 41131, 41132, 41135, 41140, 41141, 41176, 41185, 41187, 41203, 41229, 41255, 41283, 41306, 41335, 41346, 41350, 41373, 41374, 41375, 41384, 41389, 41396, 41406, 41455, 41473, 41474, 41495, 41497, 41506, 41523, 41534, 41547, 41549, 41565, 41566, 41569, 41572, 41573, 41576, 41590, 41591, 41603, 41607, 41608, 41609, 41629, 41665, 41666, 41668, 41669, 41670, 41677, 41678, 41692, 41704, 41707, 41717, 41739, 41744, 41751, 41784, 41786, 41792, 41793, 41796, 41798, 41808, 41811, 41813, 41815, 41816, 41820, 41821, 41824, 41825, 41826, 41828, 41829, 41840, 41842, 41844, 41852, 41907, 41921, 41926, 41927, 41931, 41933, 41951, 41976, 41979, 41991, 41994, 42009, 42046, 42047, 42058, 42108, 42110, 42124, 42137, 42144, 42155, 42160, 42210, 42211, 42215, 42221, 42222, 42239, 42245, 42254, 42280, 42281, 42303, 42309, 42310, 42317, 42320, 42344, 42354, 42364, 42382, 42383, 42397, 42404, 42420, 42434, 42442, 42443, 42452, 42513, 42514, 42518, 42533, 42537, 42601, 42630, 42637, 42644, 42645, 42653, 42703, 42719, 42758, 42774, 42800, 42803, 42811, 42831, 42839, 42842, 42854, 42856, 42858, 42879, 42884, 42900, 42902, 42903, 42904, 42929, 42932, 42933, 42934, 42965, 42967, 42989, 42991, 43010, 43011, 43017, 43020, 43021, 43029, 43032, 43039, 43062, 43104, 43129, 43134, 43136, 43152, 43178, 43185, 43192, 43211, 43212, 43240, 43245, 43246, 43254, 43264, 43271, 43281, 43297, 43317, 43356, 43361, 43366, 43367, 43382, 43392, 43440, 43443, 43451, 43463, 43480, 43481, 43482, 43483, 43489, 43522, 43533, 43560, 43590, 43592, 43621, 43633, 43648, 43674, 43688, 43689, 43697, 43709, 43710, 43739, 43804, 43861, 43874, 43877, 43879, 43887, 43900, 43913, 43923, 43932, 43950, 43951, 43963, 43967, 43978, 43985, 43986, 43996, 44034, 44059, 44073, 44087, 44088, 44233, 44243, 44251, 44269, 44285, 44286, 44301, 44306, 44317, 44318, 44326, 44338, 44339, 44349, 44351, 44371, 44431, 44466, 44512, 44519, 44543, 44545, 44549, 44551, 44572, 44583, 44588, 44590, 44591, 44598, 44600, 44601, 44605, 44608, 44619, 44621, 44628, 44633, 44635, 44636, 44637, 44638, 44639, 44640, 44641, 44642, 44643, 44644, 44646, 44649, 44657, 44659, 44660, 44661, 44662, 44664, 44668, 44669, 44671, 44676, 44678, 44680, 44681, 44688, 44689, 44716, 44732, 44735, 44736, 44737, 44753, 44765, 44767, 44769, 44793, 44794, 44842, 44849, 44850, 44888, 44890, 44897, 44907, 44911, 44914, 44936, 44938, 44943, 44945, 44957, 44969, 44974, 44975, 44981, 44993, 45004, 45005, 45021, 45022, 45027, 45032, 45033, 45050, 45051, 45061, 45066, 45070, 45083, 45089, 45094, 45095, 45124, 45143, 45161, 45205, 45217, 45230, 45243, 45245, 45261, 45272, 45292, 45311, 45318, 45319, 45320, 45321, 45352, 45364, 45365, 45370, 45375, 45381, 45385, 45398]\n"
     ]
    }
   ],
   "source": [
    "#These are out of range elements:\n",
    "print(errors)"
   ]
  },
  {
   "cell_type": "code",
   "execution_count": 547,
   "id": "81e79741",
   "metadata": {},
   "outputs": [
    {
     "data": {
      "text/plain": [
       "45399"
      ]
     },
     "execution_count": 547,
     "metadata": {},
     "output_type": "execute_result"
    }
   ],
   "source": [
    "len(credits)"
   ]
  },
  {
   "cell_type": "code",
   "execution_count": 548,
   "id": "1cafe46b",
   "metadata": {},
   "outputs": [
    {
     "name": "stdout",
     "output_type": "stream",
     "text": [
      "index 43185 is out of bounds for axis 0 with size 43182\n",
      "index 43192 is out of bounds for axis 0 with size 43182\n",
      "index 43211 is out of bounds for axis 0 with size 43182\n",
      "index 43212 is out of bounds for axis 0 with size 43182\n",
      "index 43240 is out of bounds for axis 0 with size 43182\n",
      "index 43245 is out of bounds for axis 0 with size 43182\n",
      "index 43246 is out of bounds for axis 0 with size 43182\n",
      "index 43254 is out of bounds for axis 0 with size 43182\n",
      "index 43264 is out of bounds for axis 0 with size 43182\n",
      "index 43271 is out of bounds for axis 0 with size 43182\n",
      "index 43281 is out of bounds for axis 0 with size 43182\n",
      "index 43297 is out of bounds for axis 0 with size 43182\n",
      "index 43317 is out of bounds for axis 0 with size 43182\n",
      "index 43356 is out of bounds for axis 0 with size 43182\n",
      "index 43361 is out of bounds for axis 0 with size 43182\n",
      "index 43366 is out of bounds for axis 0 with size 43182\n",
      "index 43367 is out of bounds for axis 0 with size 43182\n",
      "index 43382 is out of bounds for axis 0 with size 43182\n",
      "index 43392 is out of bounds for axis 0 with size 43182\n",
      "index 43440 is out of bounds for axis 0 with size 43182\n",
      "index 43443 is out of bounds for axis 0 with size 43182\n",
      "index 43451 is out of bounds for axis 0 with size 43182\n",
      "index 43463 is out of bounds for axis 0 with size 43182\n",
      "index 43480 is out of bounds for axis 0 with size 43182\n",
      "index 43481 is out of bounds for axis 0 with size 43182\n",
      "index 43482 is out of bounds for axis 0 with size 43182\n",
      "index 43483 is out of bounds for axis 0 with size 43182\n",
      "index 43489 is out of bounds for axis 0 with size 43182\n",
      "index 43522 is out of bounds for axis 0 with size 43182\n",
      "index 43533 is out of bounds for axis 0 with size 43182\n",
      "index 43560 is out of bounds for axis 0 with size 43182\n",
      "index 43590 is out of bounds for axis 0 with size 43182\n",
      "index 43592 is out of bounds for axis 0 with size 43182\n",
      "index 43621 is out of bounds for axis 0 with size 43182\n",
      "index 43633 is out of bounds for axis 0 with size 43182\n",
      "index 43648 is out of bounds for axis 0 with size 43182\n",
      "index 43674 is out of bounds for axis 0 with size 43182\n",
      "index 43688 is out of bounds for axis 0 with size 43182\n",
      "index 43689 is out of bounds for axis 0 with size 43182\n",
      "index 43697 is out of bounds for axis 0 with size 43182\n",
      "index 43709 is out of bounds for axis 0 with size 43182\n",
      "index 43710 is out of bounds for axis 0 with size 43182\n",
      "index 43739 is out of bounds for axis 0 with size 43182\n",
      "index 43804 is out of bounds for axis 0 with size 43182\n",
      "index 43861 is out of bounds for axis 0 with size 43182\n",
      "index 43874 is out of bounds for axis 0 with size 43182\n",
      "index 43877 is out of bounds for axis 0 with size 43182\n",
      "index 43879 is out of bounds for axis 0 with size 43182\n",
      "index 43887 is out of bounds for axis 0 with size 43182\n",
      "index 43900 is out of bounds for axis 0 with size 43182\n",
      "index 43913 is out of bounds for axis 0 with size 43182\n",
      "index 43923 is out of bounds for axis 0 with size 43182\n",
      "index 43932 is out of bounds for axis 0 with size 43182\n",
      "index 43950 is out of bounds for axis 0 with size 43182\n",
      "index 43951 is out of bounds for axis 0 with size 43182\n",
      "index 43963 is out of bounds for axis 0 with size 43182\n",
      "index 43967 is out of bounds for axis 0 with size 43182\n",
      "index 43978 is out of bounds for axis 0 with size 43182\n",
      "index 43985 is out of bounds for axis 0 with size 43182\n",
      "index 43986 is out of bounds for axis 0 with size 43182\n",
      "index 43996 is out of bounds for axis 0 with size 43182\n",
      "index 44034 is out of bounds for axis 0 with size 43182\n",
      "index 44059 is out of bounds for axis 0 with size 43182\n",
      "index 44073 is out of bounds for axis 0 with size 43182\n",
      "index 44087 is out of bounds for axis 0 with size 43182\n",
      "index 44088 is out of bounds for axis 0 with size 43182\n",
      "index 44233 is out of bounds for axis 0 with size 43182\n",
      "index 44243 is out of bounds for axis 0 with size 43182\n",
      "index 44251 is out of bounds for axis 0 with size 43182\n",
      "index 44269 is out of bounds for axis 0 with size 43182\n",
      "index 44285 is out of bounds for axis 0 with size 43182\n",
      "index 44286 is out of bounds for axis 0 with size 43182\n",
      "index 44301 is out of bounds for axis 0 with size 43182\n",
      "index 44306 is out of bounds for axis 0 with size 43182\n",
      "index 44317 is out of bounds for axis 0 with size 43182\n",
      "index 44318 is out of bounds for axis 0 with size 43182\n",
      "index 44326 is out of bounds for axis 0 with size 43182\n",
      "index 44338 is out of bounds for axis 0 with size 43182\n",
      "index 44339 is out of bounds for axis 0 with size 43182\n",
      "index 44349 is out of bounds for axis 0 with size 43182\n",
      "index 44351 is out of bounds for axis 0 with size 43182\n",
      "index 44371 is out of bounds for axis 0 with size 43182\n",
      "index 44431 is out of bounds for axis 0 with size 43182\n",
      "index 44466 is out of bounds for axis 0 with size 43182\n",
      "index 44512 is out of bounds for axis 0 with size 43182\n",
      "index 44519 is out of bounds for axis 0 with size 43182\n",
      "index 44543 is out of bounds for axis 0 with size 43182\n",
      "index 44545 is out of bounds for axis 0 with size 43182\n",
      "index 44549 is out of bounds for axis 0 with size 43182\n",
      "index 44551 is out of bounds for axis 0 with size 43182\n",
      "index 44572 is out of bounds for axis 0 with size 43182\n",
      "index 44583 is out of bounds for axis 0 with size 43182\n",
      "index 44588 is out of bounds for axis 0 with size 43182\n",
      "index 44590 is out of bounds for axis 0 with size 43182\n",
      "index 44591 is out of bounds for axis 0 with size 43182\n",
      "index 44598 is out of bounds for axis 0 with size 43182\n",
      "index 44600 is out of bounds for axis 0 with size 43182\n",
      "index 44601 is out of bounds for axis 0 with size 43182\n",
      "index 44605 is out of bounds for axis 0 with size 43182\n",
      "index 44608 is out of bounds for axis 0 with size 43182\n",
      "index 44619 is out of bounds for axis 0 with size 43182\n",
      "index 44621 is out of bounds for axis 0 with size 43182\n",
      "index 44628 is out of bounds for axis 0 with size 43182\n",
      "index 44633 is out of bounds for axis 0 with size 43182\n",
      "index 44635 is out of bounds for axis 0 with size 43182\n",
      "index 44636 is out of bounds for axis 0 with size 43182\n",
      "index 44637 is out of bounds for axis 0 with size 43182\n",
      "index 44638 is out of bounds for axis 0 with size 43182\n",
      "index 44639 is out of bounds for axis 0 with size 43182\n",
      "index 44640 is out of bounds for axis 0 with size 43182\n",
      "index 44641 is out of bounds for axis 0 with size 43182\n",
      "index 44642 is out of bounds for axis 0 with size 43182\n",
      "index 44643 is out of bounds for axis 0 with size 43182\n",
      "index 44644 is out of bounds for axis 0 with size 43182\n",
      "index 44646 is out of bounds for axis 0 with size 43182\n",
      "index 44649 is out of bounds for axis 0 with size 43182\n",
      "index 44657 is out of bounds for axis 0 with size 43182\n",
      "index 44659 is out of bounds for axis 0 with size 43182\n",
      "index 44660 is out of bounds for axis 0 with size 43182\n",
      "index 44661 is out of bounds for axis 0 with size 43182\n",
      "index 44662 is out of bounds for axis 0 with size 43182\n",
      "index 44664 is out of bounds for axis 0 with size 43182\n",
      "index 44668 is out of bounds for axis 0 with size 43182\n",
      "index 44669 is out of bounds for axis 0 with size 43182\n",
      "index 44671 is out of bounds for axis 0 with size 43182\n",
      "index 44676 is out of bounds for axis 0 with size 43182\n",
      "index 44678 is out of bounds for axis 0 with size 43182\n",
      "index 44680 is out of bounds for axis 0 with size 43182\n",
      "index 44681 is out of bounds for axis 0 with size 43182\n",
      "index 44688 is out of bounds for axis 0 with size 43182\n",
      "index 44689 is out of bounds for axis 0 with size 43182\n",
      "index 44716 is out of bounds for axis 0 with size 43182\n",
      "index 44732 is out of bounds for axis 0 with size 43182\n",
      "index 44735 is out of bounds for axis 0 with size 43182\n",
      "index 44736 is out of bounds for axis 0 with size 43182\n",
      "index 44737 is out of bounds for axis 0 with size 43182\n",
      "index 44753 is out of bounds for axis 0 with size 43182\n",
      "index 44765 is out of bounds for axis 0 with size 43182\n",
      "index 44767 is out of bounds for axis 0 with size 43182\n",
      "index 44769 is out of bounds for axis 0 with size 43182\n",
      "index 44793 is out of bounds for axis 0 with size 43182\n",
      "index 44794 is out of bounds for axis 0 with size 43182\n",
      "index 44842 is out of bounds for axis 0 with size 43182\n",
      "index 44849 is out of bounds for axis 0 with size 43182\n",
      "index 44850 is out of bounds for axis 0 with size 43182\n",
      "index 44888 is out of bounds for axis 0 with size 43182\n",
      "index 44890 is out of bounds for axis 0 with size 43182\n",
      "index 44897 is out of bounds for axis 0 with size 43182\n",
      "index 44907 is out of bounds for axis 0 with size 43182\n",
      "index 44911 is out of bounds for axis 0 with size 43182\n",
      "index 44914 is out of bounds for axis 0 with size 43182\n",
      "index 44936 is out of bounds for axis 0 with size 43182\n",
      "index 44938 is out of bounds for axis 0 with size 43182\n",
      "index 44943 is out of bounds for axis 0 with size 43182\n",
      "index 44945 is out of bounds for axis 0 with size 43182\n",
      "index 44957 is out of bounds for axis 0 with size 43182\n",
      "index 44969 is out of bounds for axis 0 with size 43182\n",
      "index 44974 is out of bounds for axis 0 with size 43182\n",
      "index 44975 is out of bounds for axis 0 with size 43182\n",
      "index 44981 is out of bounds for axis 0 with size 43182\n",
      "index 44993 is out of bounds for axis 0 with size 43182\n",
      "index 45004 is out of bounds for axis 0 with size 43182\n",
      "index 45005 is out of bounds for axis 0 with size 43182\n",
      "index 45021 is out of bounds for axis 0 with size 43182\n",
      "index 45022 is out of bounds for axis 0 with size 43182\n",
      "index 45027 is out of bounds for axis 0 with size 43182\n",
      "index 45032 is out of bounds for axis 0 with size 43182\n",
      "index 45033 is out of bounds for axis 0 with size 43182\n",
      "index 45050 is out of bounds for axis 0 with size 43182\n",
      "index 45051 is out of bounds for axis 0 with size 43182\n",
      "index 45061 is out of bounds for axis 0 with size 43182\n",
      "index 45066 is out of bounds for axis 0 with size 43182\n",
      "index 45070 is out of bounds for axis 0 with size 43182\n",
      "index 45083 is out of bounds for axis 0 with size 43182\n",
      "index 45089 is out of bounds for axis 0 with size 43182\n",
      "index 45094 is out of bounds for axis 0 with size 43182\n",
      "index 45095 is out of bounds for axis 0 with size 43182\n",
      "index 45124 is out of bounds for axis 0 with size 43182\n",
      "index 45143 is out of bounds for axis 0 with size 43182\n",
      "index 45161 is out of bounds for axis 0 with size 43182\n",
      "index 45205 is out of bounds for axis 0 with size 43182\n",
      "index 45217 is out of bounds for axis 0 with size 43182\n",
      "index 45230 is out of bounds for axis 0 with size 43182\n",
      "index 45243 is out of bounds for axis 0 with size 43182\n",
      "index 45245 is out of bounds for axis 0 with size 43182\n",
      "index 45261 is out of bounds for axis 0 with size 43182\n",
      "index 45272 is out of bounds for axis 0 with size 43182\n",
      "index 45292 is out of bounds for axis 0 with size 43182\n",
      "index 45311 is out of bounds for axis 0 with size 43182\n",
      "index 45318 is out of bounds for axis 0 with size 43182\n",
      "index 45319 is out of bounds for axis 0 with size 43182\n",
      "index 45320 is out of bounds for axis 0 with size 43182\n",
      "index 45321 is out of bounds for axis 0 with size 43182\n",
      "index 45352 is out of bounds for axis 0 with size 43182\n",
      "index 45364 is out of bounds for axis 0 with size 43182\n",
      "index 45365 is out of bounds for axis 0 with size 43182\n",
      "index 45370 is out of bounds for axis 0 with size 43182\n",
      "index 45375 is out of bounds for axis 0 with size 43182\n",
      "index 45381 is out of bounds for axis 0 with size 43182\n",
      "index 45385 is out of bounds for axis 0 with size 43182\n",
      "index 45398 is out of bounds for axis 0 with size 43182\n"
     ]
    }
   ],
   "source": [
    "#If we want to eliminate errors:\n",
    "for i in errors:\n",
    "    try:\n",
    "        credits.drop(credits.index[i],inplace=True)\n",
    "    except Exception as e:\n",
    "        print(e)\n",
    "        pass\n",
    "credits.reset_index(drop=True, inplace=True)"
   ]
  },
  {
   "cell_type": "code",
   "execution_count": 549,
   "id": "dd1a069b",
   "metadata": {},
   "outputs": [
    {
     "data": {
      "text/plain": [
       "43182"
      ]
     },
     "execution_count": 549,
     "metadata": {},
     "output_type": "execute_result"
    }
   ],
   "source": [
    "len(credits)"
   ]
  },
  {
   "cell_type": "code",
   "execution_count": 550,
   "id": "971c1262",
   "metadata": {},
   "outputs": [
    {
     "data": {
      "text/html": [
       "<div>\n",
       "<style scoped>\n",
       "    .dataframe tbody tr th:only-of-type {\n",
       "        vertical-align: middle;\n",
       "    }\n",
       "\n",
       "    .dataframe tbody tr th {\n",
       "        vertical-align: top;\n",
       "    }\n",
       "\n",
       "    .dataframe thead th {\n",
       "        text-align: right;\n",
       "    }\n",
       "</style>\n",
       "<table border=\"1\" class=\"dataframe\">\n",
       "  <thead>\n",
       "    <tr style=\"text-align: right;\">\n",
       "      <th></th>\n",
       "      <th>cast</th>\n",
       "      <th>id</th>\n",
       "    </tr>\n",
       "  </thead>\n",
       "  <tbody>\n",
       "    <tr>\n",
       "      <th>0</th>\n",
       "      <td>[{\"character\": \"Woody (voice)\", \"name\": \"Tom H...</td>\n",
       "      <td>862</td>\n",
       "    </tr>\n",
       "    <tr>\n",
       "      <th>1</th>\n",
       "      <td>[{\"character\": \"Alan Parrish\", \"name\": \"Robin ...</td>\n",
       "      <td>8844</td>\n",
       "    </tr>\n",
       "    <tr>\n",
       "      <th>2</th>\n",
       "      <td>[{\"character\": \"Max Goldman\", \"name\": \"Walter ...</td>\n",
       "      <td>15602</td>\n",
       "    </tr>\n",
       "  </tbody>\n",
       "</table>\n",
       "</div>"
      ],
      "text/plain": [
       "                                                cast     id\n",
       "0  [{\"character\": \"Woody (voice)\", \"name\": \"Tom H...    862\n",
       "1  [{\"character\": \"Alan Parrish\", \"name\": \"Robin ...   8844\n",
       "2  [{\"character\": \"Max Goldman\", \"name\": \"Walter ...  15602"
      ]
     },
     "execution_count": 550,
     "metadata": {},
     "output_type": "execute_result"
    }
   ],
   "source": [
    "credits.head(3)"
   ]
  },
  {
   "cell_type": "markdown",
   "id": "32debcd6",
   "metadata": {},
   "source": [
    "Now we store this dataframe as a new file, with these steps we have reduced the original file from 190mb to 37mb which is better because we will deal with a smaller file"
   ]
  },
  {
   "cell_type": "code",
   "execution_count": 551,
   "id": "968e6eb2",
   "metadata": {},
   "outputs": [],
   "source": [
    "credits.to_csv('data/credits_cleaned03.csv')"
   ]
  },
  {
   "cell_type": "markdown",
   "id": "f354b0e3",
   "metadata": {},
   "source": [
    "## USING REDUCED CREDITS FILE "
   ]
  },
  {
   "cell_type": "code",
   "execution_count": 552,
   "id": "d6d5d5ef",
   "metadata": {},
   "outputs": [
    {
     "data": {
      "text/html": [
       "<div>\n",
       "<style scoped>\n",
       "    .dataframe tbody tr th:only-of-type {\n",
       "        vertical-align: middle;\n",
       "    }\n",
       "\n",
       "    .dataframe tbody tr th {\n",
       "        vertical-align: top;\n",
       "    }\n",
       "\n",
       "    .dataframe thead th {\n",
       "        text-align: right;\n",
       "    }\n",
       "</style>\n",
       "<table border=\"1\" class=\"dataframe\">\n",
       "  <thead>\n",
       "    <tr style=\"text-align: right;\">\n",
       "      <th></th>\n",
       "      <th>cast</th>\n",
       "      <th>id</th>\n",
       "    </tr>\n",
       "  </thead>\n",
       "  <tbody>\n",
       "    <tr>\n",
       "      <th>0</th>\n",
       "      <td>[{\"character\": \"Woody (voice)\", \"name\": \"Tom H...</td>\n",
       "      <td>862</td>\n",
       "    </tr>\n",
       "    <tr>\n",
       "      <th>1</th>\n",
       "      <td>[{\"character\": \"Alan Parrish\", \"name\": \"Robin ...</td>\n",
       "      <td>8844</td>\n",
       "    </tr>\n",
       "  </tbody>\n",
       "</table>\n",
       "</div>"
      ],
      "text/plain": [
       "                                                cast    id\n",
       "0  [{\"character\": \"Woody (voice)\", \"name\": \"Tom H...   862\n",
       "1  [{\"character\": \"Alan Parrish\", \"name\": \"Robin ...  8844"
      ]
     },
     "execution_count": 552,
     "metadata": {},
     "output_type": "execute_result"
    }
   ],
   "source": [
    "credits = pd.read_csv('data/credits_cleaned03.csv', index_col=0)\n",
    "credits.head(2)"
   ]
  },
  {
   "cell_type": "markdown",
   "id": "876caeb2",
   "metadata": {},
   "source": [
    "Let's get a dataset of performers counting their participation on movies:"
   ]
  },
  {
   "cell_type": "code",
   "execution_count": 554,
   "id": "2a40d539",
   "metadata": {},
   "outputs": [
    {
     "data": {
      "text/plain": [
       "Bess Flowers            230\n",
       "Christopher Lee         141\n",
       "Samuel L. Jackson       120\n",
       "John Wayne              120\n",
       "Donald Sutherland       107\n",
       "                       ... \n",
       "Joanne                    1\n",
       "Johnny Chung-Jen Lin      1\n",
       "Ma Nien-Hsien             1\n",
       "Wei-min Ying              1\n",
       "Aleksandr Chabrov         1\n",
       "Name: act, Length: 196194, dtype: int64"
      ]
     },
     "execution_count": 554,
     "metadata": {},
     "output_type": "execute_result"
    }
   ],
   "source": [
    "actArray = []\n",
    "movArray = []\n",
    "for i, credit in credits.iterrows():\n",
    "    try:\n",
    "        credit.cast = credit.cast.replace(\"'\", '\"')\n",
    "        arrayOfPeople = json.loads(credit.cast)\n",
    "        for dictOfPeople in arrayOfPeople:\n",
    "            actArray.append(dictOfPeople[\"name\"])\n",
    "            movArray.append(credit.id)\n",
    "    except Exception as e:  \n",
    "        print(i,credit.cast)\n",
    "        break\n",
    "\n",
    "    \n",
    "myDict = {'act': actArray, 'mov': movArray}\n",
    "acts = pd.DataFrame(data=myDict)\n",
    "\n",
    "(acts['act'].value_counts())"
   ]
  }
 ],
 "metadata": {
  "kernelspec": {
   "display_name": "Python 3 (ipykernel)",
   "language": "python",
   "name": "python3"
  },
  "language_info": {
   "codemirror_mode": {
    "name": "ipython",
    "version": 3
   },
   "file_extension": ".py",
   "mimetype": "text/x-python",
   "name": "python",
   "nbconvert_exporter": "python",
   "pygments_lexer": "ipython3",
   "version": "3.9.15"
  }
 },
 "nbformat": 4,
 "nbformat_minor": 5
}
