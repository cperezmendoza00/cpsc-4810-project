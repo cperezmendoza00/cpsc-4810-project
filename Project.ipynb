{
 "cells": [
  {
   "cell_type": "markdown",
   "id": "0619db67",
   "metadata": {},
   "source": [
    "# TABLE OF CONTENT\n",
    "\n",
    "xx\n",
    "xx\n",
    "xx\n",
    "\n",
    "\n",
    "# PROBLEM DESCRIPTION\n",
    "\n",
    "xx\n",
    "xx\n",
    "xx\n",
    "\n",
    "***\n",
    "\n",
    "# THE DATA\n"
   ]
  }
 ],
 "metadata": {
  "kernelspec": {
   "display_name": "Python 3 (ipykernel)",
   "language": "python",
   "name": "python3"
  },
  "language_info": {
   "codemirror_mode": {
    "name": "ipython",
    "version": 3
   },
   "file_extension": ".py",
   "mimetype": "text/x-python",
   "name": "python",
   "nbconvert_exporter": "python",
   "pygments_lexer": "ipython3",
   "version": "3.9.15"
  }
 },
 "nbformat": 4,
 "nbformat_minor": 5
}
