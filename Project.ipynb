{
 "cells": [
  {
   "cell_type": "markdown",
   "id": "587164ea",
   "metadata": {},
   "source": [
    "# CPSC 4810 - Group project\n",
    "\n",
    "\n"
   ]
  },
  {
   "cell_type": "markdown",
   "id": "06e5ad08",
   "metadata": {},
   "source": [
    "***\n",
    "# Project description"
   ]
  },
  {
   "cell_type": "markdown",
   "id": "db170fbc",
   "metadata": {},
   "source": [
    "This project’s objective is to put in practice some of the techniques and methods learned throughout the term about doing data wrangling and analysis with python coding. Some of the tools used were Pandas and Matplotlib. The different files came from various source and formats: CSV files, TXT files, an API, and we even practiced some web-scraping! \n",
    "\n",
    "The first step of the project was to choose the topic. We decided to use data related to movies, actors, and movie awards. The reason behind this decision is that as avid fans of the 7th art, we wanted to learn more about it. Although there might be more ‘relevant’ industries like pharmaceutics, food, logistics, or education, the entertaining industry can be equally as big and profitable. Moreover, we wanted to analyze data with which we are acquainted and in which the insights are comprehensible.\n",
    "\n",
    "With our topic defined, the team embarked on the task to pick different datasets with useful information. More details about each of the datasets chosen, as well as the usage given to each is provided through this project."
   ]
  },
  {
   "cell_type": "markdown",
   "id": "bee7c22e",
   "metadata": {},
   "source": [
    "***\n",
    "# Data"
   ]
  },
  {
   "cell_type": "markdown",
   "id": "804279ac",
   "metadata": {},
   "source": [
    "For this project 7 datasets from 4 different sources were used:\n",
    "1.\tCredits – CSV file obtained from Kaggle.\n",
    "2.\tKeywords – CSV file obtained from Kaggle.\n",
    "3.\tMovies – CSV file obtained from Kaggle.\n",
    "4.\tRatings – CSV file obtained from Kaggle.\n",
    "5.\tAcademy Award Winning Films – data from a table [Wikipedia](https://en.wikipedia.org/wiki/List_of_Academy_Award-winning_films). \n",
    "6.\tTop Movies – Rest API from [OMDb API](https://www.omdbapi.com/).\n",
    "7.\tOscar Winners – TXT file from [OpenIntro.org](OpenIntro.org)\n",
    "\n",
    "More information about the content of each dataset as well as how they were used is provided through the rest of this document."
   ]
  },
  {
   "cell_type": "markdown",
   "id": "208355ff",
   "metadata": {},
   "source": [
    "***\n",
    "# Sources"
   ]
  },
  {
   "cell_type": "markdown",
   "id": "7cface41",
   "metadata": {},
   "source": [
    "![alt text](datasources.png \"Sources\")"
   ]
  },
  {
   "cell_type": "markdown",
   "id": "6d3fdfa0",
   "metadata": {},
   "source": [
    "***\n",
    "# Importing libraries"
   ]
  },
  {
   "cell_type": "code",
   "execution_count": 1,
   "id": "9e42bc57",
   "metadata": {},
   "outputs": [],
   "source": [
    "import pandas as pd"
   ]
  },
  {
   "cell_type": "markdown",
   "id": "13ca8990",
   "metadata": {},
   "source": [
    "Because we will be dealing with JSON strings, we import json:"
   ]
  },
  {
   "cell_type": "code",
   "execution_count": 2,
   "id": "a2d58176",
   "metadata": {},
   "outputs": [],
   "source": [
    "import json\n",
    "from os.path import exists"
   ]
  },
  {
   "cell_type": "markdown",
   "id": "0b13b53d",
   "metadata": {},
   "source": [
    "***\n",
    "# Dataset 1: Credits"
   ]
  },
  {
   "cell_type": "markdown",
   "id": "933e65b4",
   "metadata": {},
   "source": [
    "## Description"
   ]
  },
  {
   "cell_type": "markdown",
   "id": "49215786",
   "metadata": {},
   "source": [
    "The original dataset was obtained from Kaggle: https://www.kaggle.com/datasets/rounakbanik/the-movies-dataset and contains 3 columns:\n",
    "\n",
    "- **Cast** – information in JSON format about the cast that participated in the movie.\n",
    "- **Crew** – information in JSON format about the crew the helped to create the movie.\n",
    "- **ID** – integer that uniquely identifies each movie. "
   ]
  },
  {
   "cell_type": "markdown",
   "id": "b54df22f",
   "metadata": {},
   "source": [
    "## Transformation and cleaning"
   ]
  },
  {
   "cell_type": "markdown",
   "id": "724a7cac",
   "metadata": {},
   "source": [
    "The original file (**credits_cleaned01**) is larger than 100mb, which makes it quite heavy, however some data cleaning might help us make the file more manageable. "
   ]
  },
  {
   "cell_type": "markdown",
   "id": "fdd77caa",
   "metadata": {},
   "source": [
    "\n",
    "**!!!! RUN THIS CODE ONLY IF YOU HAVE THE credits_cleaned01.csv FILE !!!!**\n",
    "\n",
    "The ***credits_cleaned01.csv*** file is greater than 100mb, so it cannot be upload to GitHub. Skip this part and run the section where the file **credits_cleaned03.csv** is imported.\n"
   ]
  },
  {
   "cell_type": "markdown",
   "id": "9dc8352b",
   "metadata": {},
   "source": [
    "Because we are not interested in the column with the **crew** information it will be deleted:"
   ]
  },
  {
   "cell_type": "code",
   "execution_count": 3,
   "id": "ad61f306",
   "metadata": {},
   "outputs": [
    {
     "data": {
      "text/plain": [
       "['Unnamed: 0', 'cast', 'id']"
      ]
     },
     "metadata": {},
     "output_type": "display_data"
    }
   ],
   "source": [
    "file_exists = exists(\"data/credits_cleaned01.csv\")\n",
    "if(file_exists):\n",
    "    credits = pd.read_csv('data/credits_cleaned01.csv')\n",
    "    credits.drop(columns=['crew'], inplace=True, axis=1)\n",
    "    credits.to_csv('data/credits_cleaned02.csv', index=False)\n",
    "    display(list(credits.columns))"
   ]
  },
  {
   "cell_type": "markdown",
   "id": "76c342af",
   "metadata": {},
   "source": [
    "We read the new file and display its size and columns. We can see there are only two columns: "
   ]
  },
  {
   "cell_type": "code",
   "execution_count": 4,
   "id": "b16423ec",
   "metadata": {},
   "outputs": [
    {
     "data": {
      "text/plain": [
       "45399"
      ]
     },
     "metadata": {},
     "output_type": "display_data"
    },
    {
     "data": {
      "text/plain": [
       "['cast', 'id']"
      ]
     },
     "metadata": {},
     "output_type": "display_data"
    }
   ],
   "source": [
    "file_exists = exists(\"data/credits_cleaned02.csv\")\n",
    "if(file_exists):\n",
    "    credits = pd.read_csv('data/credits_cleaned02.csv',index_col=0)\n",
    "    display(len(credits))\n",
    "    display(list(credits.columns))"
   ]
  },
  {
   "cell_type": "markdown",
   "id": "26af3e5c",
   "metadata": {},
   "source": [
    "Each row in the **cast** column contains a large JSON with information we don't want to use. This is how each **cast** looks like:"
   ]
  },
  {
   "cell_type": "code",
   "execution_count": 5,
   "id": "7f80ce31",
   "metadata": {},
   "outputs": [
    {
     "name": "stdout",
     "output_type": "stream",
     "text": [
      "[{'cast_id': 14, 'character': 'Woody (voice)', 'credit_id': '52fe4284c3a36847f8024f95', 'gender': 2, 'id': 31, 'name': 'Tom Hanks', 'order': 0, 'profile_path': '/pQFoyx7rp09CJTAb932F2g8Nlho.jpg'}, {'cast_id': 15, 'character': 'Buzz Lightyear (voice)', 'credit_id': '52fe4284c3a36847f8024f99', 'gender': 2, 'id': 12898, 'name': 'Tim Allen', 'order': 1, 'profile_path': '/uX2xVf6pMmPepxnvFWyBtjexzgY.jpg'}, {'cast_id': 16, 'character': 'Mr. Potato Head (voice)', 'credit_id': '52fe4284c3a36847f8024f9d' ...\n"
     ]
    }
   ],
   "source": [
    "if(file_exists):\n",
    "    print(credits.iloc[0]['cast'][0:500],\"...\")"
   ]
  },
  {
   "cell_type": "markdown",
   "id": "0faf3c9c",
   "metadata": {},
   "source": [
    "Since the format of the JSON is not compatible with **json.loads()** we need to change the structure to have a dictionary of people for each movie:\n",
    "- Create function to clean JSON\n",
    "- Loop through each row on the dataset\n",
    "- Change quotes to dummy values\n",
    "- Remove unnecessary quotes or backslash (if any)\n",
    "- Remove unnecessary indexes from the dict of people (cast_id, credit_id, gender, etc...)\n",
    "- Update the dataset with the reduced JSON file (the dataset won't have unnecessary keys anymore)"
   ]
  },
  {
   "cell_type": "code",
   "execution_count": 6,
   "id": "0e53c6da",
   "metadata": {},
   "outputs": [],
   "source": [
    "def cleanjsontring (jsonSting):\n",
    "        jsonSting = jsonSting.replace(\"{'\", \"{##\")\n",
    "        jsonSting = jsonSting.replace('{\"', \"{##\")\n",
    "\n",
    "        jsonSting = jsonSting.replace(\"': \", \"##: \")\n",
    "        jsonSting = jsonSting.replace('\": ', \"##: \")\n",
    "\n",
    "        jsonSting = jsonSting.replace(\", '\", \", ##\")\n",
    "        jsonSting = jsonSting.replace(', \"', \", ##\")\n",
    "\n",
    "        jsonSting = jsonSting.replace(\"'}\", \"##}\")\n",
    "        jsonSting = jsonSting.replace('\"}', \"##}\")\n",
    "\n",
    "        jsonSting = jsonSting.replace(\": '\", \": ##\")\n",
    "        jsonSting = jsonSting.replace(\"', \", \"##, \")\n",
    "        jsonSting = jsonSting.replace(': \"', ': ##')\n",
    "        jsonSting = jsonSting.replace('\", ', '##, ')\n",
    "        jsonSting = jsonSting.replace('\"}', '##}')\n",
    "        jsonSting = jsonSting.replace(\"\\\\\", '')\n",
    "\n",
    "        jsonSting = jsonSting.replace('\"', \"\")\n",
    "        jsonSting = jsonSting.replace(\"'\", \"\")\n",
    "\n",
    "        jsonSting = jsonSting.replace('##', '\"')\n",
    "        jsonSting = jsonSting.replace(\": None\", \": null\")\n",
    "        return jsonSting"
   ]
  },
  {
   "cell_type": "code",
   "execution_count": 7,
   "id": "dac13d88",
   "metadata": {},
   "outputs": [
    {
     "name": "stdout",
     "output_type": "stream",
     "text": [
      "                                                  cast   id\n",
      "834  [{\"character\": \"Don Vito Corleone\", \"name\": \"M...  238\n"
     ]
    }
   ],
   "source": [
    "file_exists = exists(\"data/credits_cleaned02.csv\")\n",
    "if(file_exists):\n",
    "    credits = pd.read_csv('data/credits_cleaned02.csv',index_col=0)\n",
    "    credits.reset_index(drop=True, inplace=True)\n",
    "\n",
    "errors = []\n",
    "if(file_exists):\n",
    "    for i, credit in credits.iterrows():\n",
    "        if(i >= 0):\n",
    "            try:\n",
    "                cast = cleanjsontring(credit.cast)\n",
    "                \n",
    "                if(credit.cast == \"[]\" or credit.cast == \"\"):\n",
    "                    errors.append(i)\n",
    "                else:\n",
    "                    arrayOfPeople = json.loads(cast)\n",
    "                    for dictOfPeople in arrayOfPeople:\n",
    "                        dictOfPeople.pop(\"cast_id\")\n",
    "                        dictOfPeople.pop(\"credit_id\")\n",
    "                        dictOfPeople.pop(\"gender\")\n",
    "                        dictOfPeople.pop(\"order\")\n",
    "                        dictOfPeople.pop(\"profile_path\")\n",
    "                        dictOfPeople.pop(\"id\")\n",
    "                        dictOfPeople['character'].replace('\"',\"´\")\n",
    "                    credits.iloc[i,0] = json.dumps(arrayOfPeople)\n",
    "            except Exception as e:\n",
    "                print(i)\n",
    "                errors.append(i)\n",
    "print(credits[credits[\"id\"]==238])"
   ]
  },
  {
   "cell_type": "code",
   "execution_count": 8,
   "id": "8858bffe",
   "metadata": {},
   "outputs": [],
   "source": [
    "#These are out of range elements:\n",
    "#print(errors)"
   ]
  },
  {
   "cell_type": "code",
   "execution_count": 9,
   "id": "c63e32d3",
   "metadata": {},
   "outputs": [
    {
     "data": {
      "text/plain": [
       "45399"
      ]
     },
     "execution_count": 9,
     "metadata": {},
     "output_type": "execute_result"
    }
   ],
   "source": [
    "len(credits)"
   ]
  },
  {
   "cell_type": "markdown",
   "id": "c59cf77d",
   "metadata": {},
   "source": [
    "An error could appear when transforming the json string into an object, this happens if the json string is not valid.\n",
    "\n",
    "If we want to eliminate errors we run the following code:"
   ]
  },
  {
   "cell_type": "code",
   "execution_count": 10,
   "id": "e1f4c5c3",
   "metadata": {},
   "outputs": [],
   "source": [
    "for i in errors:\n",
    "    try:\n",
    "        credits.drop(credits.index[i],inplace=True)\n",
    "    except Exception as e:\n",
    "        #print(e)\n",
    "        pass\n",
    "credits.reset_index(drop=True, inplace=True)"
   ]
  },
  {
   "cell_type": "code",
   "execution_count": 11,
   "id": "1be9c600",
   "metadata": {},
   "outputs": [
    {
     "data": {
      "text/plain": [
       "43182"
      ]
     },
     "execution_count": 11,
     "metadata": {},
     "output_type": "execute_result"
    }
   ],
   "source": [
    "len(credits)"
   ]
  },
  {
   "cell_type": "code",
   "execution_count": 12,
   "id": "9680c5e4",
   "metadata": {},
   "outputs": [
    {
     "data": {
      "text/html": [
       "<div>\n",
       "<style scoped>\n",
       "    .dataframe tbody tr th:only-of-type {\n",
       "        vertical-align: middle;\n",
       "    }\n",
       "\n",
       "    .dataframe tbody tr th {\n",
       "        vertical-align: top;\n",
       "    }\n",
       "\n",
       "    .dataframe thead th {\n",
       "        text-align: right;\n",
       "    }\n",
       "</style>\n",
       "<table border=\"1\" class=\"dataframe\">\n",
       "  <thead>\n",
       "    <tr style=\"text-align: right;\">\n",
       "      <th></th>\n",
       "      <th>cast</th>\n",
       "      <th>id</th>\n",
       "    </tr>\n",
       "  </thead>\n",
       "  <tbody>\n",
       "    <tr>\n",
       "      <th>0</th>\n",
       "      <td>[{\"character\": \"Woody (voice)\", \"name\": \"Tom H...</td>\n",
       "      <td>862</td>\n",
       "    </tr>\n",
       "    <tr>\n",
       "      <th>1</th>\n",
       "      <td>[{\"character\": \"Alan Parrish\", \"name\": \"Robin ...</td>\n",
       "      <td>8844</td>\n",
       "    </tr>\n",
       "    <tr>\n",
       "      <th>2</th>\n",
       "      <td>[{\"character\": \"Max Goldman\", \"name\": \"Walter ...</td>\n",
       "      <td>15602</td>\n",
       "    </tr>\n",
       "    <tr>\n",
       "      <th>3</th>\n",
       "      <td>[{\"character\": \"Savannah Vannah Jackson\", \"nam...</td>\n",
       "      <td>31357</td>\n",
       "    </tr>\n",
       "    <tr>\n",
       "      <th>4</th>\n",
       "      <td>[{\"character\": \"George Banks\", \"name\": \"Steve ...</td>\n",
       "      <td>11862</td>\n",
       "    </tr>\n",
       "  </tbody>\n",
       "</table>\n",
       "</div>"
      ],
      "text/plain": [
       "                                                cast     id\n",
       "0  [{\"character\": \"Woody (voice)\", \"name\": \"Tom H...    862\n",
       "1  [{\"character\": \"Alan Parrish\", \"name\": \"Robin ...   8844\n",
       "2  [{\"character\": \"Max Goldman\", \"name\": \"Walter ...  15602\n",
       "3  [{\"character\": \"Savannah Vannah Jackson\", \"nam...  31357\n",
       "4  [{\"character\": \"George Banks\", \"name\": \"Steve ...  11862"
      ]
     },
     "execution_count": 12,
     "metadata": {},
     "output_type": "execute_result"
    }
   ],
   "source": [
    "credits.head(5)"
   ]
  },
  {
   "cell_type": "markdown",
   "id": "e0e92178",
   "metadata": {},
   "source": [
    "Now we store this dataframe as a new file. With these steps we have reduced the original file from 190mb to 37mb, which is better because we will deal with a smaller file:"
   ]
  },
  {
   "cell_type": "code",
   "execution_count": 13,
   "id": "8b5cf92f",
   "metadata": {},
   "outputs": [],
   "source": [
    "credits.to_csv('data/credits_cleaned03.csv')"
   ]
  },
  {
   "cell_type": "markdown",
   "id": "bdafca30",
   "metadata": {},
   "source": [
    "## Usage"
   ]
  },
  {
   "cell_type": "code",
   "execution_count": 14,
   "id": "c3cf721c",
   "metadata": {
    "scrolled": true
   },
   "outputs": [
    {
     "data": {
      "text/html": [
       "<div>\n",
       "<style scoped>\n",
       "    .dataframe tbody tr th:only-of-type {\n",
       "        vertical-align: middle;\n",
       "    }\n",
       "\n",
       "    .dataframe tbody tr th {\n",
       "        vertical-align: top;\n",
       "    }\n",
       "\n",
       "    .dataframe thead th {\n",
       "        text-align: right;\n",
       "    }\n",
       "</style>\n",
       "<table border=\"1\" class=\"dataframe\">\n",
       "  <thead>\n",
       "    <tr style=\"text-align: right;\">\n",
       "      <th></th>\n",
       "      <th>cast</th>\n",
       "      <th>id</th>\n",
       "    </tr>\n",
       "  </thead>\n",
       "  <tbody>\n",
       "    <tr>\n",
       "      <th>0</th>\n",
       "      <td>[{\"character\": \"Woody (voice)\", \"name\": \"Tom H...</td>\n",
       "      <td>862</td>\n",
       "    </tr>\n",
       "    <tr>\n",
       "      <th>1</th>\n",
       "      <td>[{\"character\": \"Alan Parrish\", \"name\": \"Robin ...</td>\n",
       "      <td>8844</td>\n",
       "    </tr>\n",
       "    <tr>\n",
       "      <th>2</th>\n",
       "      <td>[{\"character\": \"Max Goldman\", \"name\": \"Walter ...</td>\n",
       "      <td>15602</td>\n",
       "    </tr>\n",
       "    <tr>\n",
       "      <th>3</th>\n",
       "      <td>[{\"character\": \"Savannah Vannah Jackson\", \"nam...</td>\n",
       "      <td>31357</td>\n",
       "    </tr>\n",
       "    <tr>\n",
       "      <th>4</th>\n",
       "      <td>[{\"character\": \"George Banks\", \"name\": \"Steve ...</td>\n",
       "      <td>11862</td>\n",
       "    </tr>\n",
       "  </tbody>\n",
       "</table>\n",
       "</div>"
      ],
      "text/plain": [
       "                                                cast     id\n",
       "0  [{\"character\": \"Woody (voice)\", \"name\": \"Tom H...    862\n",
       "1  [{\"character\": \"Alan Parrish\", \"name\": \"Robin ...   8844\n",
       "2  [{\"character\": \"Max Goldman\", \"name\": \"Walter ...  15602\n",
       "3  [{\"character\": \"Savannah Vannah Jackson\", \"nam...  31357\n",
       "4  [{\"character\": \"George Banks\", \"name\": \"Steve ...  11862"
      ]
     },
     "execution_count": 14,
     "metadata": {},
     "output_type": "execute_result"
    }
   ],
   "source": [
    "credits = pd.read_csv('data/credits_cleaned03.csv', index_col=0)\n",
    "credits.head(5)"
   ]
  },
  {
   "cell_type": "markdown",
   "id": "2544a232",
   "metadata": {},
   "source": [
    "Let's get a dataset of performers counting their participation on movies:"
   ]
  },
  {
   "cell_type": "code",
   "execution_count": 15,
   "id": "9622c629",
   "metadata": {},
   "outputs": [
    {
     "data": {
      "text/html": [
       "<div>\n",
       "<style scoped>\n",
       "    .dataframe tbody tr th:only-of-type {\n",
       "        vertical-align: middle;\n",
       "    }\n",
       "\n",
       "    .dataframe tbody tr th {\n",
       "        vertical-align: top;\n",
       "    }\n",
       "\n",
       "    .dataframe thead th {\n",
       "        text-align: right;\n",
       "    }\n",
       "</style>\n",
       "<table border=\"1\" class=\"dataframe\">\n",
       "  <thead>\n",
       "    <tr style=\"text-align: right;\">\n",
       "      <th></th>\n",
       "      <th>movies</th>\n",
       "    </tr>\n",
       "    <tr>\n",
       "      <th>performer</th>\n",
       "      <th></th>\n",
       "    </tr>\n",
       "  </thead>\n",
       "  <tbody>\n",
       "    <tr>\n",
       "      <th>Bess Flowers</th>\n",
       "      <td>230</td>\n",
       "    </tr>\n",
       "    <tr>\n",
       "      <th>Christopher Lee</th>\n",
       "      <td>141</td>\n",
       "    </tr>\n",
       "    <tr>\n",
       "      <th>John Wayne</th>\n",
       "      <td>120</td>\n",
       "    </tr>\n",
       "    <tr>\n",
       "      <th>Samuel L. Jackson</th>\n",
       "      <td>120</td>\n",
       "    </tr>\n",
       "    <tr>\n",
       "      <th>Donald Sutherland</th>\n",
       "      <td>107</td>\n",
       "    </tr>\n",
       "    <tr>\n",
       "      <th>Jackie Chan</th>\n",
       "      <td>104</td>\n",
       "    </tr>\n",
       "    <tr>\n",
       "      <th>Gérard Depardieu</th>\n",
       "      <td>104</td>\n",
       "    </tr>\n",
       "    <tr>\n",
       "      <th>John Carradine</th>\n",
       "      <td>103</td>\n",
       "    </tr>\n",
       "    <tr>\n",
       "      <th>Frank Welker</th>\n",
       "      <td>103</td>\n",
       "    </tr>\n",
       "    <tr>\n",
       "      <th>Michael Caine</th>\n",
       "      <td>102</td>\n",
       "    </tr>\n",
       "  </tbody>\n",
       "</table>\n",
       "</div>"
      ],
      "text/plain": [
       "                   movies\n",
       "performer                \n",
       "Bess Flowers          230\n",
       "Christopher Lee       141\n",
       "John Wayne            120\n",
       "Samuel L. Jackson     120\n",
       "Donald Sutherland     107\n",
       "Jackie Chan           104\n",
       "Gérard Depardieu      104\n",
       "John Carradine        103\n",
       "Frank Welker          103\n",
       "Michael Caine         102"
      ]
     },
     "metadata": {},
     "output_type": "display_data"
    }
   ],
   "source": [
    "actArray = []\n",
    "movArray = []\n",
    "\n",
    "for i, credit in credits.iterrows():\n",
    "    try:\n",
    "        arrayOfPeople = json.loads(credit.cast)\n",
    "        for dictOfPeople in arrayOfPeople:\n",
    "            actArray.append(dictOfPeople[\"name\"])\n",
    "            movArray.append(credit.id)\n",
    "            #if(credit.id == 238):\n",
    "                #print(\".......\")\n",
    "                #print(dictOfPeople)\n",
    "                #print(credit.id)\n",
    "                #print(dictOfPeople[\"name\"])\n",
    "                #print(\".....\")\n",
    "    except Exception as e:  \n",
    "        print(i,credit.cast,e)\n",
    "        break\n",
    "\n",
    "    \n",
    "myDict = {'performer': actArray, 'movie_id': movArray}\n",
    "acts = pd.DataFrame(data=myDict)\n",
    "\n",
    "#for i in range(0,len(performer_counts)):\n",
    "    #print(performer_counts.iloc[i].performer, performer_counts.iloc[i].number_of_movies)\n",
    "    #break\n",
    "\n",
    "performer_counts = acts.groupby([acts['performer']]).count()['movie_id'].sort_values(ascending=False).to_frame()\n",
    "performer_counts.columns = performer_counts.columns.str.replace('movie_id', 'movies')\n",
    "display(performer_counts.head(10))"
   ]
  },
  {
   "cell_type": "markdown",
   "id": "ca9707cc",
   "metadata": {},
   "source": [
    "***\n",
    "# Dataset 2: Keywords"
   ]
  },
  {
   "cell_type": "markdown",
   "id": "d4c71c83",
   "metadata": {},
   "source": [
    "## Description"
   ]
  },
  {
   "cell_type": "markdown",
   "id": "83dec625",
   "metadata": {},
   "source": [
    "This dataset was also obtained from Kaggle: https://www.kaggle.com/datasets/rounakbanik/the-movies-dataset and it contains 2 columns:\n",
    "\n",
    "- **ID** – Integer that uniquely identifies each movie. \n",
    "- **Keywords** – A list of different words that might be used to look for a movie. All of these words are in JSON format.\n"
   ]
  },
  {
   "cell_type": "markdown",
   "id": "ec2926f8",
   "metadata": {},
   "source": [
    "## Transformation and cleaning"
   ]
  },
  {
   "cell_type": "markdown",
   "id": "7f42e936",
   "metadata": {},
   "source": [
    "Because of the simplicity of the file, no cleaning was needed."
   ]
  },
  {
   "cell_type": "markdown",
   "id": "5f2fd882",
   "metadata": {},
   "source": [
    "## Usage"
   ]
  },
  {
   "cell_type": "code",
   "execution_count": 16,
   "id": "938c8d3b",
   "metadata": {},
   "outputs": [
    {
     "data": {
      "text/html": [
       "<div>\n",
       "<style scoped>\n",
       "    .dataframe tbody tr th:only-of-type {\n",
       "        vertical-align: middle;\n",
       "    }\n",
       "\n",
       "    .dataframe tbody tr th {\n",
       "        vertical-align: top;\n",
       "    }\n",
       "\n",
       "    .dataframe thead th {\n",
       "        text-align: right;\n",
       "    }\n",
       "</style>\n",
       "<table border=\"1\" class=\"dataframe\">\n",
       "  <thead>\n",
       "    <tr style=\"text-align: right;\">\n",
       "      <th></th>\n",
       "      <th>id</th>\n",
       "      <th>keywords</th>\n",
       "    </tr>\n",
       "  </thead>\n",
       "  <tbody>\n",
       "    <tr>\n",
       "      <th>0</th>\n",
       "      <td>862</td>\n",
       "      <td>[{'id': 931, 'name': 'jealousy'}, {'id': 4290,...</td>\n",
       "    </tr>\n",
       "    <tr>\n",
       "      <th>1</th>\n",
       "      <td>8844</td>\n",
       "      <td>[{'id': 10090, 'name': 'board game'}, {'id': 1...</td>\n",
       "    </tr>\n",
       "    <tr>\n",
       "      <th>2</th>\n",
       "      <td>15602</td>\n",
       "      <td>[{'id': 1495, 'name': 'fishing'}, {'id': 12392...</td>\n",
       "    </tr>\n",
       "    <tr>\n",
       "      <th>3</th>\n",
       "      <td>31357</td>\n",
       "      <td>[{'id': 818, 'name': 'based on novel'}, {'id':...</td>\n",
       "    </tr>\n",
       "    <tr>\n",
       "      <th>4</th>\n",
       "      <td>11862</td>\n",
       "      <td>[{'id': 1009, 'name': 'baby'}, {'id': 1599, 'n...</td>\n",
       "    </tr>\n",
       "  </tbody>\n",
       "</table>\n",
       "</div>"
      ],
      "text/plain": [
       "      id                                           keywords\n",
       "0    862  [{'id': 931, 'name': 'jealousy'}, {'id': 4290,...\n",
       "1   8844  [{'id': 10090, 'name': 'board game'}, {'id': 1...\n",
       "2  15602  [{'id': 1495, 'name': 'fishing'}, {'id': 12392...\n",
       "3  31357  [{'id': 818, 'name': 'based on novel'}, {'id':...\n",
       "4  11862  [{'id': 1009, 'name': 'baby'}, {'id': 1599, 'n..."
      ]
     },
     "execution_count": 16,
     "metadata": {},
     "output_type": "execute_result"
    }
   ],
   "source": [
    "keywords = pd.read_csv('data/keywords.csv')\n",
    "keywords.head(5)"
   ]
  },
  {
   "cell_type": "markdown",
   "id": "b90b2b62",
   "metadata": {},
   "source": [
    "***\n",
    "# Dataset 3: Movies"
   ]
  },
  {
   "cell_type": "markdown",
   "id": "aff8ddd9",
   "metadata": {},
   "source": [
    "## Description\n"
   ]
  },
  {
   "cell_type": "markdown",
   "id": "471b9d43",
   "metadata": {},
   "source": [
    "This dataset was also obtained from Kaggle: https://www.kaggle.com/datasets/rounakbanik/the-movies-dataset and it contains 24 columns:\n",
    "\n",
    "1.\tAdult\n",
    "2.\tbelongs_to_collection\n",
    "3.\tBudget \n",
    "4.\tGenres\n",
    "5.\tHomepage \n",
    "6.\tID \n",
    "7.\timdb_id \n",
    "8.\toriginal_language \n",
    "9.\toriginal_title  \n",
    "10.\toverview \n",
    "11.\tpopularity\n",
    "12.\tposter_path\n",
    "13.\tproduction_companies\n",
    "14.\tproduction_countries\n",
    "15.\trelease_date\n",
    "16.\trevenue\n",
    "17.\truntime\n",
    "18.\tspoken_languages\n",
    "19.\tstatus\n",
    "20.\ttagline\n",
    "21.\ttitle\n",
    "22.\tvideo\n",
    "23.\tvote_average\n",
    "24.\tvote_count"
   ]
  },
  {
   "cell_type": "code",
   "execution_count": 17,
   "id": "b4ddcf56",
   "metadata": {},
   "outputs": [
    {
     "name": "stdout",
     "output_type": "stream",
     "text": [
      "Columns:\n",
      "adult,  belongs_to_collection,  budget,  genres,  homepage,  id,  imdb_id,  original_language,  original_title,  overview,  popularity,  poster_path,  production_companies,  production_countries,  release_date,  revenue,  runtime,  spoken_languages,  status,  tagline,  title,  video,  vote_average,  vote_count\n"
     ]
    }
   ],
   "source": [
    "movies = pd.read_csv('data/movies_metadata.csv',dtype={'popularity': 'float'})\n",
    "print('Columns:')\n",
    "print(',  '.join(movies))"
   ]
  },
  {
   "cell_type": "code",
   "execution_count": 18,
   "id": "43960889",
   "metadata": {},
   "outputs": [
    {
     "data": {
      "text/html": [
       "<div>\n",
       "<style scoped>\n",
       "    .dataframe tbody tr th:only-of-type {\n",
       "        vertical-align: middle;\n",
       "    }\n",
       "\n",
       "    .dataframe tbody tr th {\n",
       "        vertical-align: top;\n",
       "    }\n",
       "\n",
       "    .dataframe thead th {\n",
       "        text-align: right;\n",
       "    }\n",
       "</style>\n",
       "<table border=\"1\" class=\"dataframe\">\n",
       "  <thead>\n",
       "    <tr style=\"text-align: right;\">\n",
       "      <th></th>\n",
       "      <th>adult</th>\n",
       "      <th>belongs_to_collection</th>\n",
       "      <th>budget</th>\n",
       "      <th>genres</th>\n",
       "      <th>homepage</th>\n",
       "      <th>id</th>\n",
       "      <th>imdb_id</th>\n",
       "      <th>original_language</th>\n",
       "      <th>original_title</th>\n",
       "      <th>overview</th>\n",
       "      <th>...</th>\n",
       "      <th>release_date</th>\n",
       "      <th>revenue</th>\n",
       "      <th>runtime</th>\n",
       "      <th>spoken_languages</th>\n",
       "      <th>status</th>\n",
       "      <th>tagline</th>\n",
       "      <th>title</th>\n",
       "      <th>video</th>\n",
       "      <th>vote_average</th>\n",
       "      <th>vote_count</th>\n",
       "    </tr>\n",
       "  </thead>\n",
       "  <tbody>\n",
       "    <tr>\n",
       "      <th>0</th>\n",
       "      <td>False</td>\n",
       "      <td>{'id': 10194, 'name': 'Toy Story Collection', ...</td>\n",
       "      <td>30000000</td>\n",
       "      <td>[{'id': 16, 'name': 'Animation'}, {'id': 35, '...</td>\n",
       "      <td>http://toystory.disney.com/toy-story</td>\n",
       "      <td>862</td>\n",
       "      <td>tt0114709</td>\n",
       "      <td>en</td>\n",
       "      <td>Toy Story</td>\n",
       "      <td>Led by Woody, Andy's toys live happily in his ...</td>\n",
       "      <td>...</td>\n",
       "      <td>1995-10-30</td>\n",
       "      <td>373554033</td>\n",
       "      <td>81.0</td>\n",
       "      <td>[{'iso_639_1': 'en', 'name': 'English'}]</td>\n",
       "      <td>Released</td>\n",
       "      <td>NaN</td>\n",
       "      <td>Toy Story</td>\n",
       "      <td>False</td>\n",
       "      <td>7.7</td>\n",
       "      <td>5415</td>\n",
       "    </tr>\n",
       "    <tr>\n",
       "      <th>1</th>\n",
       "      <td>False</td>\n",
       "      <td>NaN</td>\n",
       "      <td>65000000</td>\n",
       "      <td>[{'id': 12, 'name': 'Adventure'}, {'id': 14, '...</td>\n",
       "      <td>NaN</td>\n",
       "      <td>8844</td>\n",
       "      <td>tt0113497</td>\n",
       "      <td>en</td>\n",
       "      <td>Jumanji</td>\n",
       "      <td>When siblings Judy and Peter discover an encha...</td>\n",
       "      <td>...</td>\n",
       "      <td>1995-12-15</td>\n",
       "      <td>262797249</td>\n",
       "      <td>104.0</td>\n",
       "      <td>[{'iso_639_1': 'en', 'name': 'English'}, {'iso...</td>\n",
       "      <td>Released</td>\n",
       "      <td>Roll the dice and unleash the excitement!</td>\n",
       "      <td>Jumanji</td>\n",
       "      <td>False</td>\n",
       "      <td>6.9</td>\n",
       "      <td>2413</td>\n",
       "    </tr>\n",
       "    <tr>\n",
       "      <th>2</th>\n",
       "      <td>False</td>\n",
       "      <td>{'id': 119050, 'name': 'Grumpy Old Men Collect...</td>\n",
       "      <td>0</td>\n",
       "      <td>[{'id': 10749, 'name': 'Romance'}, {'id': 35, ...</td>\n",
       "      <td>NaN</td>\n",
       "      <td>15602</td>\n",
       "      <td>tt0113228</td>\n",
       "      <td>en</td>\n",
       "      <td>Grumpier Old Men</td>\n",
       "      <td>A family wedding reignites the ancient feud be...</td>\n",
       "      <td>...</td>\n",
       "      <td>1995-12-22</td>\n",
       "      <td>0</td>\n",
       "      <td>101.0</td>\n",
       "      <td>[{'iso_639_1': 'en', 'name': 'English'}]</td>\n",
       "      <td>Released</td>\n",
       "      <td>Still Yelling. Still Fighting. Still Ready for...</td>\n",
       "      <td>Grumpier Old Men</td>\n",
       "      <td>False</td>\n",
       "      <td>6.5</td>\n",
       "      <td>92</td>\n",
       "    </tr>\n",
       "    <tr>\n",
       "      <th>3</th>\n",
       "      <td>False</td>\n",
       "      <td>NaN</td>\n",
       "      <td>16000000</td>\n",
       "      <td>[{'id': 35, 'name': 'Comedy'}, {'id': 18, 'nam...</td>\n",
       "      <td>NaN</td>\n",
       "      <td>31357</td>\n",
       "      <td>tt0114885</td>\n",
       "      <td>en</td>\n",
       "      <td>Waiting to Exhale</td>\n",
       "      <td>Cheated on, mistreated and stepped on, the wom...</td>\n",
       "      <td>...</td>\n",
       "      <td>1995-12-22</td>\n",
       "      <td>81452156</td>\n",
       "      <td>127.0</td>\n",
       "      <td>[{'iso_639_1': 'en', 'name': 'English'}]</td>\n",
       "      <td>Released</td>\n",
       "      <td>Friends are the people who let you be yourself...</td>\n",
       "      <td>Waiting to Exhale</td>\n",
       "      <td>False</td>\n",
       "      <td>6.1</td>\n",
       "      <td>34</td>\n",
       "    </tr>\n",
       "    <tr>\n",
       "      <th>4</th>\n",
       "      <td>False</td>\n",
       "      <td>{'id': 96871, 'name': 'Father of the Bride Col...</td>\n",
       "      <td>0</td>\n",
       "      <td>[{'id': 35, 'name': 'Comedy'}]</td>\n",
       "      <td>NaN</td>\n",
       "      <td>11862</td>\n",
       "      <td>tt0113041</td>\n",
       "      <td>en</td>\n",
       "      <td>Father of the Bride Part II</td>\n",
       "      <td>Just when George Banks has recovered from his ...</td>\n",
       "      <td>...</td>\n",
       "      <td>1995-02-10</td>\n",
       "      <td>76578911</td>\n",
       "      <td>106.0</td>\n",
       "      <td>[{'iso_639_1': 'en', 'name': 'English'}]</td>\n",
       "      <td>Released</td>\n",
       "      <td>Just When His World Is Back To Normal... He's ...</td>\n",
       "      <td>Father of the Bride Part II</td>\n",
       "      <td>False</td>\n",
       "      <td>5.7</td>\n",
       "      <td>173</td>\n",
       "    </tr>\n",
       "  </tbody>\n",
       "</table>\n",
       "<p>5 rows × 24 columns</p>\n",
       "</div>"
      ],
      "text/plain": [
       "   adult                              belongs_to_collection    budget  \\\n",
       "0  False  {'id': 10194, 'name': 'Toy Story Collection', ...  30000000   \n",
       "1  False                                                NaN  65000000   \n",
       "2  False  {'id': 119050, 'name': 'Grumpy Old Men Collect...         0   \n",
       "3  False                                                NaN  16000000   \n",
       "4  False  {'id': 96871, 'name': 'Father of the Bride Col...         0   \n",
       "\n",
       "                                              genres  \\\n",
       "0  [{'id': 16, 'name': 'Animation'}, {'id': 35, '...   \n",
       "1  [{'id': 12, 'name': 'Adventure'}, {'id': 14, '...   \n",
       "2  [{'id': 10749, 'name': 'Romance'}, {'id': 35, ...   \n",
       "3  [{'id': 35, 'name': 'Comedy'}, {'id': 18, 'nam...   \n",
       "4                     [{'id': 35, 'name': 'Comedy'}]   \n",
       "\n",
       "                               homepage     id    imdb_id original_language  \\\n",
       "0  http://toystory.disney.com/toy-story    862  tt0114709                en   \n",
       "1                                   NaN   8844  tt0113497                en   \n",
       "2                                   NaN  15602  tt0113228                en   \n",
       "3                                   NaN  31357  tt0114885                en   \n",
       "4                                   NaN  11862  tt0113041                en   \n",
       "\n",
       "                original_title  \\\n",
       "0                    Toy Story   \n",
       "1                      Jumanji   \n",
       "2             Grumpier Old Men   \n",
       "3            Waiting to Exhale   \n",
       "4  Father of the Bride Part II   \n",
       "\n",
       "                                            overview  ...  release_date  \\\n",
       "0  Led by Woody, Andy's toys live happily in his ...  ...    1995-10-30   \n",
       "1  When siblings Judy and Peter discover an encha...  ...    1995-12-15   \n",
       "2  A family wedding reignites the ancient feud be...  ...    1995-12-22   \n",
       "3  Cheated on, mistreated and stepped on, the wom...  ...    1995-12-22   \n",
       "4  Just when George Banks has recovered from his ...  ...    1995-02-10   \n",
       "\n",
       "     revenue runtime                                   spoken_languages  \\\n",
       "0  373554033    81.0           [{'iso_639_1': 'en', 'name': 'English'}]   \n",
       "1  262797249   104.0  [{'iso_639_1': 'en', 'name': 'English'}, {'iso...   \n",
       "2          0   101.0           [{'iso_639_1': 'en', 'name': 'English'}]   \n",
       "3   81452156   127.0           [{'iso_639_1': 'en', 'name': 'English'}]   \n",
       "4   76578911   106.0           [{'iso_639_1': 'en', 'name': 'English'}]   \n",
       "\n",
       "     status                                            tagline  \\\n",
       "0  Released                                                NaN   \n",
       "1  Released          Roll the dice and unleash the excitement!   \n",
       "2  Released  Still Yelling. Still Fighting. Still Ready for...   \n",
       "3  Released  Friends are the people who let you be yourself...   \n",
       "4  Released  Just When His World Is Back To Normal... He's ...   \n",
       "\n",
       "                         title  video vote_average vote_count  \n",
       "0                    Toy Story  False          7.7       5415  \n",
       "1                      Jumanji  False          6.9       2413  \n",
       "2             Grumpier Old Men  False          6.5         92  \n",
       "3            Waiting to Exhale  False          6.1         34  \n",
       "4  Father of the Bride Part II  False          5.7        173  \n",
       "\n",
       "[5 rows x 24 columns]"
      ]
     },
     "execution_count": 18,
     "metadata": {},
     "output_type": "execute_result"
    }
   ],
   "source": [
    "movies.head(5)"
   ]
  },
  {
   "cell_type": "markdown",
   "id": "c486de27",
   "metadata": {},
   "source": [
    "\n",
    "## Transformation and cleaning\n"
   ]
  },
  {
   "cell_type": "markdown",
   "id": "95a90416",
   "metadata": {},
   "source": [
    "The following 3 variables were cleaned:\n",
    "\n",
    "- **belongs_to_collection** – Column with data in JSON format. It contains information about the ‘saga’ or ‘series’ of the movie.\n",
    "- **genres** – Data in JSON format containing the different genres that the movie can catalogued in.\n",
    "- **production_companies** – Data in JSON format containing the different companies that took part"
   ]
  },
  {
   "cell_type": "markdown",
   "id": "c3eb7fe4",
   "metadata": {},
   "source": [
    "Cleaning column **belongs_to_collection**:"
   ]
  },
  {
   "cell_type": "code",
   "execution_count": 19,
   "id": "05cf7197",
   "metadata": {},
   "outputs": [
    {
     "name": "stdout",
     "output_type": "stream",
     "text": [
      "{'id': 10194, 'name': 'Toy Story Collection', 'poster_path': '/7G9915LfUQ2lVfwMEEhDsn3kT4B.jpg', 'backdrop_path': '/9FBwqcd9IRruEDUrTdcaafOMKUq.jpg'}\n",
      "{'id': 645, 'name': 'James Bond Collection', 'poster_path': '/HORpg5CSkmeQlAolx3bKMrKgfi.jpg', 'backdrop_path': '/6VcVl48kNKvdXOZfJPdarlUGOsk.jpg'}\n"
     ]
    }
   ],
   "source": [
    "print(movies.loc[:,'belongs_to_collection'][0])\n",
    "print(movies.loc[:,'belongs_to_collection'][9])"
   ]
  },
  {
   "cell_type": "markdown",
   "id": "a8b4acce",
   "metadata": {},
   "source": [
    "The column has some values that we are not going to use: poster_path, backdrop_path and id."
   ]
  },
  {
   "cell_type": "code",
   "execution_count": 20,
   "id": "a6a1beb4",
   "metadata": {},
   "outputs": [],
   "source": [
    "errors = []\n",
    "for i, movie in movies.iterrows():\n",
    "    if(i >= 0):\n",
    "        try:\n",
    "            collection = cleanjsontring(movie.belongs_to_collection)\n",
    "\n",
    "            if(movie.belongs_to_collection == \"[]\" or movie.belongs_to_collection == \"\"):\n",
    "                errors.append(i)\n",
    "            else:\n",
    "                collectionDict = json.loads(collection)\n",
    "                #Removing the columns poster_path, backdrop_path, and id\n",
    "                collectionDict.pop(\"poster_path\")\n",
    "                collectionDict.pop(\"backdrop_path\")\n",
    "                collectionDict.pop(\"id\")\n",
    "                movies.loc[i,'belongs_to_collection'] = json.dumps(collectionDict)\n",
    "                #movies.loc[i,'belongs_to_collection'] = str(collectionDict['name'])\n",
    "        except Exception as e:\n",
    "            #print(e)\n",
    "            errors.append(i)"
   ]
  },
  {
   "cell_type": "markdown",
   "id": "03289df6",
   "metadata": {},
   "source": [
    "Clean output:"
   ]
  },
  {
   "cell_type": "code",
   "execution_count": 21,
   "id": "be340432",
   "metadata": {},
   "outputs": [
    {
     "data": {
      "text/plain": [
       "'{\"name\": \"Toy Story Collection\"}'"
      ]
     },
     "execution_count": 21,
     "metadata": {},
     "output_type": "execute_result"
    }
   ],
   "source": [
    "movies.loc[:,'belongs_to_collection'][0]"
   ]
  },
  {
   "cell_type": "markdown",
   "id": "8ee9a355",
   "metadata": {},
   "source": [
    "Cleaning column **genres**:"
   ]
  },
  {
   "cell_type": "code",
   "execution_count": 22,
   "id": "d4d66c6b",
   "metadata": {},
   "outputs": [
    {
     "name": "stdout",
     "output_type": "stream",
     "text": [
      "[{'id': 16, 'name': 'Animation'}, {'id': 35, 'name': 'Comedy'}, {'id': 10751, 'name': 'Family'}]\n",
      "[{'id': 12, 'name': 'Adventure'}, {'id': 28, 'name': 'Action'}, {'id': 53, 'name': 'Thriller'}]\n"
     ]
    }
   ],
   "source": [
    "print(movies.loc[:,'genres'][0])\n",
    "print(movies.loc[:,'genres'][9])"
   ]
  },
  {
   "cell_type": "markdown",
   "id": "ee647cb0",
   "metadata": {},
   "source": [
    "The column has some values that we are not going to use: id"
   ]
  },
  {
   "cell_type": "code",
   "execution_count": 23,
   "id": "ff3de881",
   "metadata": {},
   "outputs": [],
   "source": [
    "errors = []\n",
    "for i, movie in movies.iterrows():\n",
    "    if(i >= 0):\n",
    "        try:\n",
    "            genres = cleanjsontring(movie.genres)\n",
    "\n",
    "            if(movie.genres == \"[]\" or movie.genres == \"\"):\n",
    "                errors.append(i)\n",
    "            else:\n",
    "                genresDict = json.loads(genres)\n",
    "                for genre in genresDict:\n",
    "                    #Removing the column id\n",
    "                    genre.pop(\"id\")\n",
    "                movies.loc[i,'genres'] = json.dumps(genresDict)\n",
    "        except Exception as e:\n",
    "            #print(e)\n",
    "            errors.append(i)"
   ]
  },
  {
   "cell_type": "markdown",
   "id": "9d10c355",
   "metadata": {},
   "source": [
    "Clean output:"
   ]
  },
  {
   "cell_type": "code",
   "execution_count": 24,
   "id": "140324be",
   "metadata": {},
   "outputs": [
    {
     "name": "stdout",
     "output_type": "stream",
     "text": [
      "[{\"name\": \"Animation\"}, {\"name\": \"Comedy\"}, {\"name\": \"Family\"}]\n"
     ]
    }
   ],
   "source": [
    "print(movies.loc[:,'genres'][0])"
   ]
  },
  {
   "cell_type": "markdown",
   "id": "d7df35f2",
   "metadata": {},
   "source": [
    "Cleaning column **production_companies**:"
   ]
  },
  {
   "cell_type": "code",
   "execution_count": 25,
   "id": "6e41869f",
   "metadata": {},
   "outputs": [
    {
     "data": {
      "text/plain": [
       "\"[{'name': 'TriStar Pictures', 'id': 559}, {'name': 'Teitler Film', 'id': 2550}, {'name': 'Interscope Communications', 'id': 10201}]\""
      ]
     },
     "execution_count": 25,
     "metadata": {},
     "output_type": "execute_result"
    }
   ],
   "source": [
    "movies.loc[:,'production_companies'][1]"
   ]
  },
  {
   "cell_type": "markdown",
   "id": "770a1cc9",
   "metadata": {},
   "source": [
    "The column has some values that we are not going to use: id"
   ]
  },
  {
   "cell_type": "code",
   "execution_count": 26,
   "id": "d0f46474",
   "metadata": {},
   "outputs": [],
   "source": [
    "errors = []\n",
    "for i, movie in movies.iterrows():\n",
    "    if(i >= 0):\n",
    "        try:\n",
    "            prod_companies = cleanjsontring(movie.production_companies)\n",
    "            if(movie.production_companies == \"[]\" or movie.production_companies == \"\"):\n",
    "                errors.append(i)\n",
    "            else:\n",
    "                prodcompDict = json.loads(prod_companies)\n",
    "                for prodcomp in prodcompDict:\n",
    "                    #Removing the column id\n",
    "                    prodcomp.pop(\"id\")\n",
    "                movies.loc[i,'production_companies'] = json.dumps(prodcompDict)\n",
    "        except Exception as e:\n",
    "            #print(e)\n",
    "            errors.append(i)"
   ]
  },
  {
   "cell_type": "markdown",
   "id": "7b4b6611",
   "metadata": {},
   "source": [
    "Clean output:"
   ]
  },
  {
   "cell_type": "code",
   "execution_count": 27,
   "id": "f5758e81",
   "metadata": {
    "scrolled": true
   },
   "outputs": [
    {
     "data": {
      "text/plain": [
       "'[{\"name\": \"TriStar Pictures\"}, {\"name\": \"Teitler Film\"}, {\"name\": \"Interscope Communications\"}]'"
      ]
     },
     "execution_count": 27,
     "metadata": {},
     "output_type": "execute_result"
    }
   ],
   "source": [
    "movies.loc[:,'production_companies'][1]"
   ]
  },
  {
   "cell_type": "markdown",
   "id": "36907919",
   "metadata": {},
   "source": [
    "Exporting the changes to a new file:"
   ]
  },
  {
   "cell_type": "code",
   "execution_count": 28,
   "id": "9fbe313b",
   "metadata": {},
   "outputs": [],
   "source": [
    "movies.to_csv('data/movies_cleaned01.csv', index=False)"
   ]
  },
  {
   "cell_type": "markdown",
   "id": "6b302e93",
   "metadata": {},
   "source": [
    "## Usage"
   ]
  },
  {
   "cell_type": "code",
   "execution_count": 29,
   "id": "922361d8",
   "metadata": {},
   "outputs": [
    {
     "name": "stdout",
     "output_type": "stream",
     "text": [
      "Columns:\n",
      "adult,  belongs_to_collection,  budget,  genres,  homepage,  id,  imdb_id,  original_language,  original_title,  overview,  popularity,  poster_path,  production_companies,  production_countries,  release_date,  revenue,  runtime,  spoken_languages,  status,  tagline,  title,  video,  vote_average,  vote_count\n"
     ]
    }
   ],
   "source": [
    "movies = pd.read_csv('data/movies_cleaned01.csv', dtype={'popularity': 'float'})\n",
    "print('Columns:')\n",
    "print(',  '.join(movies))"
   ]
  },
  {
   "cell_type": "markdown",
   "id": "5a97d391",
   "metadata": {},
   "source": [
    "List the top 10 movies with the greatest revenue"
   ]
  },
  {
   "cell_type": "code",
   "execution_count": 30,
   "id": "535f0a24",
   "metadata": {},
   "outputs": [
    {
     "data": {
      "text/html": [
       "<style type=\"text/css\">\n",
       "</style>\n",
       "<table id=\"T_b4138\">\n",
       "  <thead>\n",
       "    <tr>\n",
       "      <th class=\"blank level0\" >&nbsp;</th>\n",
       "      <th id=\"T_b4138_level0_col0\" class=\"col_heading level0 col0\" >original_title</th>\n",
       "      <th id=\"T_b4138_level0_col1\" class=\"col_heading level0 col1\" >release_date</th>\n",
       "      <th id=\"T_b4138_level0_col2\" class=\"col_heading level0 col2\" >budget</th>\n",
       "      <th id=\"T_b4138_level0_col3\" class=\"col_heading level0 col3\" >revenue</th>\n",
       "    </tr>\n",
       "  </thead>\n",
       "  <tbody>\n",
       "    <tr>\n",
       "      <th id=\"T_b4138_level0_row0\" class=\"row_heading level0 row0\" >14551</th>\n",
       "      <td id=\"T_b4138_row0_col0\" class=\"data row0 col0\" >Avatar</td>\n",
       "      <td id=\"T_b4138_row0_col1\" class=\"data row0 col1\" >2009-12-10</td>\n",
       "      <td id=\"T_b4138_row0_col2\" class=\"data row0 col2\" >237,000,000</td>\n",
       "      <td id=\"T_b4138_row0_col3\" class=\"data row0 col3\" >2,787,965,087</td>\n",
       "    </tr>\n",
       "    <tr>\n",
       "      <th id=\"T_b4138_level0_row1\" class=\"row_heading level0 row1\" >26554</th>\n",
       "      <td id=\"T_b4138_row1_col0\" class=\"data row1 col0\" >Star Wars: The Force Awakens</td>\n",
       "      <td id=\"T_b4138_row1_col1\" class=\"data row1 col1\" >2015-12-15</td>\n",
       "      <td id=\"T_b4138_row1_col2\" class=\"data row1 col2\" >245,000,000</td>\n",
       "      <td id=\"T_b4138_row1_col3\" class=\"data row1 col3\" >2,068,223,624</td>\n",
       "    </tr>\n",
       "    <tr>\n",
       "      <th id=\"T_b4138_level0_row2\" class=\"row_heading level0 row2\" >1639</th>\n",
       "      <td id=\"T_b4138_row2_col0\" class=\"data row2 col0\" >Titanic</td>\n",
       "      <td id=\"T_b4138_row2_col1\" class=\"data row2 col1\" >1997-11-18</td>\n",
       "      <td id=\"T_b4138_row2_col2\" class=\"data row2 col2\" >200,000,000</td>\n",
       "      <td id=\"T_b4138_row2_col3\" class=\"data row2 col3\" >1,845,034,188</td>\n",
       "    </tr>\n",
       "    <tr>\n",
       "      <th id=\"T_b4138_level0_row3\" class=\"row_heading level0 row3\" >17818</th>\n",
       "      <td id=\"T_b4138_row3_col0\" class=\"data row3 col0\" >The Avengers</td>\n",
       "      <td id=\"T_b4138_row3_col1\" class=\"data row3 col1\" >2012-04-25</td>\n",
       "      <td id=\"T_b4138_row3_col2\" class=\"data row3 col2\" >220,000,000</td>\n",
       "      <td id=\"T_b4138_row3_col3\" class=\"data row3 col3\" >1,519,557,910</td>\n",
       "    </tr>\n",
       "    <tr>\n",
       "      <th id=\"T_b4138_level0_row4\" class=\"row_heading level0 row4\" >25083</th>\n",
       "      <td id=\"T_b4138_row4_col0\" class=\"data row4 col0\" >Jurassic World</td>\n",
       "      <td id=\"T_b4138_row4_col1\" class=\"data row4 col1\" >2015-06-09</td>\n",
       "      <td id=\"T_b4138_row4_col2\" class=\"data row4 col2\" >150,000,000</td>\n",
       "      <td id=\"T_b4138_row4_col3\" class=\"data row4 col3\" >1,513,528,810</td>\n",
       "    </tr>\n",
       "    <tr>\n",
       "      <th id=\"T_b4138_level0_row5\" class=\"row_heading level0 row5\" >28829</th>\n",
       "      <td id=\"T_b4138_row5_col0\" class=\"data row5 col0\" >Furious 7</td>\n",
       "      <td id=\"T_b4138_row5_col1\" class=\"data row5 col1\" >2015-04-01</td>\n",
       "      <td id=\"T_b4138_row5_col2\" class=\"data row5 col2\" >190,000,000</td>\n",
       "      <td id=\"T_b4138_row5_col3\" class=\"data row5 col3\" >1,506,249,360</td>\n",
       "    </tr>\n",
       "    <tr>\n",
       "      <th id=\"T_b4138_level0_row6\" class=\"row_heading level0 row6\" >26557</th>\n",
       "      <td id=\"T_b4138_row6_col0\" class=\"data row6 col0\" >Avengers: Age of Ultron</td>\n",
       "      <td id=\"T_b4138_row6_col1\" class=\"data row6 col1\" >2015-04-22</td>\n",
       "      <td id=\"T_b4138_row6_col2\" class=\"data row6 col2\" >280,000,000</td>\n",
       "      <td id=\"T_b4138_row6_col3\" class=\"data row6 col3\" >1,405,403,694</td>\n",
       "    </tr>\n",
       "    <tr>\n",
       "      <th id=\"T_b4138_level0_row7\" class=\"row_heading level0 row7\" >17437</th>\n",
       "      <td id=\"T_b4138_row7_col0\" class=\"data row7 col0\" >Harry Potter and the Deathly Hallows: Part 2</td>\n",
       "      <td id=\"T_b4138_row7_col1\" class=\"data row7 col1\" >2011-07-07</td>\n",
       "      <td id=\"T_b4138_row7_col2\" class=\"data row7 col2\" >125,000,000</td>\n",
       "      <td id=\"T_b4138_row7_col3\" class=\"data row7 col3\" >1,342,000,000</td>\n",
       "    </tr>\n",
       "    <tr>\n",
       "      <th id=\"T_b4138_level0_row8\" class=\"row_heading level0 row8\" >22109</th>\n",
       "      <td id=\"T_b4138_row8_col0\" class=\"data row8 col0\" >Frozen</td>\n",
       "      <td id=\"T_b4138_row8_col1\" class=\"data row8 col1\" >2013-11-27</td>\n",
       "      <td id=\"T_b4138_row8_col2\" class=\"data row8 col2\" >150,000,000</td>\n",
       "      <td id=\"T_b4138_row8_col3\" class=\"data row8 col3\" >1,274,219,009</td>\n",
       "    </tr>\n",
       "    <tr>\n",
       "      <th id=\"T_b4138_level0_row9\" class=\"row_heading level0 row9\" >42219</th>\n",
       "      <td id=\"T_b4138_row9_col0\" class=\"data row9 col0\" >Beauty and the Beast</td>\n",
       "      <td id=\"T_b4138_row9_col1\" class=\"data row9 col1\" >2017-03-16</td>\n",
       "      <td id=\"T_b4138_row9_col2\" class=\"data row9 col2\" >160,000,000</td>\n",
       "      <td id=\"T_b4138_row9_col3\" class=\"data row9 col3\" >1,262,886,337</td>\n",
       "    </tr>\n",
       "  </tbody>\n",
       "</table>\n"
      ],
      "text/plain": [
       "<pandas.io.formats.style.Styler at 0x11da363d0>"
      ]
     },
     "execution_count": 30,
     "metadata": {},
     "output_type": "execute_result"
    }
   ],
   "source": [
    "top10movies=movies['revenue'].sort_values(ascending=False).head(10)\n",
    "#Filter the rows with the index of the previous request and show some columns (two of them are formatted for best reading)\n",
    "movies.iloc[top10movies.index].loc[:,['original_title','release_date','budget','revenue']]. \\\n",
    "style.format({\"budget\": \"{:,d}\", \"revenue\": \"{:,d}\"})"
   ]
  },
  {
   "cell_type": "markdown",
   "id": "cddaca79",
   "metadata": {},
   "source": [
    "List the top 10 movies with the greatest losses"
   ]
  },
  {
   "cell_type": "code",
   "execution_count": 31,
   "id": "e78ef287",
   "metadata": {},
   "outputs": [
    {
     "data": {
      "text/html": [
       "<style type=\"text/css\">\n",
       "</style>\n",
       "<table id=\"T_7d787\">\n",
       "  <thead>\n",
       "    <tr>\n",
       "      <th class=\"blank level0\" >&nbsp;</th>\n",
       "      <th id=\"T_7d787_level0_col0\" class=\"col_heading level0 col0\" >original_title</th>\n",
       "      <th id=\"T_7d787_level0_col1\" class=\"col_heading level0 col1\" >release_date</th>\n",
       "      <th id=\"T_7d787_level0_col2\" class=\"col_heading level0 col2\" >budget</th>\n",
       "      <th id=\"T_7d787_level0_col3\" class=\"col_heading level0 col3\" >revenue</th>\n",
       "      <th id=\"T_7d787_level0_col4\" class=\"col_heading level0 col4\" >net_income</th>\n",
       "    </tr>\n",
       "  </thead>\n",
       "  <tbody>\n",
       "    <tr>\n",
       "      <th id=\"T_7d787_level0_row0\" class=\"row_heading level0 row0\" >21174</th>\n",
       "      <td id=\"T_7d787_row0_col0\" class=\"data row0 col0\" >The Lone Ranger</td>\n",
       "      <td id=\"T_7d787_row0_col1\" class=\"data row0 col1\" >2013-07-03</td>\n",
       "      <td id=\"T_7d787_row0_col2\" class=\"data row0 col2\" >255,000,000</td>\n",
       "      <td id=\"T_7d787_row0_col3\" class=\"data row0 col3\" >89,289,910</td>\n",
       "      <td id=\"T_7d787_row0_col4\" class=\"data row0 col4\" >-165,710,090</td>\n",
       "    </tr>\n",
       "    <tr>\n",
       "      <th id=\"T_7d787_level0_row1\" class=\"row_heading level0 row1\" >7226</th>\n",
       "      <td id=\"T_7d787_row1_col0\" class=\"data row1 col0\" >The Alamo</td>\n",
       "      <td id=\"T_7d787_row1_col1\" class=\"data row1 col1\" >2004-04-07</td>\n",
       "      <td id=\"T_7d787_row1_col2\" class=\"data row1 col2\" >145,000,000</td>\n",
       "      <td id=\"T_7d787_row1_col3\" class=\"data row1 col3\" >25,819,961</td>\n",
       "      <td id=\"T_7d787_row1_col4\" class=\"data row1 col4\" >-119,180,039</td>\n",
       "    </tr>\n",
       "    <tr>\n",
       "      <th id=\"T_7d787_level0_row2\" class=\"row_heading level0 row2\" >16788</th>\n",
       "      <td id=\"T_7d787_row2_col0\" class=\"data row2 col0\" >Mars Needs Moms</td>\n",
       "      <td id=\"T_7d787_row2_col1\" class=\"data row2 col1\" >2011-03-09</td>\n",
       "      <td id=\"T_7d787_row2_col2\" class=\"data row2 col2\" >150,000,000</td>\n",
       "      <td id=\"T_7d787_row2_col3\" class=\"data row2 col3\" >38,992,758</td>\n",
       "      <td id=\"T_7d787_row2_col4\" class=\"data row2 col4\" >-111,007,242</td>\n",
       "    </tr>\n",
       "    <tr>\n",
       "      <th id=\"T_7d787_level0_row3\" class=\"row_heading level0 row3\" >44334</th>\n",
       "      <td id=\"T_7d787_row3_col0\" class=\"data row3 col0\" >Valerian and the City of a Thousand Planets</td>\n",
       "      <td id=\"T_7d787_row3_col1\" class=\"data row3 col1\" >2017-07-20</td>\n",
       "      <td id=\"T_7d787_row3_col2\" class=\"data row3 col2\" >197,471,676</td>\n",
       "      <td id=\"T_7d787_row3_col3\" class=\"data row3 col3\" >90,024,292</td>\n",
       "      <td id=\"T_7d787_row3_col4\" class=\"data row3 col4\" >-107,447,384</td>\n",
       "    </tr>\n",
       "    <tr>\n",
       "      <th id=\"T_7d787_level0_row4\" class=\"row_heading level0 row4\" >2711</th>\n",
       "      <td id=\"T_7d787_row4_col0\" class=\"data row4 col0\" >The 13th Warrior</td>\n",
       "      <td id=\"T_7d787_row4_col1\" class=\"data row4 col1\" >1999-08-27</td>\n",
       "      <td id=\"T_7d787_row4_col2\" class=\"data row4 col2\" >160,000,000</td>\n",
       "      <td id=\"T_7d787_row4_col3\" class=\"data row4 col3\" >61,698,899</td>\n",
       "      <td id=\"T_7d787_row4_col4\" class=\"data row4 col4\" >-98,301,101</td>\n",
       "    </tr>\n",
       "    <tr>\n",
       "      <th id=\"T_7d787_level0_row5\" class=\"row_heading level0 row5\" >5389</th>\n",
       "      <td id=\"T_7d787_row5_col0\" class=\"data row5 col0\" >The Adventures of Pluto Nash</td>\n",
       "      <td id=\"T_7d787_row5_col1\" class=\"data row5 col1\" >2002-08-15</td>\n",
       "      <td id=\"T_7d787_row5_col2\" class=\"data row5 col2\" >100,000,000</td>\n",
       "      <td id=\"T_7d787_row5_col3\" class=\"data row5 col3\" >7,103,973</td>\n",
       "      <td id=\"T_7d787_row5_col4\" class=\"data row5 col4\" >-92,896,027</td>\n",
       "    </tr>\n",
       "    <tr>\n",
       "      <th id=\"T_7d787_level0_row6\" class=\"row_heading level0 row6\" >1901</th>\n",
       "      <td id=\"T_7d787_row6_col0\" class=\"data row6 col0\" >Metropolis</td>\n",
       "      <td id=\"T_7d787_row6_col1\" class=\"data row6 col1\" >1927-01-10</td>\n",
       "      <td id=\"T_7d787_row6_col2\" class=\"data row6 col2\" >92,620,000</td>\n",
       "      <td id=\"T_7d787_row6_col3\" class=\"data row6 col3\" >650,422</td>\n",
       "      <td id=\"T_7d787_row6_col4\" class=\"data row6 col4\" >-91,969,578</td>\n",
       "    </tr>\n",
       "    <tr>\n",
       "      <th id=\"T_7d787_level0_row7\" class=\"row_heading level0 row7\" >14</th>\n",
       "      <td id=\"T_7d787_row7_col0\" class=\"data row7 col0\" >Cutthroat Island</td>\n",
       "      <td id=\"T_7d787_row7_col1\" class=\"data row7 col1\" >1995-12-22</td>\n",
       "      <td id=\"T_7d787_row7_col2\" class=\"data row7 col2\" >98,000,000</td>\n",
       "      <td id=\"T_7d787_row7_col3\" class=\"data row7 col3\" >10,017,322</td>\n",
       "      <td id=\"T_7d787_row7_col4\" class=\"data row7 col4\" >-87,982,678</td>\n",
       "    </tr>\n",
       "    <tr>\n",
       "      <th id=\"T_7d787_level0_row8\" class=\"row_heading level0 row8\" >41488</th>\n",
       "      <td id=\"T_7d787_row8_col0\" class=\"data row8 col0\" >Live by Night</td>\n",
       "      <td id=\"T_7d787_row8_col1\" class=\"data row8 col1\" >2016-12-25</td>\n",
       "      <td id=\"T_7d787_row8_col2\" class=\"data row8 col2\" >108,000,000</td>\n",
       "      <td id=\"T_7d787_row8_col3\" class=\"data row8 col3\" >22,678,555</td>\n",
       "      <td id=\"T_7d787_row8_col4\" class=\"data row8 col4\" >-85,321,445</td>\n",
       "    </tr>\n",
       "    <tr>\n",
       "      <th id=\"T_7d787_level0_row9\" class=\"row_heading level0 row9\" >11376</th>\n",
       "      <td id=\"T_7d787_row9_col0\" class=\"data row9 col0\" >Flushed Away</td>\n",
       "      <td id=\"T_7d787_row9_col1\" class=\"data row9 col1\" >2006-10-22</td>\n",
       "      <td id=\"T_7d787_row9_col2\" class=\"data row9 col2\" >149,000,000</td>\n",
       "      <td id=\"T_7d787_row9_col3\" class=\"data row9 col3\" >64,459,316</td>\n",
       "      <td id=\"T_7d787_row9_col4\" class=\"data row9 col4\" >-84,540,684</td>\n",
       "    </tr>\n",
       "  </tbody>\n",
       "</table>\n"
      ],
      "text/plain": [
       "<pandas.io.formats.style.Styler at 0x11da37d00>"
      ]
     },
     "execution_count": 31,
     "metadata": {},
     "output_type": "execute_result"
    }
   ],
   "source": [
    "#Create a new column as net_income\n",
    "movies['net_income'] = movies['revenue'] - movies['budget']\n",
    "#Obtain the lowest 10 values of the column revenue (do not include movies that have a revenue zero)\n",
    "top10movies=movies[movies.revenue!=0]['net_income'].sort_values().head(10)\n",
    "#Filter the rows with the index of the previous request and show some columns\n",
    "movies.iloc[top10movies.index].loc[:,['original_title','release_date','budget','revenue','net_income']]. \\\n",
    "style.format({\"budget\": \"{:,d}\", \"revenue\": \"{:,d}\", \"net_income\": \"{:,d}\"})"
   ]
  },
  {
   "cell_type": "markdown",
   "id": "6e51f99c",
   "metadata": {},
   "source": [
    "Working with the movies collection"
   ]
  },
  {
   "cell_type": "code",
   "execution_count": 32,
   "id": "9262a46e",
   "metadata": {},
   "outputs": [],
   "source": [
    "colecArray = []\n",
    "for i, movie in movies.iterrows():\n",
    "    try:\n",
    "        if str(movie.belongs_to_collection) == 'nan':\n",
    "            colecArray.append(None)\n",
    "        else:\n",
    "            collectionList = json.loads(movie.belongs_to_collection)\n",
    "            colecArray.append(collectionList[\"name\"])\n",
    "    except Exception as e:  \n",
    "       print(i,movie.belongs_to_collection,e)\n",
    "       break\n",
    "\n",
    "myDict = {'collection': colecArray}\n",
    "collections = pd.DataFrame(data=myDict)\n",
    "collections['movie']=movies['original_title']\n",
    "collections['release_date']=movies['release_date']\n",
    "\n",
    "collections.dropna(inplace=True)"
   ]
  },
  {
   "cell_type": "code",
   "execution_count": 33,
   "id": "f720b29d",
   "metadata": {},
   "outputs": [],
   "source": [
    "#Function creation to obtain the movies and their collection\n",
    "def obtain_collections (movie):\n",
    "    return collections[collections['movie'].str.lower().str.contains(movie)]"
   ]
  },
  {
   "cell_type": "code",
   "execution_count": 34,
   "id": "03832504",
   "metadata": {},
   "outputs": [
    {
     "data": {
      "text/html": [
       "<div>\n",
       "<style scoped>\n",
       "    .dataframe tbody tr th:only-of-type {\n",
       "        vertical-align: middle;\n",
       "    }\n",
       "\n",
       "    .dataframe tbody tr th {\n",
       "        vertical-align: top;\n",
       "    }\n",
       "\n",
       "    .dataframe thead th {\n",
       "        text-align: right;\n",
       "    }\n",
       "</style>\n",
       "<table border=\"1\" class=\"dataframe\">\n",
       "  <thead>\n",
       "    <tr style=\"text-align: right;\">\n",
       "      <th></th>\n",
       "      <th>collection</th>\n",
       "      <th>movie</th>\n",
       "      <th>release_date</th>\n",
       "    </tr>\n",
       "  </thead>\n",
       "  <tbody>\n",
       "    <tr>\n",
       "      <th>256</th>\n",
       "      <td>Star Wars Collection</td>\n",
       "      <td>Star Wars</td>\n",
       "      <td>1977-05-25</td>\n",
       "    </tr>\n",
       "    <tr>\n",
       "      <th>2514</th>\n",
       "      <td>Star Wars Collection</td>\n",
       "      <td>Star Wars: Episode I - The Phantom Menace</td>\n",
       "      <td>1999-05-19</td>\n",
       "    </tr>\n",
       "    <tr>\n",
       "      <th>5244</th>\n",
       "      <td>Star Wars Collection</td>\n",
       "      <td>Star Wars: Episode II - Attack of the Clones</td>\n",
       "      <td>2002-05-15</td>\n",
       "    </tr>\n",
       "    <tr>\n",
       "      <th>10069</th>\n",
       "      <td>Star Wars Collection</td>\n",
       "      <td>Star Wars: Episode III - Revenge of the Sith</td>\n",
       "      <td>2005-05-17</td>\n",
       "    </tr>\n",
       "    <tr>\n",
       "      <th>26554</th>\n",
       "      <td>Star Wars Collection</td>\n",
       "      <td>Star Wars: The Force Awakens</td>\n",
       "      <td>2015-12-15</td>\n",
       "    </tr>\n",
       "    <tr>\n",
       "      <th>30902</th>\n",
       "      <td>Robot Chicken: Star Wars Collection</td>\n",
       "      <td>Robot Chicken: Star Wars</td>\n",
       "      <td>2007-07-17</td>\n",
       "    </tr>\n",
       "    <tr>\n",
       "      <th>41486</th>\n",
       "      <td>Star Wars Collection</td>\n",
       "      <td>Rogue One: A Star Wars Story</td>\n",
       "      <td>2016-12-14</td>\n",
       "    </tr>\n",
       "  </tbody>\n",
       "</table>\n",
       "</div>"
      ],
      "text/plain": [
       "                                collection  \\\n",
       "256                   Star Wars Collection   \n",
       "2514                  Star Wars Collection   \n",
       "5244                  Star Wars Collection   \n",
       "10069                 Star Wars Collection   \n",
       "26554                 Star Wars Collection   \n",
       "30902  Robot Chicken: Star Wars Collection   \n",
       "41486                 Star Wars Collection   \n",
       "\n",
       "                                              movie release_date  \n",
       "256                                       Star Wars   1977-05-25  \n",
       "2514      Star Wars: Episode I - The Phantom Menace   1999-05-19  \n",
       "5244   Star Wars: Episode II - Attack of the Clones   2002-05-15  \n",
       "10069  Star Wars: Episode III - Revenge of the Sith   2005-05-17  \n",
       "26554                  Star Wars: The Force Awakens   2015-12-15  \n",
       "30902                      Robot Chicken: Star Wars   2007-07-17  \n",
       "41486                  Rogue One: A Star Wars Story   2016-12-14  "
      ]
     },
     "execution_count": 34,
     "metadata": {},
     "output_type": "execute_result"
    }
   ],
   "source": [
    "obtain_collections ('star wars')"
   ]
  },
  {
   "cell_type": "markdown",
   "id": "41700ead",
   "metadata": {},
   "source": [
    "### Movies and keywords per decade"
   ]
  },
  {
   "cell_type": "markdown",
   "id": "62b63f70",
   "metadata": {},
   "source": [
    "Create a new column with the numerical value of the year, we well need this value in order to filter the dataframe by year, the code and print out below show the old column release_date with the new column year:\n"
   ]
  },
  {
   "cell_type": "code",
   "execution_count": 35,
   "id": "5b51e614",
   "metadata": {},
   "outputs": [
    {
     "data": {
      "text/html": [
       "<div>\n",
       "<style scoped>\n",
       "    .dataframe tbody tr th:only-of-type {\n",
       "        vertical-align: middle;\n",
       "    }\n",
       "\n",
       "    .dataframe tbody tr th {\n",
       "        vertical-align: top;\n",
       "    }\n",
       "\n",
       "    .dataframe thead th {\n",
       "        text-align: right;\n",
       "    }\n",
       "</style>\n",
       "<table border=\"1\" class=\"dataframe\">\n",
       "  <thead>\n",
       "    <tr style=\"text-align: right;\">\n",
       "      <th></th>\n",
       "      <th>release_date</th>\n",
       "      <th>year</th>\n",
       "    </tr>\n",
       "  </thead>\n",
       "  <tbody>\n",
       "    <tr>\n",
       "      <th>0</th>\n",
       "      <td>1995-10-30</td>\n",
       "      <td>1995</td>\n",
       "    </tr>\n",
       "    <tr>\n",
       "      <th>1</th>\n",
       "      <td>1995-12-15</td>\n",
       "      <td>1995</td>\n",
       "    </tr>\n",
       "    <tr>\n",
       "      <th>2</th>\n",
       "      <td>1995-12-22</td>\n",
       "      <td>1995</td>\n",
       "    </tr>\n",
       "    <tr>\n",
       "      <th>3</th>\n",
       "      <td>1995-12-22</td>\n",
       "      <td>1995</td>\n",
       "    </tr>\n",
       "    <tr>\n",
       "      <th>4</th>\n",
       "      <td>1995-02-10</td>\n",
       "      <td>1995</td>\n",
       "    </tr>\n",
       "    <tr>\n",
       "      <th>...</th>\n",
       "      <td>...</td>\n",
       "      <td>...</td>\n",
       "    </tr>\n",
       "    <tr>\n",
       "      <th>45458</th>\n",
       "      <td>NaN</td>\n",
       "      <td>&lt;NA&gt;</td>\n",
       "    </tr>\n",
       "    <tr>\n",
       "      <th>45459</th>\n",
       "      <td>2011-11-17</td>\n",
       "      <td>2011</td>\n",
       "    </tr>\n",
       "    <tr>\n",
       "      <th>45460</th>\n",
       "      <td>2003-08-01</td>\n",
       "      <td>2003</td>\n",
       "    </tr>\n",
       "    <tr>\n",
       "      <th>45461</th>\n",
       "      <td>1917-10-21</td>\n",
       "      <td>1917</td>\n",
       "    </tr>\n",
       "    <tr>\n",
       "      <th>45462</th>\n",
       "      <td>2017-06-09</td>\n",
       "      <td>2017</td>\n",
       "    </tr>\n",
       "  </tbody>\n",
       "</table>\n",
       "<p>45463 rows × 2 columns</p>\n",
       "</div>"
      ],
      "text/plain": [
       "      release_date  year\n",
       "0       1995-10-30  1995\n",
       "1       1995-12-15  1995\n",
       "2       1995-12-22  1995\n",
       "3       1995-12-22  1995\n",
       "4       1995-02-10  1995\n",
       "...            ...   ...\n",
       "45458          NaN  <NA>\n",
       "45459   2011-11-17  2011\n",
       "45460   2003-08-01  2003\n",
       "45461   1917-10-21  1917\n",
       "45462   2017-06-09  2017\n",
       "\n",
       "[45463 rows x 2 columns]"
      ]
     },
     "execution_count": 35,
     "metadata": {},
     "output_type": "execute_result"
    }
   ],
   "source": [
    "movies[\"year\"] = movies[\"release_date\"].str.slice(stop=4).astype('Int64')\n",
    "movies[[\"release_date\",\"year\"]]"
   ]
  },
  {
   "cell_type": "markdown",
   "id": "152fcaba",
   "metadata": {},
   "source": [
    "We will now get the count of the most repeated keywords on each decade and display the top keywords.\n",
    "\n",
    "What are we doing here?\n",
    "- First we create list of 6 dictionaries\n",
    "- Each dictionary includes a list of movie idd\n",
    "    - For example in the first dictionary (1970-1979 decade) the list of movies [103, 11, 5879, 51242, 1011...]\n",
    "    - Those Ids are the id of a movie released in that decade\n",
    "- Once we have the list of movies ids, we loop through this list \n",
    "- For every movie we find the list of keywords\n",
    "- We add the keyword into the list of keywords per decade\n",
    "- Count the most used keywords\n",
    "\n",
    "We are trying to see if the keywords are different decade to decade:"
   ]
  },
  {
   "cell_type": "code",
   "execution_count": 36,
   "id": "4114d97c",
   "metadata": {},
   "outputs": [
    {
     "name": "stdout",
     "output_type": "stream",
     "text": [
      "These are the most used keywords per decade:\n",
      "\n",
      "---------------------------------------------\n",
      "1970-1979\n",
      "---------------------------------------------\n",
      "murder              164\n",
      "female nudity       140\n",
      "independent film    133\n",
      "nudity              129\n",
      "sex                 103\n",
      "based on novel       97\n",
      "\n",
      "\n",
      "---------------------------------------------\n",
      "1980-1989\n",
      "---------------------------------------------\n",
      "independent film    201\n",
      "murder              190\n",
      "nudity              145\n",
      "woman director      134\n",
      "female nudity       127\n",
      "violence             98\n",
      "\n",
      "\n",
      "---------------------------------------------\n",
      "1990-1999\n",
      "---------------------------------------------\n",
      "woman director      396\n",
      "independent film    362\n",
      "murder              190\n",
      "sex                 118\n",
      "violence            109\n",
      "nudity              106\n",
      "\n",
      "\n",
      "---------------------------------------------\n",
      "2000-2009\n",
      "---------------------------------------------\n",
      "woman director          988\n",
      "independent film        948\n",
      "murder                  251\n",
      "sex                     238\n",
      "sport                   174\n",
      "duringcreditsstinger    173\n",
      "\n",
      "\n",
      "---------------------------------------------\n",
      "2010-2019\n",
      "---------------------------------------------\n",
      "woman director          1376\n",
      "biography                278\n",
      "murder                   262\n",
      "stand-up comedy          234\n",
      "duringcreditsstinger     230\n",
      "based on novel           224\n",
      "\n",
      "\n",
      "---------------------------------------------\n",
      "2020-2022\n",
      "---------------------------------------------\n",
      "sequel          1\n",
      "alien planet    1\n",
      "avatar          1\n",
      "\n",
      "\n"
     ]
    }
   ],
   "source": [
    "decades = [\n",
    "    {\"1970-1979\": movies[(movies[\"year\"]>=1970) & (movies[\"year\"]<=1979)][\"id\"].tolist()},\n",
    "    {\"1980-1989\": movies[(movies[\"year\"]>=1980) & (movies[\"year\"]<=1989)][\"id\"].tolist()},\n",
    "    {\"1990-1999\": movies[(movies[\"year\"]>=1990) & (movies[\"year\"]<=1999)][\"id\"].tolist()},\n",
    "    {\"2000-2009\": movies[(movies[\"year\"]>=2000) & (movies[\"year\"]<=2009)][\"id\"].tolist()},\n",
    "    {\"2010-2019\": movies[(movies[\"year\"]>=2010) & (movies[\"year\"]<=2019)][\"id\"].tolist()},\n",
    "    {\"2020-2022\": movies[(movies[\"year\"]>=2020) & (movies[\"year\"]<=2022)][\"id\"].tolist()}\n",
    "]\n",
    "\n",
    "print(\"These are the most used keywords per decade:\")\n",
    "print()\n",
    "for i in range(len(decades)):\n",
    "    listOfKeywords = []\n",
    "    for years, ids in decades[i].items():\n",
    "        print(\"---------------------------------------------\")\n",
    "        print(years)\n",
    "        print(\"---------------------------------------------\")\n",
    "        for movieId in ids:\n",
    "            filteredDF = keywords[keywords[\"id\"] == movieId]\n",
    "            if(len(filteredDF.index) != 0):\n",
    "                myString = filteredDF.iloc[0]['keywords']\n",
    "                myJson = json.loads(cleanjsontring(myString))\n",
    "                for myKeyword in myJson:\n",
    "                    listOfKeywords.append(myKeyword[\"name\"])\n",
    "    \n",
    "    print(pd.Series(listOfKeywords).value_counts().head(6).to_string())\n",
    "    print()\n",
    "    print()"
   ]
  },
  {
   "cell_type": "markdown",
   "id": "8b00e8e2",
   "metadata": {},
   "source": [
    " ### Results\n",
    "- The keyword **murder** appears in every decade in the top 5 but as decade by decade, the keyword is less present in the movies.\n",
    "- **Sex** is present in the 70, 80, 90 decade but not after that (considerably).\n",
    "- **Woman director** was gaining popularity decade by decade."
   ]
  },
  {
   "cell_type": "markdown",
   "id": "62e2edae",
   "metadata": {},
   "source": [
    "***\n",
    "# Dataset 4: Academy Award winning films"
   ]
  },
  {
   "cell_type": "markdown",
   "id": "52000ece",
   "metadata": {},
   "source": [
    "## Description\n",
    "\n",
    "This dataset was obtained from Wikipedia: https://en.wikipedia.org/wiki/List_of_Academy_Award-winning_films. It contains four columns:\n",
    "\n",
    "- **Film** – The name of the movie.\n",
    "- **Year** – Year of publication.\n",
    "- **Awards** – Number of awards received.\n",
    "- **Nominations** – Number of award nominations .\n"
   ]
  },
  {
   "cell_type": "markdown",
   "id": "1bc0f1e3",
   "metadata": {},
   "source": [
    "## Transformation and cleaning\n",
    "\n",
    "The dataset is already clean."
   ]
  },
  {
   "cell_type": "markdown",
   "id": "48d57a06",
   "metadata": {},
   "source": [
    "## Usage"
   ]
  },
  {
   "cell_type": "markdown",
   "id": "4bd1e042",
   "metadata": {},
   "source": [
    "We will get the list of academy award winning films from Wikipedia by performing web scraping data. We will use it to compare the best movies with what we have in our other datasets."
   ]
  },
  {
   "cell_type": "code",
   "execution_count": 37,
   "id": "8611c738",
   "metadata": {},
   "outputs": [],
   "source": [
    "import requests\n",
    "from bs4 import BeautifulSoup\n",
    "url = \"https://en.wikipedia.org/wiki/List_of_Academy_Award-winning_films\"\n",
    "req = requests.get(url)\n",
    "soup = BeautifulSoup(req.content, 'html.parser')\n",
    "body = soup.find('body')\n",
    "table = body.find('table')\n",
    "tbody = table.find('tbody')\n",
    "\n",
    "\n",
    "c_names = []\n",
    "awardsData = []\n",
    "\n",
    "trs = tbody.findAll('tr')\n",
    "for i in range(len(trs)):\n",
    "    \n",
    "    if(i ==0):\n",
    "        #Getting column names:\n",
    "        ths = trs[i].findAll('th')\n",
    "        for j in range(len(ths)):\n",
    "            c_names.append(ths[j].getText().replace(u'\\n', ''))\n",
    "    else:\n",
    "        #Data:\n",
    "        tds = trs[i].findAll('td')\n",
    "        awardsData.append({\n",
    "            c_names[0]:tds[0].getText(),\n",
    "            c_names[1]:tds[1].getText().replace(u'\\xa0', ''),\n",
    "            c_names[2]:int(tds[2].getText().split(' ')[0].replace(u'\\n', '')),\n",
    "            c_names[3]:int(tds[3].getText().split('[')[0].replace(u'\\n', '')),\n",
    "        });\n",
    "        \n",
    "academyAwards = pd.DataFrame.from_dict(sorted(awardsData, key=lambda d: d['Nominations'], reverse=True) )"
   ]
  },
  {
   "cell_type": "code",
   "execution_count": 38,
   "id": "16bddd5d",
   "metadata": {},
   "outputs": [
    {
     "data": {
      "text/html": [
       "<div>\n",
       "<style scoped>\n",
       "    .dataframe tbody tr th:only-of-type {\n",
       "        vertical-align: middle;\n",
       "    }\n",
       "\n",
       "    .dataframe tbody tr th {\n",
       "        vertical-align: top;\n",
       "    }\n",
       "\n",
       "    .dataframe thead th {\n",
       "        text-align: right;\n",
       "    }\n",
       "</style>\n",
       "<table border=\"1\" class=\"dataframe\">\n",
       "  <thead>\n",
       "    <tr style=\"text-align: right;\">\n",
       "      <th></th>\n",
       "      <th>Film</th>\n",
       "      <th>Year</th>\n",
       "      <th>Awards</th>\n",
       "      <th>Nominations</th>\n",
       "    </tr>\n",
       "  </thead>\n",
       "  <tbody>\n",
       "    <tr>\n",
       "      <th>0</th>\n",
       "      <td>La La Land</td>\n",
       "      <td>2016</td>\n",
       "      <td>6</td>\n",
       "      <td>14</td>\n",
       "    </tr>\n",
       "    <tr>\n",
       "      <th>1</th>\n",
       "      <td>Titanic</td>\n",
       "      <td>1997</td>\n",
       "      <td>11</td>\n",
       "      <td>14</td>\n",
       "    </tr>\n",
       "    <tr>\n",
       "      <th>2</th>\n",
       "      <td>All About Eve</td>\n",
       "      <td>1950</td>\n",
       "      <td>6</td>\n",
       "      <td>14</td>\n",
       "    </tr>\n",
       "    <tr>\n",
       "      <th>3</th>\n",
       "      <td>The Shape of Water</td>\n",
       "      <td>2017</td>\n",
       "      <td>4</td>\n",
       "      <td>13</td>\n",
       "    </tr>\n",
       "    <tr>\n",
       "      <th>4</th>\n",
       "      <td>The Curious Case of Benjamin Button</td>\n",
       "      <td>2008</td>\n",
       "      <td>3</td>\n",
       "      <td>13</td>\n",
       "    </tr>\n",
       "    <tr>\n",
       "      <th>5</th>\n",
       "      <td>Chicago</td>\n",
       "      <td>2002</td>\n",
       "      <td>6</td>\n",
       "      <td>13</td>\n",
       "    </tr>\n",
       "    <tr>\n",
       "      <th>6</th>\n",
       "      <td>The Lord of the Rings: The Fellowship of the Ring</td>\n",
       "      <td>2001</td>\n",
       "      <td>4</td>\n",
       "      <td>13</td>\n",
       "    </tr>\n",
       "    <tr>\n",
       "      <th>7</th>\n",
       "      <td>Shakespeare in Love</td>\n",
       "      <td>1998</td>\n",
       "      <td>7</td>\n",
       "      <td>13</td>\n",
       "    </tr>\n",
       "    <tr>\n",
       "      <th>8</th>\n",
       "      <td>Forrest Gump</td>\n",
       "      <td>1994</td>\n",
       "      <td>6</td>\n",
       "      <td>13</td>\n",
       "    </tr>\n",
       "    <tr>\n",
       "      <th>9</th>\n",
       "      <td>Who's Afraid of Virginia Woolf?</td>\n",
       "      <td>1966</td>\n",
       "      <td>5</td>\n",
       "      <td>13</td>\n",
       "    </tr>\n",
       "  </tbody>\n",
       "</table>\n",
       "</div>"
      ],
      "text/plain": [
       "                                                Film  Year  Awards  \\\n",
       "0                                         La La Land  2016       6   \n",
       "1                                            Titanic  1997      11   \n",
       "2                                      All About Eve  1950       6   \n",
       "3                                 The Shape of Water  2017       4   \n",
       "4                The Curious Case of Benjamin Button  2008       3   \n",
       "5                                            Chicago  2002       6   \n",
       "6  The Lord of the Rings: The Fellowship of the Ring  2001       4   \n",
       "7                                Shakespeare in Love  1998       7   \n",
       "8                                       Forrest Gump  1994       6   \n",
       "9                    Who's Afraid of Virginia Woolf?  1966       5   \n",
       "\n",
       "   Nominations  \n",
       "0           14  \n",
       "1           14  \n",
       "2           14  \n",
       "3           13  \n",
       "4           13  \n",
       "5           13  \n",
       "6           13  \n",
       "7           13  \n",
       "8           13  \n",
       "9           13  "
      ]
     },
     "metadata": {},
     "output_type": "display_data"
    }
   ],
   "source": [
    "display(academyAwards.head(10))"
   ]
  },
  {
   "cell_type": "code",
   "execution_count": 49,
   "id": "3bcceb8b",
   "metadata": {},
   "outputs": [
    {
     "name": "stdout",
     "output_type": "stream",
     "text": [
      "Boxplot of Nominations\n"
     ]
    },
    {
     "data": {
      "text/plain": [
       "<AxesSubplot:>"
      ]
     },
     "execution_count": 49,
     "metadata": {},
     "output_type": "execute_result"
    },
    {
     "data": {
      "image/png": "[encoded data removed]",
      "text/plain": [
       "<Figure size 432x288 with 1 Axes>"
      ]
     },
     "metadata": {
      "needs_background": "light"
     },
     "output_type": "display_data"
    }
   ],
   "source": [
    "import matplotlib as plt \n",
    "#box plot Nominations\n",
    "print(\"Boxplot of Nominations\")\n",
    "academyAwards['Nominations'].plot.box()"
   ]
  },
  {
   "cell_type": "code",
   "execution_count": 51,
   "id": "f3012c50",
   "metadata": {},
   "outputs": [
    {
     "name": "stdout",
     "output_type": "stream",
     "text": [
      "Boxplot of Awards\n"
     ]
    },
    {
     "data": {
      "text/plain": [
       "<AxesSubplot:>"
      ]
     },
     "execution_count": 51,
     "metadata": {},
     "output_type": "execute_result"
    },
    {
     "data": {
      "image/png": "[encoded data removed]",
      "text/plain": [
       "<Figure size 432x288 with 1 Axes>"
      ]
     },
     "metadata": {
      "needs_background": "light"
     },
     "output_type": "display_data"
    }
   ],
   "source": [
    "#box plot Awards\n",
    "print(\"Boxplot of Awards\")\n",
    "academyAwards['Awards'].plot.box()"
   ]
  },
  {
   "cell_type": "code",
   "execution_count": 55,
   "id": "c67af463",
   "metadata": {},
   "outputs": [
    {
     "data": {
      "text/plain": [
       "<AxesSubplot:xlabel='Awards', ylabel='Nominations'>"
      ]
     },
     "execution_count": 55,
     "metadata": {},
     "output_type": "execute_result"
    },
    {
     "data": {
      "image/png": "[encoded data removed]",
      "text/plain": [
       "<Figure size 432x288 with 1 Axes>"
      ]
     },
     "metadata": {
      "needs_background": "light"
     },
     "output_type": "display_data"
    }
   ],
   "source": [
    "#Looking for Correlation\n",
    "academyAwards.plot(kind = 'scatter',\n",
    "        x = 'Awards',\n",
    "        y = 'Nominations',\n",
    "        color = 'red')"
   ]
  },
  {
   "cell_type": "markdown",
   "id": "cd873768",
   "metadata": {},
   "source": [
    "***\n",
    "# Dataset 5: Top Movies (OMDb API)"
   ]
  },
  {
   "cell_type": "markdown",
   "id": "745e29a2",
   "metadata": {},
   "source": [
    "## Description\n",
    "\n",
    "OMDb-API provides an API where we can get information about films."
   ]
  },
  {
   "cell_type": "markdown",
   "id": "f4d43518",
   "metadata": {},
   "source": [
    "## Usage"
   ]
  },
  {
   "cell_type": "markdown",
   "id": "ec6050fa",
   "metadata": {},
   "source": [
    "We want to compare the the information from Wikipedia with the information provided by the API.\n",
    "\n",
    "In order to do this, we are using the module requests passing the apiKey and it returns a JSON."
   ]
  },
  {
   "cell_type": "code",
   "execution_count": 56,
   "id": "77ed4205",
   "metadata": {},
   "outputs": [],
   "source": [
    "#from PIL import Image\n",
    "from io import BytesIO\n",
    "\n",
    "awardsFromApiData = []\n",
    "\n",
    "for i in range(len(academyAwards.head(10))):\n",
    "    url = \"http://www.omdbapi.com/?apikey=1161cf29&t=\"+academyAwards.iloc[i][\"Film\"]\n",
    "    req = requests.get(url)\n",
    "    MovieData = req.json()\n",
    "    #img = requests.get(MovieData[\"Poster\"])\n",
    "    #img = Image.open(BytesIO(img.content))\n",
    "    #img.thumbnail((200, 200))\n",
    "    #display(img)\n",
    "    awardsFromApiData.append({\n",
    "        \"Title\" : MovieData[\"Title\"],\n",
    "        \"Director\" : MovieData[\"Director\"],\n",
    "        \"APIAwards\" : MovieData[\"Awards\"],\n",
    "        \"imdbID\" : MovieData[\"imdbID\"],\n",
    "    })"
   ]
  },
  {
   "cell_type": "markdown",
   "id": "b7b58e90",
   "metadata": {},
   "source": [
    "Here we see the API shows more nominations than Wikipedia but the Awards are basically the same."
   ]
  },
  {
   "cell_type": "code",
   "execution_count": 57,
   "id": "e94bfe4f",
   "metadata": {},
   "outputs": [
    {
     "data": {
      "text/html": [
       "<div>\n",
       "<style scoped>\n",
       "    .dataframe tbody tr th:only-of-type {\n",
       "        vertical-align: middle;\n",
       "    }\n",
       "\n",
       "    .dataframe tbody tr th {\n",
       "        vertical-align: top;\n",
       "    }\n",
       "\n",
       "    .dataframe thead th {\n",
       "        text-align: right;\n",
       "    }\n",
       "</style>\n",
       "<table border=\"1\" class=\"dataframe\">\n",
       "  <thead>\n",
       "    <tr style=\"text-align: right;\">\n",
       "      <th></th>\n",
       "      <th>Film</th>\n",
       "      <th>Year</th>\n",
       "      <th>Awards</th>\n",
       "      <th>Nominations</th>\n",
       "      <th>APIAwards</th>\n",
       "    </tr>\n",
       "  </thead>\n",
       "  <tbody>\n",
       "    <tr>\n",
       "      <th>0</th>\n",
       "      <td>La La Land</td>\n",
       "      <td>2016</td>\n",
       "      <td>6</td>\n",
       "      <td>14</td>\n",
       "      <td>Won 6 Oscars. 243 wins &amp; 297 nominations total</td>\n",
       "    </tr>\n",
       "    <tr>\n",
       "      <th>1</th>\n",
       "      <td>Titanic</td>\n",
       "      <td>1997</td>\n",
       "      <td>11</td>\n",
       "      <td>14</td>\n",
       "      <td>Won 11 Oscars. 125 wins &amp; 83 nominations total</td>\n",
       "    </tr>\n",
       "    <tr>\n",
       "      <th>2</th>\n",
       "      <td>All About Eve</td>\n",
       "      <td>1950</td>\n",
       "      <td>6</td>\n",
       "      <td>14</td>\n",
       "      <td>Won 6 Oscars. 27 wins &amp; 20 nominations total</td>\n",
       "    </tr>\n",
       "    <tr>\n",
       "      <th>3</th>\n",
       "      <td>The Shape of Water</td>\n",
       "      <td>2017</td>\n",
       "      <td>4</td>\n",
       "      <td>13</td>\n",
       "      <td>Won 4 Oscars. 138 wins &amp; 358 nominations total</td>\n",
       "    </tr>\n",
       "    <tr>\n",
       "      <th>4</th>\n",
       "      <td>The Curious Case of Benjamin Button</td>\n",
       "      <td>2008</td>\n",
       "      <td>3</td>\n",
       "      <td>13</td>\n",
       "      <td>Won 3 Oscars. 83 wins &amp; 160 nominations total</td>\n",
       "    </tr>\n",
       "    <tr>\n",
       "      <th>5</th>\n",
       "      <td>Chicago</td>\n",
       "      <td>2002</td>\n",
       "      <td>6</td>\n",
       "      <td>13</td>\n",
       "      <td>Won 6 Oscars. 57 wins &amp; 129 nominations total</td>\n",
       "    </tr>\n",
       "    <tr>\n",
       "      <th>6</th>\n",
       "      <td>The Lord of the Rings: The Fellowship of the Ring</td>\n",
       "      <td>2001</td>\n",
       "      <td>4</td>\n",
       "      <td>13</td>\n",
       "      <td>Won 4 Oscars. 121 wins &amp; 126 nominations total</td>\n",
       "    </tr>\n",
       "    <tr>\n",
       "      <th>7</th>\n",
       "      <td>Shakespeare in Love</td>\n",
       "      <td>1998</td>\n",
       "      <td>7</td>\n",
       "      <td>13</td>\n",
       "      <td>Won 7 Oscars. 64 wins &amp; 87 nominations total</td>\n",
       "    </tr>\n",
       "    <tr>\n",
       "      <th>8</th>\n",
       "      <td>Forrest Gump</td>\n",
       "      <td>1994</td>\n",
       "      <td>6</td>\n",
       "      <td>13</td>\n",
       "      <td>Won 6 Oscars. 51 wins &amp; 75 nominations total</td>\n",
       "    </tr>\n",
       "    <tr>\n",
       "      <th>9</th>\n",
       "      <td>Who's Afraid of Virginia Woolf?</td>\n",
       "      <td>1966</td>\n",
       "      <td>5</td>\n",
       "      <td>13</td>\n",
       "      <td>Won 5 Oscars. 22 wins &amp; 28 nominations total</td>\n",
       "    </tr>\n",
       "  </tbody>\n",
       "</table>\n",
       "</div>"
      ],
      "text/plain": [
       "                                                Film  Year  Awards  \\\n",
       "0                                         La La Land  2016       6   \n",
       "1                                            Titanic  1997      11   \n",
       "2                                      All About Eve  1950       6   \n",
       "3                                 The Shape of Water  2017       4   \n",
       "4                The Curious Case of Benjamin Button  2008       3   \n",
       "5                                            Chicago  2002       6   \n",
       "6  The Lord of the Rings: The Fellowship of the Ring  2001       4   \n",
       "7                                Shakespeare in Love  1998       7   \n",
       "8                                       Forrest Gump  1994       6   \n",
       "9                    Who's Afraid of Virginia Woolf?  1966       5   \n",
       "\n",
       "   Nominations                                       APIAwards  \n",
       "0           14  Won 6 Oscars. 243 wins & 297 nominations total  \n",
       "1           14  Won 11 Oscars. 125 wins & 83 nominations total  \n",
       "2           14    Won 6 Oscars. 27 wins & 20 nominations total  \n",
       "3           13  Won 4 Oscars. 138 wins & 358 nominations total  \n",
       "4           13   Won 3 Oscars. 83 wins & 160 nominations total  \n",
       "5           13   Won 6 Oscars. 57 wins & 129 nominations total  \n",
       "6           13  Won 4 Oscars. 121 wins & 126 nominations total  \n",
       "7           13    Won 7 Oscars. 64 wins & 87 nominations total  \n",
       "8           13    Won 6 Oscars. 51 wins & 75 nominations total  \n",
       "9           13    Won 5 Oscars. 22 wins & 28 nominations total  "
      ]
     },
     "execution_count": 57,
     "metadata": {},
     "output_type": "execute_result"
    }
   ],
   "source": [
    "pd.concat([\n",
    "    academyAwards.head(10),\n",
    "    pd.DataFrame(data=awardsFromApiData)[\"APIAwards\"]\n",
    "], axis=1)"
   ]
  },
  {
   "cell_type": "markdown",
   "id": "11985fd0",
   "metadata": {},
   "source": [
    "Now we would like to get the movies with more nominations / Awards and see if the performes who have been in more movies also are in the best movies."
   ]
  },
  {
   "cell_type": "code",
   "execution_count": 58,
   "id": "2aab2397",
   "metadata": {},
   "outputs": [
    {
     "name": "stdout",
     "output_type": "stream",
     "text": [
      "Histogram of vote count < 100 (since there are movies with up to 14000 votes )\n"
     ]
    },
    {
     "data": {
      "image/png": "[encoded data removed]",
      "text/plain": [
       "<Figure size 432x288 with 1 Axes>"
      ]
     },
     "metadata": {
      "needs_background": "light"
     },
     "output_type": "display_data"
    }
   ],
   "source": [
    "import matplotlib\n",
    "import matplotlib.pyplot as plt\n",
    "print(\"Histogram of vote count < 100 (since there are movies with up to 14000 votes )\")\n",
    "plt.hist(movies[movies[\"vote_count\"]<100][\"vote_count\"], bins=20)\n",
    "plt.show()"
   ]
  },
  {
   "cell_type": "markdown",
   "id": "49a99251",
   "metadata": {},
   "source": [
    "There are so many movies with less than 100 votes, in order to get the most popular movies we'll use the movies with more than 100 votes ordered by the average (in english)"
   ]
  },
  {
   "cell_type": "code",
   "execution_count": 59,
   "id": "0523d0bd",
   "metadata": {},
   "outputs": [
    {
     "data": {
      "text/html": [
       "<div>\n",
       "<style scoped>\n",
       "    .dataframe tbody tr th:only-of-type {\n",
       "        vertical-align: middle;\n",
       "    }\n",
       "\n",
       "    .dataframe tbody tr th {\n",
       "        vertical-align: top;\n",
       "    }\n",
       "\n",
       "    .dataframe thead th {\n",
       "        text-align: right;\n",
       "    }\n",
       "</style>\n",
       "<table border=\"1\" class=\"dataframe\">\n",
       "  <thead>\n",
       "    <tr style=\"text-align: right;\">\n",
       "      <th></th>\n",
       "      <th>original_title</th>\n",
       "      <th>id</th>\n",
       "    </tr>\n",
       "  </thead>\n",
       "  <tbody>\n",
       "    <tr>\n",
       "      <th>0</th>\n",
       "      <td>Planet Earth</td>\n",
       "      <td>192040</td>\n",
       "    </tr>\n",
       "    <tr>\n",
       "      <th>1</th>\n",
       "      <td>The Godfather</td>\n",
       "      <td>238</td>\n",
       "    </tr>\n",
       "    <tr>\n",
       "      <th>2</th>\n",
       "      <td>The Shawshank Redemption</td>\n",
       "      <td>278</td>\n",
       "    </tr>\n",
       "    <tr>\n",
       "      <th>3</th>\n",
       "      <td>Dear Zachary: A Letter to a Son About His Father</td>\n",
       "      <td>15584</td>\n",
       "    </tr>\n",
       "    <tr>\n",
       "      <th>4</th>\n",
       "      <td>The Dark Knight</td>\n",
       "      <td>155</td>\n",
       "    </tr>\n",
       "    <tr>\n",
       "      <th>5</th>\n",
       "      <td>In a Heartbeat</td>\n",
       "      <td>455661</td>\n",
       "    </tr>\n",
       "    <tr>\n",
       "      <th>6</th>\n",
       "      <td>The Godfather: Part II</td>\n",
       "      <td>240</td>\n",
       "    </tr>\n",
       "    <tr>\n",
       "      <th>7</th>\n",
       "      <td>Psycho</td>\n",
       "      <td>539</td>\n",
       "    </tr>\n",
       "    <tr>\n",
       "      <th>8</th>\n",
       "      <td>Once Upon a Time in America</td>\n",
       "      <td>311</td>\n",
       "    </tr>\n",
       "    <tr>\n",
       "      <th>9</th>\n",
       "      <td>Fight Club</td>\n",
       "      <td>550</td>\n",
       "    </tr>\n",
       "    <tr>\n",
       "      <th>10</th>\n",
       "      <td>Black Mirror: White Christmas</td>\n",
       "      <td>374430</td>\n",
       "    </tr>\n",
       "    <tr>\n",
       "      <th>11</th>\n",
       "      <td>Schindler's List</td>\n",
       "      <td>424</td>\n",
       "    </tr>\n",
       "    <tr>\n",
       "      <th>12</th>\n",
       "      <td>Pulp Fiction</td>\n",
       "      <td>680</td>\n",
       "    </tr>\n",
       "    <tr>\n",
       "      <th>13</th>\n",
       "      <td>Whiplash</td>\n",
       "      <td>244786</td>\n",
       "    </tr>\n",
       "    <tr>\n",
       "      <th>14</th>\n",
       "      <td>One Flew Over the Cuckoo's Nest</td>\n",
       "      <td>510</td>\n",
       "    </tr>\n",
       "  </tbody>\n",
       "</table>\n",
       "</div>"
      ],
      "text/plain": [
       "                                      original_title      id\n",
       "0                                       Planet Earth  192040\n",
       "1                                      The Godfather     238\n",
       "2                           The Shawshank Redemption     278\n",
       "3   Dear Zachary: A Letter to a Son About His Father   15584\n",
       "4                                    The Dark Knight     155\n",
       "5                                     In a Heartbeat  455661\n",
       "6                             The Godfather: Part II     240\n",
       "7                                             Psycho     539\n",
       "8                        Once Upon a Time in America     311\n",
       "9                                         Fight Club     550\n",
       "10                     Black Mirror: White Christmas  374430\n",
       "11                                  Schindler's List     424\n",
       "12                                      Pulp Fiction     680\n",
       "13                                          Whiplash  244786\n",
       "14                   One Flew Over the Cuckoo's Nest     510"
      ]
     },
     "execution_count": 59,
     "metadata": {},
     "output_type": "execute_result"
    }
   ],
   "source": [
    "top_movies = movies[(movies[\"vote_count\"]>100) & (movies[\"original_language\"] == \"en\")].sort_values(by=['vote_average'],ascending=False)[[\"original_title\",\"id\"]].reset_index(drop=True)\n",
    "top_movies.head(15)"
   ]
  },
  {
   "cell_type": "code",
   "execution_count": 60,
   "id": "3be9eb45",
   "metadata": {},
   "outputs": [
    {
     "name": "stdout",
     "output_type": "stream",
     "text": [
      "No people in movie ID: 238\n",
      "No people in movie ID: 455661\n",
      "\n",
      "In average, every performer is present in  2.73 movies\n",
      "The histogram below shows that most performers have worked in 1 to 4 movies\n"
     ]
    },
    {
     "data": {
      "image/png": "[encoded data removed]",
      "text/plain": [
       "<Figure size 432x288 with 1 Axes>"
      ]
     },
     "metadata": {
      "needs_background": "light"
     },
     "output_type": "display_data"
    },
    {
     "name": "stdout",
     "output_type": "stream",
     "text": [
      "The next top ten list shows the average of movies of the performers \n"
     ]
    },
    {
     "data": {
      "text/html": [
       "<div>\n",
       "<style scoped>\n",
       "    .dataframe tbody tr th:only-of-type {\n",
       "        vertical-align: middle;\n",
       "    }\n",
       "\n",
       "    .dataframe tbody tr th {\n",
       "        vertical-align: top;\n",
       "    }\n",
       "\n",
       "    .dataframe thead th {\n",
       "        text-align: right;\n",
       "    }\n",
       "</style>\n",
       "<table border=\"1\" class=\"dataframe\">\n",
       "  <thead>\n",
       "    <tr style=\"text-align: right;\">\n",
       "      <th></th>\n",
       "      <th>original_title</th>\n",
       "      <th>id</th>\n",
       "      <th>movies_top_tree_x</th>\n",
       "      <th>movies_top_tree_y</th>\n",
       "    </tr>\n",
       "  </thead>\n",
       "  <tbody>\n",
       "    <tr>\n",
       "      <th>0</th>\n",
       "      <td>Planet Earth</td>\n",
       "      <td>192040</td>\n",
       "      <td>10.0</td>\n",
       "      <td>10.0</td>\n",
       "    </tr>\n",
       "    <tr>\n",
       "      <th>2</th>\n",
       "      <td>The Shawshank Redemption</td>\n",
       "      <td>278</td>\n",
       "      <td>43.8</td>\n",
       "      <td>43.8</td>\n",
       "    </tr>\n",
       "    <tr>\n",
       "      <th>3</th>\n",
       "      <td>Dear Zachary: A Letter to a Son About His Father</td>\n",
       "      <td>15584</td>\n",
       "      <td>1.0</td>\n",
       "      <td>1.0</td>\n",
       "    </tr>\n",
       "    <tr>\n",
       "      <th>4</th>\n",
       "      <td>The Dark Knight</td>\n",
       "      <td>155</td>\n",
       "      <td>54.2</td>\n",
       "      <td>54.2</td>\n",
       "    </tr>\n",
       "    <tr>\n",
       "      <th>6</th>\n",
       "      <td>The Godfather: Part II</td>\n",
       "      <td>240</td>\n",
       "      <td>56.4</td>\n",
       "      <td>56.4</td>\n",
       "    </tr>\n",
       "    <tr>\n",
       "      <th>7</th>\n",
       "      <td>Psycho</td>\n",
       "      <td>539</td>\n",
       "      <td>30.5</td>\n",
       "      <td>30.5</td>\n",
       "    </tr>\n",
       "    <tr>\n",
       "      <th>8</th>\n",
       "      <td>Once Upon a Time in America</td>\n",
       "      <td>311</td>\n",
       "      <td>47.5</td>\n",
       "      <td>47.5</td>\n",
       "    </tr>\n",
       "    <tr>\n",
       "      <th>9</th>\n",
       "      <td>Fight Club</td>\n",
       "      <td>550</td>\n",
       "      <td>29.3</td>\n",
       "      <td>29.3</td>\n",
       "    </tr>\n",
       "    <tr>\n",
       "      <th>10</th>\n",
       "      <td>Black Mirror: White Christmas</td>\n",
       "      <td>374430</td>\n",
       "      <td>9.5</td>\n",
       "      <td>9.5</td>\n",
       "    </tr>\n",
       "    <tr>\n",
       "      <th>11</th>\n",
       "      <td>Schindler's List</td>\n",
       "      <td>424</td>\n",
       "      <td>37.1</td>\n",
       "      <td>37.1</td>\n",
       "    </tr>\n",
       "  </tbody>\n",
       "</table>\n",
       "</div>"
      ],
      "text/plain": [
       "                                      original_title      id  \\\n",
       "0                                       Planet Earth  192040   \n",
       "2                           The Shawshank Redemption     278   \n",
       "3   Dear Zachary: A Letter to a Son About His Father   15584   \n",
       "4                                    The Dark Knight     155   \n",
       "6                             The Godfather: Part II     240   \n",
       "7                                             Psycho     539   \n",
       "8                        Once Upon a Time in America     311   \n",
       "9                                         Fight Club     550   \n",
       "10                     Black Mirror: White Christmas  374430   \n",
       "11                                  Schindler's List     424   \n",
       "\n",
       "    movies_top_tree_x  movies_top_tree_y  \n",
       "0                10.0               10.0  \n",
       "2                43.8               43.8  \n",
       "3                 1.0                1.0  \n",
       "4                54.2               54.2  \n",
       "6                56.4               56.4  \n",
       "7                30.5               30.5  \n",
       "8                47.5               47.5  \n",
       "9                29.3               29.3  \n",
       "10                9.5                9.5  \n",
       "11               37.1               37.1  "
      ]
     },
     "execution_count": 60,
     "metadata": {},
     "output_type": "execute_result"
    }
   ],
   "source": [
    "movies_id = []\n",
    "performers_per_movie_and_movies = []\n",
    "index=0\n",
    "found=0\n",
    "while found < 10:\n",
    "    movies_id.append(top_movies.iloc[index][\"id\"])\n",
    "    try:\n",
    "        list_of_performers = acts[acts[\"movie_id\"] == top_movies.iloc[index][\"id\"]][[\"performer\"]].values.tolist()\n",
    "        performer_per_movie_and_movies = []\n",
    "\n",
    "        for performer in list_of_performers:\n",
    "            performer_per_movie_and_movies.append({\"performer\":performer[0], \"movies\":performer_counts.loc[performer[0]].values[0]})\n",
    "\n",
    "        performer_per_movie_and_movies=pd.DataFrame(performer_per_movie_and_movies).sort_values(by=\"movies\", ascending=False)\n",
    "\n",
    "        performers_per_movie_and_movies.append(performer_per_movie_and_movies.head(10)[\"movies\"].mean())\n",
    "        found = found + 1\n",
    "    except Exception as e:\n",
    "        print(\"No people in movie ID:\", top_movies.iloc[index][\"id\"])\n",
    "        performers_per_movie_and_movies.append(0)\n",
    "        #continue\n",
    "    index = index + 1\n",
    "\n",
    "print(\"\")\n",
    "print(\"In average, every performer is present in \", round(performer_counts[\"movies\"].mean(),2), \"movies\")\n",
    "\n",
    "print(\"The histogram below shows that most performers have worked in 1 to 4 movies\")\n",
    "plt.hist(performer_counts[performer_counts[\"movies\"]<=15][\"movies\"], bins=15)\n",
    "plt.show()\n",
    "\n",
    "\n",
    "top_movies[\"movies_top_tree\"] = pd.Series(performers_per_movie_and_movies)\n",
    "print(\"The next top ten list shows the average of movies of the performers \")\n",
    "\n",
    "\n",
    "\n",
    "top_ten_movies = pd.merge(\n",
    "    top_movies, \n",
    "    pd.DataFrame(zip(movies_id, performers_per_movie_and_movies),columns =['id', 'movies_top_tree']), \n",
    "    on=['id','id'], \n",
    "    how='outer'\n",
    ")\n",
    "\n",
    "top_ten_movies=top_ten_movies[top_ten_movies[\"movies_top_tree_x\"]>0].head(10)\n",
    "top_ten_movies"
   ]
  },
  {
   "cell_type": "code",
   "execution_count": 61,
   "id": "e06b0216",
   "metadata": {},
   "outputs": [
    {
     "name": "stdout",
     "output_type": "stream",
     "text": [
      "For example the movie Fight Club has this list of performes with the amount of movies each one:\n"
     ]
    },
    {
     "data": {
      "text/html": [
       "<div>\n",
       "<style scoped>\n",
       "    .dataframe tbody tr th:only-of-type {\n",
       "        vertical-align: middle;\n",
       "    }\n",
       "\n",
       "    .dataframe tbody tr th {\n",
       "        vertical-align: top;\n",
       "    }\n",
       "\n",
       "    .dataframe thead th {\n",
       "        text-align: right;\n",
       "    }\n",
       "</style>\n",
       "<table border=\"1\" class=\"dataframe\">\n",
       "  <thead>\n",
       "    <tr style=\"text-align: right;\">\n",
       "      <th></th>\n",
       "      <th>performer</th>\n",
       "      <th>movies</th>\n",
       "    </tr>\n",
       "  </thead>\n",
       "  <tbody>\n",
       "    <tr>\n",
       "      <th>1</th>\n",
       "      <td>Brad Pitt</td>\n",
       "      <td>58</td>\n",
       "    </tr>\n",
       "    <tr>\n",
       "      <th>4</th>\n",
       "      <td>Helena Bonham Carter</td>\n",
       "      <td>56</td>\n",
       "    </tr>\n",
       "    <tr>\n",
       "      <th>0</th>\n",
       "      <td>Edward Norton</td>\n",
       "      <td>29</td>\n",
       "    </tr>\n",
       "    <tr>\n",
       "      <th>2</th>\n",
       "      <td>Meat Loaf</td>\n",
       "      <td>29</td>\n",
       "    </tr>\n",
       "    <tr>\n",
       "      <th>6</th>\n",
       "      <td>Holt McCallany</td>\n",
       "      <td>25</td>\n",
       "    </tr>\n",
       "    <tr>\n",
       "      <th>3</th>\n",
       "      <td>Jared Leto</td>\n",
       "      <td>24</td>\n",
       "    </tr>\n",
       "    <tr>\n",
       "      <th>5</th>\n",
       "      <td>Zach Grenier</td>\n",
       "      <td>21</td>\n",
       "    </tr>\n",
       "    <tr>\n",
       "      <th>18</th>\n",
       "      <td>Matt Winston</td>\n",
       "      <td>17</td>\n",
       "    </tr>\n",
       "    <tr>\n",
       "      <th>27</th>\n",
       "      <td>Michael Shamus Wiles</td>\n",
       "      <td>17</td>\n",
       "    </tr>\n",
       "    <tr>\n",
       "      <th>9</th>\n",
       "      <td>David Andrews</td>\n",
       "      <td>17</td>\n",
       "    </tr>\n",
       "  </tbody>\n",
       "</table>\n",
       "</div>"
      ],
      "text/plain": [
       "               performer  movies\n",
       "1              Brad Pitt      58\n",
       "4   Helena Bonham Carter      56\n",
       "0          Edward Norton      29\n",
       "2              Meat Loaf      29\n",
       "6         Holt McCallany      25\n",
       "3             Jared Leto      24\n",
       "5           Zach Grenier      21\n",
       "18          Matt Winston      17\n",
       "27  Michael Shamus Wiles      17\n",
       "9          David Andrews      17"
      ]
     },
     "metadata": {},
     "output_type": "display_data"
    },
    {
     "name": "stdout",
     "output_type": "stream",
     "text": [
      "The mean of movies of the top 10 performers of this movie is:  29.3\n"
     ]
    }
   ],
   "source": [
    "print(\"For example the movie Fight Club has this list of performes with the amount of movies each one:\")\n",
    "list_of_performers = acts[acts[\"movie_id\"] == 550].values.tolist()\n",
    "performer_per_movie_and_movies = []\n",
    "\n",
    "for performer in list_of_performers:\n",
    "    performer_per_movie_and_movies.append({\"performer\":performer[0], \"movies\":performer_counts.loc[performer[0]].values[0]})\n",
    "(performer_per_movie_and_movies)\n",
    "\n",
    "\n",
    "performer_per_movie_and_movies=pd.DataFrame(performer_per_movie_and_movies)\n",
    "display(performer_per_movie_and_movies.sort_values(by=\"movies\", ascending=False).head(10))\n",
    "\n",
    "print(\"The mean of movies of the top 10 performers of this movie is: \", performer_per_movie_and_movies.sort_values(by=\"movies\", ascending=False).head(10)[\"movies\"].mean())"
   ]
  },
  {
   "cell_type": "markdown",
   "id": "2a5f8866",
   "metadata": {},
   "source": [
    "***\n",
    "# Dataset 7: Oscar Winners (TXT file)"
   ]
  },
  {
   "cell_type": "markdown",
   "id": "025dc5f8",
   "metadata": {},
   "source": [
    "## Description\n",
    "\n",
    "This dataset is obtained from the TXT file in the following URL: https://www.openintro.org/data/tab-delimited/oscars.txt. It contains the following variables. Only the ones in **bold** were taken.\n",
    "\n",
    "- _oscar_no_  \n",
    "- **oscar_yr** - Year in which the Oscar was awarded.\n",
    "- **award** - Award for best actor or actress.\n",
    "- **name** - Name of the actor.\n",
    "- **movie** - Name of the movie.\n",
    "- **age** - Age of the actor at the time of receiving the award.\n",
    "- **birth_pl** - Birthplace of the actor.\n",
    "- **birth_date** - Birthdate of the actor.\n",
    "- _birth_mo_\n",
    "- _birth_d_\n",
    "- _birth_y_"
   ]
  },
  {
   "cell_type": "markdown",
   "id": "a43cbef9",
   "metadata": {},
   "source": [
    "## Usage"
   ]
  },
  {
   "cell_type": "code",
   "execution_count": 62,
   "id": "9db222af",
   "metadata": {},
   "outputs": [
    {
     "data": {
      "text/html": [
       "<div>\n",
       "<style scoped>\n",
       "    .dataframe tbody tr th:only-of-type {\n",
       "        vertical-align: middle;\n",
       "    }\n",
       "\n",
       "    .dataframe tbody tr th {\n",
       "        vertical-align: top;\n",
       "    }\n",
       "\n",
       "    .dataframe thead th {\n",
       "        text-align: right;\n",
       "    }\n",
       "</style>\n",
       "<table border=\"1\" class=\"dataframe\">\n",
       "  <thead>\n",
       "    <tr style=\"text-align: right;\">\n",
       "      <th></th>\n",
       "      <th>oscar_yr</th>\n",
       "      <th>award</th>\n",
       "      <th>name</th>\n",
       "      <th>movie</th>\n",
       "      <th>age</th>\n",
       "      <th>birth_pl</th>\n",
       "      <th>birth_date</th>\n",
       "    </tr>\n",
       "  </thead>\n",
       "  <tbody>\n",
       "    <tr>\n",
       "      <th>0</th>\n",
       "      <td>1929</td>\n",
       "      <td>Best actress</td>\n",
       "      <td>Janet Gaynor</td>\n",
       "      <td>7th Heaven</td>\n",
       "      <td>22</td>\n",
       "      <td>Pennsylvania</td>\n",
       "      <td>1906-10-06</td>\n",
       "    </tr>\n",
       "    <tr>\n",
       "      <th>1</th>\n",
       "      <td>1930</td>\n",
       "      <td>Best actress</td>\n",
       "      <td>Mary Pickford</td>\n",
       "      <td>Coquette</td>\n",
       "      <td>37</td>\n",
       "      <td>Canada</td>\n",
       "      <td>1892-04-08</td>\n",
       "    </tr>\n",
       "    <tr>\n",
       "      <th>2</th>\n",
       "      <td>1931</td>\n",
       "      <td>Best actress</td>\n",
       "      <td>Norma Shearer</td>\n",
       "      <td>The Divorcee</td>\n",
       "      <td>28</td>\n",
       "      <td>Canada</td>\n",
       "      <td>1902-08-10</td>\n",
       "    </tr>\n",
       "    <tr>\n",
       "      <th>3</th>\n",
       "      <td>1932</td>\n",
       "      <td>Best actress</td>\n",
       "      <td>Marie Dressler</td>\n",
       "      <td>Min and Bill</td>\n",
       "      <td>63</td>\n",
       "      <td>Canada</td>\n",
       "      <td>1868-11-09</td>\n",
       "    </tr>\n",
       "    <tr>\n",
       "      <th>4</th>\n",
       "      <td>1933</td>\n",
       "      <td>Best actress</td>\n",
       "      <td>Helen Hayes</td>\n",
       "      <td>The Sin of Madelon Claudet</td>\n",
       "      <td>32</td>\n",
       "      <td>Washington DC</td>\n",
       "      <td>1900-10-10</td>\n",
       "    </tr>\n",
       "    <tr>\n",
       "      <th>...</th>\n",
       "      <td>...</td>\n",
       "      <td>...</td>\n",
       "      <td>...</td>\n",
       "      <td>...</td>\n",
       "      <td>...</td>\n",
       "      <td>...</td>\n",
       "      <td>...</td>\n",
       "    </tr>\n",
       "    <tr>\n",
       "      <th>179</th>\n",
       "      <td>2015</td>\n",
       "      <td>Best actor</td>\n",
       "      <td>Eddie Redmayne</td>\n",
       "      <td>The Theory of Everything</td>\n",
       "      <td>32</td>\n",
       "      <td>England</td>\n",
       "      <td>1982-01-06</td>\n",
       "    </tr>\n",
       "    <tr>\n",
       "      <th>180</th>\n",
       "      <td>2016</td>\n",
       "      <td>Best actor</td>\n",
       "      <td>Leonardo Di Caprio</td>\n",
       "      <td>The Revenant</td>\n",
       "      <td>41</td>\n",
       "      <td>California</td>\n",
       "      <td>1974-11-11</td>\n",
       "    </tr>\n",
       "    <tr>\n",
       "      <th>181</th>\n",
       "      <td>2017</td>\n",
       "      <td>Best actor</td>\n",
       "      <td>Casey Affleck</td>\n",
       "      <td>Manchester by the Sa</td>\n",
       "      <td>41</td>\n",
       "      <td>Massachusetts</td>\n",
       "      <td>1975-08-12</td>\n",
       "    </tr>\n",
       "    <tr>\n",
       "      <th>182</th>\n",
       "      <td>2018</td>\n",
       "      <td>Best actor</td>\n",
       "      <td>Gary Oldman</td>\n",
       "      <td>Darkest Hour</td>\n",
       "      <td>59</td>\n",
       "      <td>England</td>\n",
       "      <td>1958-03-21</td>\n",
       "    </tr>\n",
       "    <tr>\n",
       "      <th>183</th>\n",
       "      <td>2019</td>\n",
       "      <td>Best actor</td>\n",
       "      <td>Rami Malek</td>\n",
       "      <td>Bohemian Rhapsody</td>\n",
       "      <td>37</td>\n",
       "      <td>California</td>\n",
       "      <td>1981-05-12</td>\n",
       "    </tr>\n",
       "  </tbody>\n",
       "</table>\n",
       "<p>184 rows × 7 columns</p>\n",
       "</div>"
      ],
      "text/plain": [
       "    oscar_yr         award                name                       movie  \\\n",
       "0       1929  Best actress        Janet Gaynor                  7th Heaven   \n",
       "1       1930  Best actress       Mary Pickford                    Coquette   \n",
       "2       1931  Best actress       Norma Shearer                The Divorcee   \n",
       "3       1932  Best actress      Marie Dressler                Min and Bill   \n",
       "4       1933  Best actress         Helen Hayes  The Sin of Madelon Claudet   \n",
       "..       ...           ...                 ...                         ...   \n",
       "179     2015    Best actor      Eddie Redmayne    The Theory of Everything   \n",
       "180     2016    Best actor  Leonardo Di Caprio                The Revenant   \n",
       "181     2017    Best actor       Casey Affleck        Manchester by the Sa   \n",
       "182     2018    Best actor         Gary Oldman                Darkest Hour   \n",
       "183     2019    Best actor          Rami Malek           Bohemian Rhapsody   \n",
       "\n",
       "    age       birth_pl  birth_date  \n",
       "0    22   Pennsylvania  1906-10-06  \n",
       "1    37         Canada  1892-04-08  \n",
       "2    28         Canada  1902-08-10  \n",
       "3    63         Canada  1868-11-09  \n",
       "4    32  Washington DC  1900-10-10  \n",
       "..   ..            ...         ...  \n",
       "179  32        England  1982-01-06  \n",
       "180  41     California  1974-11-11  \n",
       "181  41  Massachusetts  1975-08-12  \n",
       "182  59        England  1958-03-21  \n",
       "183  37     California  1981-05-12  \n",
       "\n",
       "[184 rows x 7 columns]"
      ]
     },
     "metadata": {},
     "output_type": "display_data"
    }
   ],
   "source": [
    "import requests\n",
    "url = 'https://www.openintro.org/data/tab-delimited/oscars.txt'\n",
    "req = requests.get(url, headers={\"User-Agent\": \"Notebook\"})\n",
    "#Create a list with the TXT results and use the \\n to separate the rows\n",
    "Oscar_list=req.text.split('\\n')\n",
    "Oscar_data=[]\n",
    "for i,row in enumerate(Oscar_list):\n",
    "    if i==0:\n",
    "        col_names=row.split('\\t')\n",
    "    else:\n",
    "        Oscar_data.append(row.split('\\t'))\n",
    "#Creation of the dataframe\n",
    "Oscars=pd.DataFrame(Oscar_data, columns=col_names)\n",
    "#Remove of the last row\n",
    "Oscars.drop(index=Oscars.index[-1], axis=0, inplace=True)\n",
    "#Removal of unnecessary columns\n",
    "Oscars.drop(columns=['oscar_no', 'birth_mo','birth_d', 'birth_y'], inplace=True)\n",
    "display(Oscars)"
   ]
  },
  {
   "cell_type": "markdown",
   "id": "8b475d93",
   "metadata": {},
   "source": [
    "List of actors/actresses that were awarded more than 1 Oscar."
   ]
  },
  {
   "cell_type": "code",
   "execution_count": 63,
   "id": "3081ce16",
   "metadata": {
    "scrolled": true
   },
   "outputs": [
    {
     "data": {
      "text/plain": [
       "Katharine Hepburn      4\n",
       "Daniel Day-Lewis       3\n",
       "Sally Field            2\n",
       "Olivia de Havilland    2\n",
       "Meryl Streep           2\n",
       "Jack Nicholson         2\n",
       "Frances McDormand      2\n",
       "Jane Fonda             2\n",
       "Glenda Jackson         2\n",
       "Hilary Swank           2\n",
       "Tom Hanks              2\n",
       "Sean Penn              2\n",
       "Jodie Foster           2\n",
       "Fredric March          2\n",
       "Dustin Hoffman         2\n",
       "Ingrid Bergman         2\n",
       "Marlon Brando          2\n",
       "Vivien Leigh           2\n",
       "Luise Rainer           2\n",
       "Bette Davis            2\n",
       "Gary Cooper            2\n",
       "Spencer Tracy          2\n",
       "Name: name, dtype: int64"
      ]
     },
     "execution_count": 63,
     "metadata": {},
     "output_type": "execute_result"
    }
   ],
   "source": [
    "top10actors = Oscars['name'].value_counts()\n",
    "top10actors = top10actors[top10actors.values>1]\n",
    "top10actors"
   ]
  },
  {
   "cell_type": "markdown",
   "id": "562882e7",
   "metadata": {},
   "source": [
    "In which movies did the best actor/actress Oscar awards take place?"
   ]
  },
  {
   "cell_type": "code",
   "execution_count": 64,
   "id": "faaa22cd",
   "metadata": {},
   "outputs": [
    {
     "data": {
      "text/html": [
       "<div>\n",
       "<style scoped>\n",
       "    .dataframe tbody tr th:only-of-type {\n",
       "        vertical-align: middle;\n",
       "    }\n",
       "\n",
       "    .dataframe tbody tr th {\n",
       "        vertical-align: top;\n",
       "    }\n",
       "\n",
       "    .dataframe thead th {\n",
       "        text-align: right;\n",
       "    }\n",
       "</style>\n",
       "<table border=\"1\" class=\"dataframe\">\n",
       "  <thead>\n",
       "    <tr style=\"text-align: right;\">\n",
       "      <th></th>\n",
       "      <th></th>\n",
       "      <th>oscar_yr</th>\n",
       "      <th>award</th>\n",
       "    </tr>\n",
       "    <tr>\n",
       "      <th>name</th>\n",
       "      <th>movie</th>\n",
       "      <th></th>\n",
       "      <th></th>\n",
       "    </tr>\n",
       "  </thead>\n",
       "  <tbody>\n",
       "    <tr>\n",
       "      <th rowspan=\"2\" valign=\"top\">Bette Davis</th>\n",
       "      <th>Dangerous</th>\n",
       "      <td>1936</td>\n",
       "      <td>Best actress</td>\n",
       "    </tr>\n",
       "    <tr>\n",
       "      <th>Jezebel</th>\n",
       "      <td>1939</td>\n",
       "      <td>Best actress</td>\n",
       "    </tr>\n",
       "    <tr>\n",
       "      <th rowspan=\"3\" valign=\"top\">Daniel Day-Lewis</th>\n",
       "      <th>My Left Foot</th>\n",
       "      <td>1990</td>\n",
       "      <td>Best actor</td>\n",
       "    </tr>\n",
       "    <tr>\n",
       "      <th>There Will Be Blood</th>\n",
       "      <td>2008</td>\n",
       "      <td>Best actor</td>\n",
       "    </tr>\n",
       "    <tr>\n",
       "      <th>Lincoln</th>\n",
       "      <td>2013</td>\n",
       "      <td>Best actor</td>\n",
       "    </tr>\n",
       "    <tr>\n",
       "      <th rowspan=\"2\" valign=\"top\">Dustin Hoffman</th>\n",
       "      <th>Kramer vs. Kramer</th>\n",
       "      <td>1980</td>\n",
       "      <td>Best actor</td>\n",
       "    </tr>\n",
       "    <tr>\n",
       "      <th>Rain Man</th>\n",
       "      <td>1989</td>\n",
       "      <td>Best actor</td>\n",
       "    </tr>\n",
       "    <tr>\n",
       "      <th rowspan=\"2\" valign=\"top\">Frances McDormand</th>\n",
       "      <th>Fargo</th>\n",
       "      <td>1997</td>\n",
       "      <td>Best actress</td>\n",
       "    </tr>\n",
       "    <tr>\n",
       "      <th>Three Billboards Outside of Ebbing Missouri</th>\n",
       "      <td>2018</td>\n",
       "      <td>Best actress</td>\n",
       "    </tr>\n",
       "    <tr>\n",
       "      <th rowspan=\"2\" valign=\"top\">Fredric March</th>\n",
       "      <th>Dr. Jekyll and Mr. Hyde</th>\n",
       "      <td>1933</td>\n",
       "      <td>Best actor</td>\n",
       "    </tr>\n",
       "    <tr>\n",
       "      <th>The Best Years of Our Lives</th>\n",
       "      <td>1947</td>\n",
       "      <td>Best actor</td>\n",
       "    </tr>\n",
       "    <tr>\n",
       "      <th rowspan=\"2\" valign=\"top\">Gary Cooper</th>\n",
       "      <th>Sergeant York</th>\n",
       "      <td>1942</td>\n",
       "      <td>Best actor</td>\n",
       "    </tr>\n",
       "    <tr>\n",
       "      <th>High Noon</th>\n",
       "      <td>1953</td>\n",
       "      <td>Best actor</td>\n",
       "    </tr>\n",
       "    <tr>\n",
       "      <th rowspan=\"2\" valign=\"top\">Glenda Jackson</th>\n",
       "      <th>Women In Love</th>\n",
       "      <td>1971</td>\n",
       "      <td>Best actress</td>\n",
       "    </tr>\n",
       "    <tr>\n",
       "      <th>A Touch of Class</th>\n",
       "      <td>1974</td>\n",
       "      <td>Best actress</td>\n",
       "    </tr>\n",
       "    <tr>\n",
       "      <th rowspan=\"2\" valign=\"top\">Hilary Swank</th>\n",
       "      <th>Boys Don't Cry</th>\n",
       "      <td>2000</td>\n",
       "      <td>Best actress</td>\n",
       "    </tr>\n",
       "    <tr>\n",
       "      <th>Million Dollar Baby</th>\n",
       "      <td>2005</td>\n",
       "      <td>Best actress</td>\n",
       "    </tr>\n",
       "    <tr>\n",
       "      <th rowspan=\"2\" valign=\"top\">Ingrid Bergman</th>\n",
       "      <th>Gaslight</th>\n",
       "      <td>1945</td>\n",
       "      <td>Best actress</td>\n",
       "    </tr>\n",
       "    <tr>\n",
       "      <th>Anastasia</th>\n",
       "      <td>1957</td>\n",
       "      <td>Best actress</td>\n",
       "    </tr>\n",
       "    <tr>\n",
       "      <th rowspan=\"2\" valign=\"top\">Jack Nicholson</th>\n",
       "      <th>One Flew Over The Cuckoo's Nes</th>\n",
       "      <td>1976</td>\n",
       "      <td>Best actor</td>\n",
       "    </tr>\n",
       "    <tr>\n",
       "      <th>As Good as It Gets</th>\n",
       "      <td>1998</td>\n",
       "      <td>Best actor</td>\n",
       "    </tr>\n",
       "    <tr>\n",
       "      <th rowspan=\"2\" valign=\"top\">Jane Fonda</th>\n",
       "      <th>Klute</th>\n",
       "      <td>1972</td>\n",
       "      <td>Best actress</td>\n",
       "    </tr>\n",
       "    <tr>\n",
       "      <th>Coming Home</th>\n",
       "      <td>1979</td>\n",
       "      <td>Best actress</td>\n",
       "    </tr>\n",
       "    <tr>\n",
       "      <th rowspan=\"2\" valign=\"top\">Jodie Foster</th>\n",
       "      <th>The Accused</th>\n",
       "      <td>1989</td>\n",
       "      <td>Best actress</td>\n",
       "    </tr>\n",
       "    <tr>\n",
       "      <th>The Silence of the Lambs</th>\n",
       "      <td>1992</td>\n",
       "      <td>Best actress</td>\n",
       "    </tr>\n",
       "    <tr>\n",
       "      <th rowspan=\"4\" valign=\"top\">Katharine Hepburn</th>\n",
       "      <th>Morning Glory</th>\n",
       "      <td>1934</td>\n",
       "      <td>Best actress</td>\n",
       "    </tr>\n",
       "    <tr>\n",
       "      <th>Guess Who's Coming to Dinner</th>\n",
       "      <td>1968</td>\n",
       "      <td>Best actress</td>\n",
       "    </tr>\n",
       "    <tr>\n",
       "      <th>The Lion in Winter</th>\n",
       "      <td>1969</td>\n",
       "      <td>Best actress</td>\n",
       "    </tr>\n",
       "    <tr>\n",
       "      <th>On Golden Pond</th>\n",
       "      <td>1982</td>\n",
       "      <td>Best actress</td>\n",
       "    </tr>\n",
       "    <tr>\n",
       "      <th rowspan=\"2\" valign=\"top\">Luise Rainer</th>\n",
       "      <th>The Great Zeigfeld</th>\n",
       "      <td>1937</td>\n",
       "      <td>Best actress</td>\n",
       "    </tr>\n",
       "    <tr>\n",
       "      <th>The Good Earth</th>\n",
       "      <td>1938</td>\n",
       "      <td>Best actress</td>\n",
       "    </tr>\n",
       "    <tr>\n",
       "      <th rowspan=\"2\" valign=\"top\">Marlon Brando</th>\n",
       "      <th>On The Waterfront</th>\n",
       "      <td>1955</td>\n",
       "      <td>Best actor</td>\n",
       "    </tr>\n",
       "    <tr>\n",
       "      <th>The Godfather</th>\n",
       "      <td>1973</td>\n",
       "      <td>Best actor</td>\n",
       "    </tr>\n",
       "    <tr>\n",
       "      <th rowspan=\"2\" valign=\"top\">Meryl Streep</th>\n",
       "      <th>Sophies Choice</th>\n",
       "      <td>1983</td>\n",
       "      <td>Best actress</td>\n",
       "    </tr>\n",
       "    <tr>\n",
       "      <th>The Iron Lady</th>\n",
       "      <td>2012</td>\n",
       "      <td>Best actress</td>\n",
       "    </tr>\n",
       "    <tr>\n",
       "      <th rowspan=\"2\" valign=\"top\">Olivia de Havilland</th>\n",
       "      <th>To Each His Own</th>\n",
       "      <td>1947</td>\n",
       "      <td>Best actress</td>\n",
       "    </tr>\n",
       "    <tr>\n",
       "      <th>The Heiress</th>\n",
       "      <td>1950</td>\n",
       "      <td>Best actress</td>\n",
       "    </tr>\n",
       "    <tr>\n",
       "      <th rowspan=\"2\" valign=\"top\">Sally Field</th>\n",
       "      <th>Norma Rae</th>\n",
       "      <td>1980</td>\n",
       "      <td>Best actress</td>\n",
       "    </tr>\n",
       "    <tr>\n",
       "      <th>Places in the Heart</th>\n",
       "      <td>1985</td>\n",
       "      <td>Best actress</td>\n",
       "    </tr>\n",
       "    <tr>\n",
       "      <th rowspan=\"2\" valign=\"top\">Sean Penn</th>\n",
       "      <th>Mystic River</th>\n",
       "      <td>2004</td>\n",
       "      <td>Best actor</td>\n",
       "    </tr>\n",
       "    <tr>\n",
       "      <th>Milk</th>\n",
       "      <td>2009</td>\n",
       "      <td>Best actor</td>\n",
       "    </tr>\n",
       "    <tr>\n",
       "      <th rowspan=\"2\" valign=\"top\">Spencer Tracy</th>\n",
       "      <th>Captains Courageous</th>\n",
       "      <td>1938</td>\n",
       "      <td>Best actor</td>\n",
       "    </tr>\n",
       "    <tr>\n",
       "      <th>Boys Town</th>\n",
       "      <td>1939</td>\n",
       "      <td>Best actor</td>\n",
       "    </tr>\n",
       "    <tr>\n",
       "      <th rowspan=\"2\" valign=\"top\">Tom Hanks</th>\n",
       "      <th>Philadelphia</th>\n",
       "      <td>1994</td>\n",
       "      <td>Best actor</td>\n",
       "    </tr>\n",
       "    <tr>\n",
       "      <th>Forest Gump</th>\n",
       "      <td>1995</td>\n",
       "      <td>Best actor</td>\n",
       "    </tr>\n",
       "    <tr>\n",
       "      <th rowspan=\"2\" valign=\"top\">Vivien Leigh</th>\n",
       "      <th>Gone With the Wind</th>\n",
       "      <td>1940</td>\n",
       "      <td>Best actress</td>\n",
       "    </tr>\n",
       "    <tr>\n",
       "      <th>A Streetcar Named Desire</th>\n",
       "      <td>1952</td>\n",
       "      <td>Best actress</td>\n",
       "    </tr>\n",
       "  </tbody>\n",
       "</table>\n",
       "</div>"
      ],
      "text/plain": [
       "                                                                oscar_yr  \\\n",
       "name                movie                                                  \n",
       "Bette Davis         Dangerous                                       1936   \n",
       "                    Jezebel                                         1939   \n",
       "Daniel Day-Lewis    My Left Foot                                    1990   \n",
       "                    There Will Be Blood                             2008   \n",
       "                    Lincoln                                         2013   \n",
       "Dustin Hoffman      Kramer vs. Kramer                               1980   \n",
       "                    Rain Man                                        1989   \n",
       "Frances McDormand   Fargo                                           1997   \n",
       "                    Three Billboards Outside of Ebbing Missouri     2018   \n",
       "Fredric March       Dr. Jekyll and Mr. Hyde                         1933   \n",
       "                    The Best Years of Our Lives                     1947   \n",
       "Gary Cooper         Sergeant York                                   1942   \n",
       "                    High Noon                                       1953   \n",
       "Glenda Jackson      Women In Love                                   1971   \n",
       "                    A Touch of Class                                1974   \n",
       "Hilary Swank        Boys Don't Cry                                  2000   \n",
       "                    Million Dollar Baby                             2005   \n",
       "Ingrid Bergman      Gaslight                                        1945   \n",
       "                    Anastasia                                       1957   \n",
       "Jack Nicholson      One Flew Over The Cuckoo's Nes                  1976   \n",
       "                    As Good as It Gets                              1998   \n",
       "Jane Fonda          Klute                                           1972   \n",
       "                    Coming Home                                     1979   \n",
       "Jodie Foster        The Accused                                     1989   \n",
       "                    The Silence of the Lambs                        1992   \n",
       "Katharine Hepburn   Morning Glory                                   1934   \n",
       "                    Guess Who's Coming to Dinner                    1968   \n",
       "                    The Lion in Winter                              1969   \n",
       "                    On Golden Pond                                  1982   \n",
       "Luise Rainer        The Great Zeigfeld                              1937   \n",
       "                    The Good Earth                                  1938   \n",
       "Marlon Brando       On The Waterfront                               1955   \n",
       "                    The Godfather                                   1973   \n",
       "Meryl Streep        Sophies Choice                                  1983   \n",
       "                    The Iron Lady                                   2012   \n",
       "Olivia de Havilland To Each His Own                                 1947   \n",
       "                    The Heiress                                     1950   \n",
       "Sally Field         Norma Rae                                       1980   \n",
       "                    Places in the Heart                             1985   \n",
       "Sean Penn           Mystic River                                    2004   \n",
       "                    Milk                                            2009   \n",
       "Spencer Tracy       Captains Courageous                             1938   \n",
       "                    Boys Town                                       1939   \n",
       "Tom Hanks           Philadelphia                                    1994   \n",
       "                    Forest Gump                                     1995   \n",
       "Vivien Leigh        Gone With the Wind                              1940   \n",
       "                    A Streetcar Named Desire                        1952   \n",
       "\n",
       "                                                                        award  \n",
       "name                movie                                                      \n",
       "Bette Davis         Dangerous                                    Best actress  \n",
       "                    Jezebel                                      Best actress  \n",
       "Daniel Day-Lewis    My Left Foot                                   Best actor  \n",
       "                    There Will Be Blood                            Best actor  \n",
       "                    Lincoln                                        Best actor  \n",
       "Dustin Hoffman      Kramer vs. Kramer                              Best actor  \n",
       "                    Rain Man                                       Best actor  \n",
       "Frances McDormand   Fargo                                        Best actress  \n",
       "                    Three Billboards Outside of Ebbing Missouri  Best actress  \n",
       "Fredric March       Dr. Jekyll and Mr. Hyde                        Best actor  \n",
       "                    The Best Years of Our Lives                    Best actor  \n",
       "Gary Cooper         Sergeant York                                  Best actor  \n",
       "                    High Noon                                      Best actor  \n",
       "Glenda Jackson      Women In Love                                Best actress  \n",
       "                    A Touch of Class                             Best actress  \n",
       "Hilary Swank        Boys Don't Cry                               Best actress  \n",
       "                    Million Dollar Baby                          Best actress  \n",
       "Ingrid Bergman      Gaslight                                     Best actress  \n",
       "                    Anastasia                                    Best actress  \n",
       "Jack Nicholson      One Flew Over The Cuckoo's Nes                 Best actor  \n",
       "                    As Good as It Gets                             Best actor  \n",
       "Jane Fonda          Klute                                        Best actress  \n",
       "                    Coming Home                                  Best actress  \n",
       "Jodie Foster        The Accused                                  Best actress  \n",
       "                    The Silence of the Lambs                     Best actress  \n",
       "Katharine Hepburn   Morning Glory                                Best actress  \n",
       "                    Guess Who's Coming to Dinner                 Best actress  \n",
       "                    The Lion in Winter                           Best actress  \n",
       "                    On Golden Pond                               Best actress  \n",
       "Luise Rainer        The Great Zeigfeld                           Best actress  \n",
       "                    The Good Earth                               Best actress  \n",
       "Marlon Brando       On The Waterfront                              Best actor  \n",
       "                    The Godfather                                  Best actor  \n",
       "Meryl Streep        Sophies Choice                               Best actress  \n",
       "                    The Iron Lady                                Best actress  \n",
       "Olivia de Havilland To Each His Own                              Best actress  \n",
       "                    The Heiress                                  Best actress  \n",
       "Sally Field         Norma Rae                                    Best actress  \n",
       "                    Places in the Heart                          Best actress  \n",
       "Sean Penn           Mystic River                                   Best actor  \n",
       "                    Milk                                           Best actor  \n",
       "Spencer Tracy       Captains Courageous                            Best actor  \n",
       "                    Boys Town                                      Best actor  \n",
       "Tom Hanks           Philadelphia                                   Best actor  \n",
       "                    Forest Gump                                    Best actor  \n",
       "Vivien Leigh        Gone With the Wind                           Best actress  \n",
       "                    A Streetcar Named Desire                     Best actress  "
      ]
     },
     "execution_count": 64,
     "metadata": {},
     "output_type": "execute_result"
    }
   ],
   "source": [
    "index=[]\n",
    "for i,name in enumerate(Oscars['name']):\n",
    "    if name in top10actors.index:\n",
    "        index.append(i)\n",
    "Oscars.iloc[index]\n",
    "grouped=Oscars.iloc[index]\n",
    "grouped=grouped.loc[:,['name','movie','oscar_yr','award']].groupby(['name','movie'])\n",
    "grouped.first().sort_values(['name','oscar_yr'])"
   ]
  },
  {
   "cell_type": "markdown",
   "id": "633a5ab9",
   "metadata": {},
   "source": [
    "List of movies that won the award of best actor and best actress."
   ]
  },
  {
   "cell_type": "code",
   "execution_count": 65,
   "id": "c4b4d3d0",
   "metadata": {},
   "outputs": [
    {
     "data": {
      "text/plain": [
       "Network                     2\n",
       "Coming Home                 2\n",
       "It Happened One Night       2\n",
       "On Golden Pond              2\n",
       "The Silence of the Lambs    2\n",
       "Name: movie, dtype: int64"
      ]
     },
     "execution_count": 65,
     "metadata": {},
     "output_type": "execute_result"
    }
   ],
   "source": [
    "movies_2_oscars=Oscars['movie'].value_counts()\n",
    "movies_2_oscars=movies_2_oscars[movies_2_oscars.values==2]\n",
    "movies_2_oscars"
   ]
  },
  {
   "cell_type": "markdown",
   "id": "a3910e0e",
   "metadata": {},
   "source": [
    "Which actor and actress was awarded the Oscar:"
   ]
  },
  {
   "cell_type": "code",
   "execution_count": 66,
   "id": "8e197a6a",
   "metadata": {},
   "outputs": [
    {
     "data": {
      "text/html": [
       "<div>\n",
       "<style scoped>\n",
       "    .dataframe tbody tr th:only-of-type {\n",
       "        vertical-align: middle;\n",
       "    }\n",
       "\n",
       "    .dataframe tbody tr th {\n",
       "        vertical-align: top;\n",
       "    }\n",
       "\n",
       "    .dataframe thead th {\n",
       "        text-align: right;\n",
       "    }\n",
       "</style>\n",
       "<table border=\"1\" class=\"dataframe\">\n",
       "  <thead>\n",
       "    <tr style=\"text-align: right;\">\n",
       "      <th></th>\n",
       "      <th>oscar_yr</th>\n",
       "      <th>award</th>\n",
       "      <th>name</th>\n",
       "      <th>movie</th>\n",
       "    </tr>\n",
       "  </thead>\n",
       "  <tbody>\n",
       "    <tr>\n",
       "      <th>6</th>\n",
       "      <td>1935</td>\n",
       "      <td>Best actress</td>\n",
       "      <td>Claudette Colbert</td>\n",
       "      <td>It Happened One Night</td>\n",
       "    </tr>\n",
       "    <tr>\n",
       "      <th>92</th>\n",
       "      <td>1935</td>\n",
       "      <td>Best actor</td>\n",
       "      <td>Clark Gable</td>\n",
       "      <td>It Happened One Night</td>\n",
       "    </tr>\n",
       "    <tr>\n",
       "      <th>49</th>\n",
       "      <td>1977</td>\n",
       "      <td>Best actress</td>\n",
       "      <td>Faye Dunaway</td>\n",
       "      <td>Network</td>\n",
       "    </tr>\n",
       "    <tr>\n",
       "      <th>134</th>\n",
       "      <td>1977</td>\n",
       "      <td>Best actor</td>\n",
       "      <td>Peter Finch</td>\n",
       "      <td>Network</td>\n",
       "    </tr>\n",
       "    <tr>\n",
       "      <th>51</th>\n",
       "      <td>1979</td>\n",
       "      <td>Best actress</td>\n",
       "      <td>Jane Fonda</td>\n",
       "      <td>Coming Home</td>\n",
       "    </tr>\n",
       "    <tr>\n",
       "      <th>136</th>\n",
       "      <td>1979</td>\n",
       "      <td>Best actor</td>\n",
       "      <td>Jon Voight</td>\n",
       "      <td>Coming Home</td>\n",
       "    </tr>\n",
       "    <tr>\n",
       "      <th>54</th>\n",
       "      <td>1982</td>\n",
       "      <td>Best actress</td>\n",
       "      <td>Katharine Hepburn</td>\n",
       "      <td>On Golden Pond</td>\n",
       "    </tr>\n",
       "    <tr>\n",
       "      <th>139</th>\n",
       "      <td>1982</td>\n",
       "      <td>Best actor</td>\n",
       "      <td>Henry Fonda</td>\n",
       "      <td>On Golden Pond</td>\n",
       "    </tr>\n",
       "    <tr>\n",
       "      <th>64</th>\n",
       "      <td>1992</td>\n",
       "      <td>Best actress</td>\n",
       "      <td>Jodie Foster</td>\n",
       "      <td>The Silence of the Lambs</td>\n",
       "    </tr>\n",
       "    <tr>\n",
       "      <th>149</th>\n",
       "      <td>1992</td>\n",
       "      <td>Best actor</td>\n",
       "      <td>Anthony Hopkins</td>\n",
       "      <td>The Silence of the Lambs</td>\n",
       "    </tr>\n",
       "  </tbody>\n",
       "</table>\n",
       "</div>"
      ],
      "text/plain": [
       "    oscar_yr         award               name                     movie\n",
       "6       1935  Best actress  Claudette Colbert     It Happened One Night\n",
       "92      1935    Best actor        Clark Gable     It Happened One Night\n",
       "49      1977  Best actress       Faye Dunaway                   Network\n",
       "134     1977    Best actor        Peter Finch                   Network\n",
       "51      1979  Best actress         Jane Fonda               Coming Home\n",
       "136     1979    Best actor         Jon Voight               Coming Home\n",
       "54      1982  Best actress  Katharine Hepburn            On Golden Pond\n",
       "139     1982    Best actor        Henry Fonda            On Golden Pond\n",
       "64      1992  Best actress       Jodie Foster  The Silence of the Lambs\n",
       "149     1992    Best actor    Anthony Hopkins  The Silence of the Lambs"
      ]
     },
     "execution_count": 66,
     "metadata": {},
     "output_type": "execute_result"
    }
   ],
   "source": [
    "index=[]\n",
    "for i,movie in enumerate(Oscars['movie']):\n",
    "    if movie in movies_2_oscars.index:\n",
    "        index.append(i)\n",
    "Oscars.iloc[index].sort_values('oscar_yr')[['oscar_yr','award','name','movie']]"
   ]
  }
 ],
 "metadata": {
  "kernelspec": {
   "display_name": "Python 3 (ipykernel)",
   "language": "python",
   "name": "python3"
  },
  "language_info": {
   "codemirror_mode": {
    "name": "ipython",
    "version": 3
   },
   "file_extension": ".py",
   "mimetype": "text/x-python",
   "name": "python",
   "nbconvert_exporter": "python",
   "pygments_lexer": "ipython3",
   "version": "3.9.15"
  }
 },
 "nbformat": 4,
 "nbformat_minor": 5
}
